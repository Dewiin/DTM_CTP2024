{
 "cells": [
  {
   "cell_type": "markdown",
   "metadata": {},
   "source": [
    "# YuNet face detection"
   ]
  },
  {
   "cell_type": "code",
   "execution_count": 3,
   "metadata": {},
   "outputs": [],
   "source": [
    "import numpy as np\n",
    "import random\n",
    "import cv2\n",
    "import os\n",
    "\n",
    "from ultralytics import YOLO"
   ]
  },
  {
   "cell_type": "code",
   "execution_count": null,
   "metadata": {},
   "outputs": [],
   "source": [
    "# Create the YuNet face detector\n",
    "img_size = 320\n",
    "yunet_path = './yunet_model/face_detection_yunet_2023mar.onnx'\n",
    "detector = cv2.FaceDetectorYN_create(yunet_path, \"\", (img_size, img_size), score_threshold=0.5)\n",
    "\n",
    "# Directory where images are stored\n",
    "image_dir = 'datasets/Acne_Detection/'\n",
    "output_dir = 'datasets/iso_Acne_Detection/'\n",
    "\n",
    "# Create output directory if it doesn't exist\n",
    "os.makedirs(output_dir, exist_ok=True)"
   ]
  },
  {
   "cell_type": "code",
   "execution_count": null,
   "metadata": {},
   "outputs": [],
   "source": [
    "# List all image files in the directory\n",
    "all_images = [file for file in os.listdir(image_dir) if file.endswith(('.jpg', '.jpeg', 'png'))]\n",
    "\n",
    "# Calculate the number of images to read (1/8 of total)\n",
    "# num_images_to_read = max(1, len(all_images) // 8)\n",
    "\n",
    "# Randomly sample the specified number of images\n",
    "# sampled_images = random.sample(all_images, num_images_to_read)\n",
    "\n",
    "# Count missed detections\n",
    "missed = 0"
   ]
  },
  {
   "cell_type": "code",
   "execution_count": null,
   "metadata": {},
   "outputs": [],
   "source": [
    "# Loop through each image in the directory\n",
    "for filename in all_images:\n",
    "    image_path = os.path.join(image_dir, filename)\n",
    "    image = cv2.imread(image_path)\n",
    "\n",
    "    # Resize the image to the expected input size\n",
    "    resized_image = cv2.resize(image, (img_size, img_size))\n",
    "\n",
    "    # Detect faces in the image\n",
    "    faces = detector.detect(resized_image)\n",
    "\n",
    "    # Check if faces were detected\n",
    "    if faces[1] is None: \n",
    "        missed += 1\n",
    "    else:\n",
    "        # Isolate detected faces\n",
    "        for face in faces[1]:  \n",
    "            x, y, w, h = int(face[0]), int(face[1]), int(face[2]), int(face[3])  \n",
    "            x = max(0, x)\n",
    "            y = max(0, y)\n",
    "            w = min(w, img_size-x)\n",
    "            h = min(h, img_size-y)\n",
    "\n",
    "            #crop the face \n",
    "            cropped_face = resized_image[y:y+h, x:x+w]\n",
    "\n",
    "            # Save the cropped image\n",
    "            output_path = os.path.join(output_dir, filename)\n",
    "            cv2.imwrite(output_path, cropped_face)\n",
    "  "
   ]
  },
  {
   "cell_type": "code",
   "execution_count": null,
   "metadata": {},
   "outputs": [],
   "source": [
    "sample_size = len(all_images)\n",
    "print(f\"Missed {np.round(missed/sample_size * 100, 2)} % of images.\")"
   ]
  },
  {
   "cell_type": "markdown",
   "metadata": {},
   "source": [
    "# YOLOv8 Model"
   ]
  },
  {
   "cell_type": "code",
   "execution_count": 5,
   "metadata": {},
   "outputs": [
    {
     "name": "stdout",
     "output_type": "stream",
     "text": [
      "New https://pypi.org/project/ultralytics/8.3.26 available 😃 Update with 'pip install -U ultralytics'\n",
      "Ultralytics 8.3.23 🚀 Python-3.12.7 torch-2.5.1 CPU (Apple M1)\n",
      "\u001b[34m\u001b[1mengine/trainer: \u001b[0mtask=detect, mode=train, model=models/yolov8n.pt, data=datasets/kaggle-acne/data.yaml, epochs=100, time=None, patience=100, batch=4, imgsz=320, save=True, save_period=-1, cache=False, device=None, workers=8, project=None, name=train5, exist_ok=False, pretrained=True, optimizer=auto, verbose=True, seed=0, deterministic=True, single_cls=False, rect=False, cos_lr=False, close_mosaic=10, resume=False, amp=True, fraction=1.0, profile=False, freeze=None, multi_scale=False, overlap_mask=True, mask_ratio=4, dropout=0.0, val=True, split=val, save_json=False, save_hybrid=False, conf=0.4, iou=0.3, max_det=10, half=False, dnn=False, plots=True, source=None, vid_stride=1, stream_buffer=False, visualize=False, augment=False, agnostic_nms=False, classes=None, retina_masks=False, embed=None, show=False, save_frames=False, save_txt=False, save_conf=False, save_crop=False, show_labels=True, show_conf=True, show_boxes=True, line_width=None, format=torchscript, keras=False, optimize=False, int8=False, dynamic=False, simplify=True, opset=None, workspace=4, nms=True, lr0=0.01, lrf=0.01, momentum=0.937, weight_decay=0.0005, warmup_epochs=3.0, warmup_momentum=0.8, warmup_bias_lr=0.1, box=7.5, cls=0.5, dfl=1.5, pose=12.0, kobj=1.0, label_smoothing=0.0, nbs=64, hsv_h=0.03, hsv_s=0.9, hsv_v=0.6, degrees=0.0, translate=0.1, scale=0.5, shear=0.0, perspective=0.0, flipud=0.0, fliplr=0.5, bgr=0.0, mosaic=1.0, mixup=0.0, copy_paste=0.0, copy_paste_mode=flip, auto_augment=randaugment, erasing=0.4, crop_fraction=1.0, cfg=None, tracker=botsort.yaml, save_dir=runs/detect/train5\n",
      "Overriding model.yaml nc=80 with nc=1\n",
      "\n",
      "                   from  n    params  module                                       arguments                     \n",
      "  0                  -1  1       464  ultralytics.nn.modules.conv.Conv             [3, 16, 3, 2]                 \n",
      "  1                  -1  1      4672  ultralytics.nn.modules.conv.Conv             [16, 32, 3, 2]                \n",
      "  2                  -1  1      7360  ultralytics.nn.modules.block.C2f             [32, 32, 1, True]             \n",
      "  3                  -1  1     18560  ultralytics.nn.modules.conv.Conv             [32, 64, 3, 2]                \n",
      "  4                  -1  2     49664  ultralytics.nn.modules.block.C2f             [64, 64, 2, True]             \n",
      "  5                  -1  1     73984  ultralytics.nn.modules.conv.Conv             [64, 128, 3, 2]               \n",
      "  6                  -1  2    197632  ultralytics.nn.modules.block.C2f             [128, 128, 2, True]           \n",
      "  7                  -1  1    295424  ultralytics.nn.modules.conv.Conv             [128, 256, 3, 2]              \n",
      "  8                  -1  1    460288  ultralytics.nn.modules.block.C2f             [256, 256, 1, True]           \n",
      "  9                  -1  1    164608  ultralytics.nn.modules.block.SPPF            [256, 256, 5]                 \n",
      " 10                  -1  1         0  torch.nn.modules.upsampling.Upsample         [None, 2, 'nearest']          \n",
      " 11             [-1, 6]  1         0  ultralytics.nn.modules.conv.Concat           [1]                           \n",
      " 12                  -1  1    148224  ultralytics.nn.modules.block.C2f             [384, 128, 1]                 \n",
      " 13                  -1  1         0  torch.nn.modules.upsampling.Upsample         [None, 2, 'nearest']          \n",
      " 14             [-1, 4]  1         0  ultralytics.nn.modules.conv.Concat           [1]                           \n",
      " 15                  -1  1     37248  ultralytics.nn.modules.block.C2f             [192, 64, 1]                  \n",
      " 16                  -1  1     36992  ultralytics.nn.modules.conv.Conv             [64, 64, 3, 2]                \n",
      " 17            [-1, 12]  1         0  ultralytics.nn.modules.conv.Concat           [1]                           \n",
      " 18                  -1  1    123648  ultralytics.nn.modules.block.C2f             [192, 128, 1]                 \n",
      " 19                  -1  1    147712  ultralytics.nn.modules.conv.Conv             [128, 128, 3, 2]              \n",
      " 20             [-1, 9]  1         0  ultralytics.nn.modules.conv.Concat           [1]                           \n",
      " 21                  -1  1    493056  ultralytics.nn.modules.block.C2f             [384, 256, 1]                 \n",
      " 22        [15, 18, 21]  1    751507  ultralytics.nn.modules.head.Detect           [1, [64, 128, 256]]           \n",
      "Model summary: 225 layers, 3,011,043 parameters, 3,011,027 gradients\n",
      "\n",
      "Transferred 319/355 items from pretrained weights\n",
      "Freezing layer 'model.22.dfl.conv.weight'\n"
     ]
    },
    {
     "name": "stderr",
     "output_type": "stream",
     "text": [
      "\u001b[34m\u001b[1mtrain: \u001b[0mScanning /Users/devinxie/Desktop/CTP-data-science-prep/DTM_CTP2024/datasets/kaggle-acne/train/labels.cache... 823 images, 12 backgrounds, 0 corrupt: 100%|██████████| 823/823 [00:00<?, ?it/s]\n",
      "\u001b[34m\u001b[1mval: \u001b[0mScanning /Users/devinxie/Desktop/CTP-data-science-prep/DTM_CTP2024/datasets/kaggle-acne/valid/labels.cache... 56 images, 0 backgrounds, 0 corrupt: 100%|██████████| 56/56 [00:00<?, ?it/s]"
     ]
    },
    {
     "name": "stdout",
     "output_type": "stream",
     "text": [
      "Plotting labels to runs/detect/train5/labels.jpg... \n"
     ]
    },
    {
     "name": "stderr",
     "output_type": "stream",
     "text": [
      "\n"
     ]
    },
    {
     "name": "stdout",
     "output_type": "stream",
     "text": [
      "\u001b[34m\u001b[1moptimizer:\u001b[0m 'optimizer=auto' found, ignoring 'lr0=0.01' and 'momentum=0.937' and determining best 'optimizer', 'lr0' and 'momentum' automatically... \n",
      "\u001b[34m\u001b[1moptimizer:\u001b[0m AdamW(lr=0.002, momentum=0.9) with parameter groups 57 weight(decay=0.0), 64 weight(decay=0.0005), 63 bias(decay=0.0)\n",
      "Image sizes 320 train, 320 val\n",
      "Using 0 dataloader workers\n",
      "Logging results to \u001b[1mruns/detect/train5\u001b[0m\n",
      "Starting training for 100 epochs...\n",
      "\n",
      "      Epoch    GPU_mem   box_loss   cls_loss   dfl_loss  Instances       Size\n"
     ]
    },
    {
     "name": "stderr",
     "output_type": "stream",
     "text": [
      "      1/100         0G       2.61      2.245      1.298         45        320: 100%|██████████| 206/206 [00:54<00:00,  3.81it/s]\n",
      "                 Class     Images  Instances      Box(P          R      mAP50  mAP50-95): 100%|██████████| 7/7 [00:01<00:00,  4.43it/s]"
     ]
    },
    {
     "name": "stdout",
     "output_type": "stream",
     "text": [
      "                   all         56        643      0.697      0.226       0.44      0.201\n"
     ]
    },
    {
     "name": "stderr",
     "output_type": "stream",
     "text": [
      "\n"
     ]
    },
    {
     "name": "stdout",
     "output_type": "stream",
     "text": [
      "\n",
      "      Epoch    GPU_mem   box_loss   cls_loss   dfl_loss  Instances       Size\n"
     ]
    },
    {
     "name": "stderr",
     "output_type": "stream",
     "text": [
      "      2/100         0G      2.383      1.671      1.195         16        320: 100%|██████████| 206/206 [00:54<00:00,  3.79it/s]\n",
      "                 Class     Images  Instances      Box(P          R      mAP50  mAP50-95): 100%|██████████| 7/7 [00:01<00:00,  4.28it/s]"
     ]
    },
    {
     "name": "stdout",
     "output_type": "stream",
     "text": [
      "                   all         56        643      0.796      0.115      0.448      0.218\n"
     ]
    },
    {
     "name": "stderr",
     "output_type": "stream",
     "text": [
      "\n"
     ]
    },
    {
     "name": "stdout",
     "output_type": "stream",
     "text": [
      "\n",
      "      Epoch    GPU_mem   box_loss   cls_loss   dfl_loss  Instances       Size\n"
     ]
    },
    {
     "name": "stderr",
     "output_type": "stream",
     "text": [
      "      3/100         0G      2.366      1.665      1.192         23        320: 100%|██████████| 206/206 [00:54<00:00,  3.79it/s]\n",
      "                 Class     Images  Instances      Box(P          R      mAP50  mAP50-95): 100%|██████████| 7/7 [00:01<00:00,  4.38it/s]"
     ]
    },
    {
     "name": "stdout",
     "output_type": "stream",
     "text": [
      "                   all         56        643      0.644      0.358      0.497       0.19\n",
      "\n",
      "      Epoch    GPU_mem   box_loss   cls_loss   dfl_loss  Instances       Size\n"
     ]
    },
    {
     "name": "stderr",
     "output_type": "stream",
     "text": [
      "\n",
      "      4/100         0G      2.351      1.608      1.187         43        320: 100%|██████████| 206/206 [00:59<00:00,  3.45it/s]\n",
      "                 Class     Images  Instances      Box(P          R      mAP50  mAP50-95): 100%|██████████| 7/7 [00:01<00:00,  4.07it/s]"
     ]
    },
    {
     "name": "stdout",
     "output_type": "stream",
     "text": [
      "                   all         56        643       0.68      0.271      0.468      0.222\n"
     ]
    },
    {
     "name": "stderr",
     "output_type": "stream",
     "text": [
      "\n"
     ]
    },
    {
     "name": "stdout",
     "output_type": "stream",
     "text": [
      "\n",
      "      Epoch    GPU_mem   box_loss   cls_loss   dfl_loss  Instances       Size\n"
     ]
    },
    {
     "name": "stderr",
     "output_type": "stream",
     "text": [
      "      5/100         0G      2.281      1.611      1.172         20        320: 100%|██████████| 206/206 [00:53<00:00,  3.84it/s]\n",
      "                 Class     Images  Instances      Box(P          R      mAP50  mAP50-95): 100%|██████████| 7/7 [00:01<00:00,  4.39it/s]"
     ]
    },
    {
     "name": "stdout",
     "output_type": "stream",
     "text": [
      "                   all         56        643      0.763      0.331      0.547      0.261\n"
     ]
    },
    {
     "name": "stderr",
     "output_type": "stream",
     "text": [
      "\n"
     ]
    },
    {
     "name": "stdout",
     "output_type": "stream",
     "text": [
      "\n",
      "      Epoch    GPU_mem   box_loss   cls_loss   dfl_loss  Instances       Size\n"
     ]
    },
    {
     "name": "stderr",
     "output_type": "stream",
     "text": [
      "      6/100         0G      2.287      1.579      1.163        124        320: 100%|██████████| 206/206 [00:54<00:00,  3.80it/s]\n",
      "                 Class     Images  Instances      Box(P          R      mAP50  mAP50-95): 100%|██████████| 7/7 [00:01<00:00,  4.43it/s]"
     ]
    },
    {
     "name": "stdout",
     "output_type": "stream",
     "text": [
      "                   all         56        643      0.691      0.261      0.471      0.207\n",
      "\n",
      "      Epoch    GPU_mem   box_loss   cls_loss   dfl_loss  Instances       Size\n"
     ]
    },
    {
     "name": "stderr",
     "output_type": "stream",
     "text": [
      "\n",
      "      7/100         0G      2.215      1.546       1.15         67        320: 100%|██████████| 206/206 [00:54<00:00,  3.78it/s]\n",
      "                 Class     Images  Instances      Box(P          R      mAP50  mAP50-95): 100%|██████████| 7/7 [00:01<00:00,  4.39it/s]"
     ]
    },
    {
     "name": "stdout",
     "output_type": "stream",
     "text": [
      "                   all         56        643      0.776      0.302      0.533      0.263\n"
     ]
    },
    {
     "name": "stderr",
     "output_type": "stream",
     "text": [
      "\n"
     ]
    },
    {
     "name": "stdout",
     "output_type": "stream",
     "text": [
      "\n",
      "      Epoch    GPU_mem   box_loss   cls_loss   dfl_loss  Instances       Size\n"
     ]
    },
    {
     "name": "stderr",
     "output_type": "stream",
     "text": [
      "      8/100         0G      2.227      1.545      1.149         43        320: 100%|██████████| 206/206 [00:53<00:00,  3.82it/s]\n",
      "                 Class     Images  Instances      Box(P          R      mAP50  mAP50-95): 100%|██████████| 7/7 [00:01<00:00,  4.41it/s]"
     ]
    },
    {
     "name": "stdout",
     "output_type": "stream",
     "text": [
      "                   all         56        643      0.894      0.157      0.526      0.267\n"
     ]
    },
    {
     "name": "stderr",
     "output_type": "stream",
     "text": [
      "\n"
     ]
    },
    {
     "name": "stdout",
     "output_type": "stream",
     "text": [
      "\n",
      "      Epoch    GPU_mem   box_loss   cls_loss   dfl_loss  Instances       Size\n"
     ]
    },
    {
     "name": "stderr",
     "output_type": "stream",
     "text": [
      "      9/100         0G      2.257      1.579      1.159         41        320: 100%|██████████| 206/206 [00:57<00:00,  3.56it/s]\n",
      "                 Class     Images  Instances      Box(P          R      mAP50  mAP50-95): 100%|██████████| 7/7 [00:01<00:00,  4.34it/s]"
     ]
    },
    {
     "name": "stdout",
     "output_type": "stream",
     "text": [
      "                   all         56        643      0.887       0.11      0.498      0.249\n",
      "\n",
      "      Epoch    GPU_mem   box_loss   cls_loss   dfl_loss  Instances       Size\n"
     ]
    },
    {
     "name": "stderr",
     "output_type": "stream",
     "text": [
      "\n",
      "     10/100         0G      2.234      1.566      1.167         88        320: 100%|██████████| 206/206 [00:54<00:00,  3.76it/s]\n",
      "                 Class     Images  Instances      Box(P          R      mAP50  mAP50-95): 100%|██████████| 7/7 [00:01<00:00,  4.25it/s]"
     ]
    },
    {
     "name": "stdout",
     "output_type": "stream",
     "text": [
      "                   all         56        643      0.697      0.341      0.525       0.25\n",
      "\n",
      "      Epoch    GPU_mem   box_loss   cls_loss   dfl_loss  Instances       Size\n"
     ]
    },
    {
     "name": "stderr",
     "output_type": "stream",
     "text": [
      "\n",
      "     11/100         0G      2.194      1.502      1.129         74        320: 100%|██████████| 206/206 [00:53<00:00,  3.84it/s]\n",
      "                 Class     Images  Instances      Box(P          R      mAP50  mAP50-95): 100%|██████████| 7/7 [00:01<00:00,  4.27it/s]"
     ]
    },
    {
     "name": "stdout",
     "output_type": "stream",
     "text": [
      "                   all         56        643      0.886      0.157      0.518      0.242\n",
      "\n",
      "      Epoch    GPU_mem   box_loss   cls_loss   dfl_loss  Instances       Size\n"
     ]
    },
    {
     "name": "stderr",
     "output_type": "stream",
     "text": [
      "\n",
      "     12/100         0G      2.211      1.504      1.134         49        320: 100%|██████████| 206/206 [00:53<00:00,  3.84it/s]\n",
      "                 Class     Images  Instances      Box(P          R      mAP50  mAP50-95): 100%|██████████| 7/7 [00:01<00:00,  4.36it/s]"
     ]
    },
    {
     "name": "stdout",
     "output_type": "stream",
     "text": [
      "                   all         56        643      0.746      0.302      0.516      0.255\n",
      "\n",
      "      Epoch    GPU_mem   box_loss   cls_loss   dfl_loss  Instances       Size\n"
     ]
    },
    {
     "name": "stderr",
     "output_type": "stream",
     "text": [
      "\n",
      "     13/100         0G      2.152      1.485      1.128         33        320: 100%|██████████| 206/206 [00:53<00:00,  3.83it/s]\n",
      "                 Class     Images  Instances      Box(P          R      mAP50  mAP50-95): 100%|██████████| 7/7 [00:01<00:00,  4.28it/s]"
     ]
    },
    {
     "name": "stdout",
     "output_type": "stream",
     "text": [
      "                   all         56        643      0.851      0.177      0.511      0.263\n",
      "\n",
      "      Epoch    GPU_mem   box_loss   cls_loss   dfl_loss  Instances       Size\n"
     ]
    },
    {
     "name": "stderr",
     "output_type": "stream",
     "text": [
      "\n",
      "     14/100         0G      2.154       1.47       1.12         52        320: 100%|██████████| 206/206 [00:54<00:00,  3.80it/s]\n",
      "                 Class     Images  Instances      Box(P          R      mAP50  mAP50-95): 100%|██████████| 7/7 [00:01<00:00,  4.23it/s]"
     ]
    },
    {
     "name": "stdout",
     "output_type": "stream",
     "text": [
      "                   all         56        643      0.702      0.348      0.521      0.246\n",
      "\n",
      "      Epoch    GPU_mem   box_loss   cls_loss   dfl_loss  Instances       Size\n"
     ]
    },
    {
     "name": "stderr",
     "output_type": "stream",
     "text": [
      "\n",
      "     15/100         0G      2.163      1.474      1.115         98        320: 100%|██████████| 206/206 [00:54<00:00,  3.81it/s]\n",
      "                 Class     Images  Instances      Box(P          R      mAP50  mAP50-95): 100%|██████████| 7/7 [00:01<00:00,  4.31it/s]"
     ]
    },
    {
     "name": "stdout",
     "output_type": "stream",
     "text": [
      "                   all         56        643      0.701      0.369      0.523      0.249\n"
     ]
    },
    {
     "name": "stderr",
     "output_type": "stream",
     "text": [
      "\n"
     ]
    },
    {
     "name": "stdout",
     "output_type": "stream",
     "text": [
      "\n",
      "      Epoch    GPU_mem   box_loss   cls_loss   dfl_loss  Instances       Size\n"
     ]
    },
    {
     "name": "stderr",
     "output_type": "stream",
     "text": [
      "     16/100         0G       2.15      1.475      1.114         80        320: 100%|██████████| 206/206 [00:54<00:00,  3.81it/s]\n",
      "                 Class     Images  Instances      Box(P          R      mAP50  mAP50-95): 100%|██████████| 7/7 [00:01<00:00,  4.29it/s]"
     ]
    },
    {
     "name": "stdout",
     "output_type": "stream",
     "text": [
      "                   all         56        643      0.788      0.323      0.554      0.276\n"
     ]
    },
    {
     "name": "stderr",
     "output_type": "stream",
     "text": [
      "\n"
     ]
    },
    {
     "name": "stdout",
     "output_type": "stream",
     "text": [
      "\n",
      "      Epoch    GPU_mem   box_loss   cls_loss   dfl_loss  Instances       Size\n"
     ]
    },
    {
     "name": "stderr",
     "output_type": "stream",
     "text": [
      "     17/100         0G      2.156       1.47      1.116         28        320: 100%|██████████| 206/206 [00:56<00:00,  3.62it/s]\n",
      "                 Class     Images  Instances      Box(P          R      mAP50  mAP50-95): 100%|██████████| 7/7 [00:01<00:00,  4.28it/s]"
     ]
    },
    {
     "name": "stdout",
     "output_type": "stream",
     "text": [
      "                   all         56        643      0.684      0.353       0.51      0.255\n"
     ]
    },
    {
     "name": "stderr",
     "output_type": "stream",
     "text": [
      "\n"
     ]
    },
    {
     "name": "stdout",
     "output_type": "stream",
     "text": [
      "\n",
      "      Epoch    GPU_mem   box_loss   cls_loss   dfl_loss  Instances       Size\n"
     ]
    },
    {
     "name": "stderr",
     "output_type": "stream",
     "text": [
      "     18/100         0G      2.139      1.461      1.127         52        320: 100%|██████████| 206/206 [00:53<00:00,  3.83it/s]\n",
      "                 Class     Images  Instances      Box(P          R      mAP50  mAP50-95): 100%|██████████| 7/7 [00:01<00:00,  4.32it/s]"
     ]
    },
    {
     "name": "stdout",
     "output_type": "stream",
     "text": [
      "                   all         56        643      0.861      0.154      0.505      0.258\n",
      "\n",
      "      Epoch    GPU_mem   box_loss   cls_loss   dfl_loss  Instances       Size\n"
     ]
    },
    {
     "name": "stderr",
     "output_type": "stream",
     "text": [
      "\n",
      "     19/100         0G      2.147      1.485       1.11         83        320: 100%|██████████| 206/206 [00:55<00:00,  3.74it/s]\n",
      "                 Class     Images  Instances      Box(P          R      mAP50  mAP50-95): 100%|██████████| 7/7 [00:01<00:00,  4.04it/s]"
     ]
    },
    {
     "name": "stdout",
     "output_type": "stream",
     "text": [
      "                   all         56        643      0.729      0.309      0.516      0.248\n"
     ]
    },
    {
     "name": "stderr",
     "output_type": "stream",
     "text": [
      "\n"
     ]
    },
    {
     "name": "stdout",
     "output_type": "stream",
     "text": [
      "\n",
      "      Epoch    GPU_mem   box_loss   cls_loss   dfl_loss  Instances       Size\n"
     ]
    },
    {
     "name": "stderr",
     "output_type": "stream",
     "text": [
      "     20/100         0G      2.132      1.465      1.124         31        320: 100%|██████████| 206/206 [00:55<00:00,  3.74it/s]\n",
      "                 Class     Images  Instances      Box(P          R      mAP50  mAP50-95): 100%|██████████| 7/7 [00:01<00:00,  4.25it/s]"
     ]
    },
    {
     "name": "stdout",
     "output_type": "stream",
     "text": [
      "                   all         56        643      0.802      0.252      0.523      0.269\n"
     ]
    },
    {
     "name": "stderr",
     "output_type": "stream",
     "text": [
      "\n"
     ]
    },
    {
     "name": "stdout",
     "output_type": "stream",
     "text": [
      "\n",
      "      Epoch    GPU_mem   box_loss   cls_loss   dfl_loss  Instances       Size\n"
     ]
    },
    {
     "name": "stderr",
     "output_type": "stream",
     "text": [
      "     21/100         0G      2.127      1.456       1.11         54        320: 100%|██████████| 206/206 [00:55<00:00,  3.74it/s]\n",
      "                 Class     Images  Instances      Box(P          R      mAP50  mAP50-95): 100%|██████████| 7/7 [00:01<00:00,  4.40it/s]"
     ]
    },
    {
     "name": "stdout",
     "output_type": "stream",
     "text": [
      "                   all         56        643      0.803      0.278      0.544      0.259\n"
     ]
    },
    {
     "name": "stderr",
     "output_type": "stream",
     "text": [
      "\n"
     ]
    },
    {
     "name": "stdout",
     "output_type": "stream",
     "text": [
      "\n",
      "      Epoch    GPU_mem   box_loss   cls_loss   dfl_loss  Instances       Size\n"
     ]
    },
    {
     "name": "stderr",
     "output_type": "stream",
     "text": [
      "     22/100         0G      2.115      1.462      1.116         71        320: 100%|██████████| 206/206 [00:53<00:00,  3.82it/s]\n",
      "                 Class     Images  Instances      Box(P          R      mAP50  mAP50-95): 100%|██████████| 7/7 [00:01<00:00,  4.30it/s]"
     ]
    },
    {
     "name": "stdout",
     "output_type": "stream",
     "text": [
      "                   all         56        643      0.816      0.249      0.536      0.264\n"
     ]
    },
    {
     "name": "stderr",
     "output_type": "stream",
     "text": [
      "\n"
     ]
    },
    {
     "name": "stdout",
     "output_type": "stream",
     "text": [
      "\n",
      "      Epoch    GPU_mem   box_loss   cls_loss   dfl_loss  Instances       Size\n"
     ]
    },
    {
     "name": "stderr",
     "output_type": "stream",
     "text": [
      "     23/100         0G      2.142      1.454      1.104         84        320: 100%|██████████| 206/206 [04:15<00:00,  1.24s/it] \n",
      "                 Class     Images  Instances      Box(P          R      mAP50  mAP50-95): 100%|██████████| 7/7 [00:03<00:00,  2.01it/s]"
     ]
    },
    {
     "name": "stdout",
     "output_type": "stream",
     "text": [
      "                   all         56        643      0.892      0.142      0.516      0.272\n"
     ]
    },
    {
     "name": "stderr",
     "output_type": "stream",
     "text": [
      "\n"
     ]
    },
    {
     "name": "stdout",
     "output_type": "stream",
     "text": [
      "\n",
      "      Epoch    GPU_mem   box_loss   cls_loss   dfl_loss  Instances       Size\n"
     ]
    },
    {
     "name": "stderr",
     "output_type": "stream",
     "text": [
      "     24/100         0G      2.085      1.414        1.1         16        320: 100%|██████████| 206/206 [05:21<00:00,  1.56s/it]  \n",
      "                 Class     Images  Instances      Box(P          R      mAP50  mAP50-95): 100%|██████████| 7/7 [00:01<00:00,  4.45it/s]"
     ]
    },
    {
     "name": "stdout",
     "output_type": "stream",
     "text": [
      "                   all         56        643       0.76      0.271      0.521      0.267\n"
     ]
    },
    {
     "name": "stderr",
     "output_type": "stream",
     "text": [
      "\n"
     ]
    },
    {
     "name": "stdout",
     "output_type": "stream",
     "text": [
      "\n",
      "      Epoch    GPU_mem   box_loss   cls_loss   dfl_loss  Instances       Size\n"
     ]
    },
    {
     "name": "stderr",
     "output_type": "stream",
     "text": [
      "     25/100         0G      2.125      1.418      1.111         53        320: 100%|██████████| 206/206 [00:53<00:00,  3.86it/s]\n",
      "                 Class     Images  Instances      Box(P          R      mAP50  mAP50-95): 100%|██████████| 7/7 [00:01<00:00,  4.09it/s]"
     ]
    },
    {
     "name": "stdout",
     "output_type": "stream",
     "text": [
      "                   all         56        643      0.746      0.288      0.512      0.254\n",
      "\n",
      "      Epoch    GPU_mem   box_loss   cls_loss   dfl_loss  Instances       Size\n"
     ]
    },
    {
     "name": "stderr",
     "output_type": "stream",
     "text": [
      "\n",
      "     26/100         0G      2.129       1.42      1.095        145        320: 100%|██████████| 206/206 [00:54<00:00,  3.79it/s]\n",
      "                 Class     Images  Instances      Box(P          R      mAP50  mAP50-95): 100%|██████████| 7/7 [00:01<00:00,  4.21it/s]"
     ]
    },
    {
     "name": "stdout",
     "output_type": "stream",
     "text": [
      "                   all         56        643      0.836      0.246      0.544      0.282\n",
      "\n",
      "      Epoch    GPU_mem   box_loss   cls_loss   dfl_loss  Instances       Size\n"
     ]
    },
    {
     "name": "stderr",
     "output_type": "stream",
     "text": [
      "\n",
      "     27/100         0G      2.103      1.429      1.106         32        320: 100%|██████████| 206/206 [00:54<00:00,  3.78it/s]\n",
      "                 Class     Images  Instances      Box(P          R      mAP50  mAP50-95): 100%|██████████| 7/7 [00:01<00:00,  4.27it/s]"
     ]
    },
    {
     "name": "stdout",
     "output_type": "stream",
     "text": [
      "                   all         56        643      0.738      0.417      0.567      0.272\n"
     ]
    },
    {
     "name": "stderr",
     "output_type": "stream",
     "text": [
      "\n"
     ]
    },
    {
     "name": "stdout",
     "output_type": "stream",
     "text": [
      "\n",
      "      Epoch    GPU_mem   box_loss   cls_loss   dfl_loss  Instances       Size\n"
     ]
    },
    {
     "name": "stderr",
     "output_type": "stream",
     "text": [
      "     28/100         0G      2.107      1.438      1.098         25        320: 100%|██████████| 206/206 [00:56<00:00,  3.62it/s]\n",
      "                 Class     Images  Instances      Box(P          R      mAP50  mAP50-95): 100%|██████████| 7/7 [00:01<00:00,  4.20it/s]"
     ]
    },
    {
     "name": "stdout",
     "output_type": "stream",
     "text": [
      "                   all         56        643      0.702      0.348      0.527       0.25\n"
     ]
    },
    {
     "name": "stderr",
     "output_type": "stream",
     "text": [
      "\n"
     ]
    },
    {
     "name": "stdout",
     "output_type": "stream",
     "text": [
      "\n",
      "      Epoch    GPU_mem   box_loss   cls_loss   dfl_loss  Instances       Size\n"
     ]
    },
    {
     "name": "stderr",
     "output_type": "stream",
     "text": [
      "     29/100         0G      2.101      1.406      1.103         32        320: 100%|██████████| 206/206 [00:56<00:00,  3.63it/s]\n",
      "                 Class     Images  Instances      Box(P          R      mAP50  mAP50-95): 100%|██████████| 7/7 [00:01<00:00,  3.67it/s]"
     ]
    },
    {
     "name": "stdout",
     "output_type": "stream",
     "text": [
      "                   all         56        643        0.8      0.336      0.574      0.293\n"
     ]
    },
    {
     "name": "stderr",
     "output_type": "stream",
     "text": [
      "\n"
     ]
    },
    {
     "name": "stdout",
     "output_type": "stream",
     "text": [
      "\n",
      "      Epoch    GPU_mem   box_loss   cls_loss   dfl_loss  Instances       Size\n"
     ]
    },
    {
     "name": "stderr",
     "output_type": "stream",
     "text": [
      "     30/100         0G      2.057      1.385      1.091         41        320: 100%|██████████| 206/206 [01:00<00:00,  3.42it/s]\n",
      "                 Class     Images  Instances      Box(P          R      mAP50  mAP50-95): 100%|██████████| 7/7 [00:01<00:00,  4.16it/s]"
     ]
    },
    {
     "name": "stdout",
     "output_type": "stream",
     "text": [
      "                   all         56        643       0.85      0.272      0.564      0.282\n"
     ]
    },
    {
     "name": "stderr",
     "output_type": "stream",
     "text": [
      "\n"
     ]
    },
    {
     "name": "stdout",
     "output_type": "stream",
     "text": [
      "\n",
      "      Epoch    GPU_mem   box_loss   cls_loss   dfl_loss  Instances       Size\n"
     ]
    },
    {
     "name": "stderr",
     "output_type": "stream",
     "text": [
      "     31/100         0G      2.079      1.409      1.096         44        320: 100%|██████████| 206/206 [00:55<00:00,  3.71it/s]\n",
      "                 Class     Images  Instances      Box(P          R      mAP50  mAP50-95): 100%|██████████| 7/7 [00:01<00:00,  4.10it/s]"
     ]
    },
    {
     "name": "stdout",
     "output_type": "stream",
     "text": [
      "                   all         56        643       0.71      0.389      0.557      0.266\n"
     ]
    },
    {
     "name": "stderr",
     "output_type": "stream",
     "text": [
      "\n"
     ]
    },
    {
     "name": "stdout",
     "output_type": "stream",
     "text": [
      "\n",
      "      Epoch    GPU_mem   box_loss   cls_loss   dfl_loss  Instances       Size\n"
     ]
    },
    {
     "name": "stderr",
     "output_type": "stream",
     "text": [
      "     32/100         0G      2.052      1.385      1.097         30        320: 100%|██████████| 206/206 [00:55<00:00,  3.68it/s]\n",
      "                 Class     Images  Instances      Box(P          R      mAP50  mAP50-95): 100%|██████████| 7/7 [00:01<00:00,  4.34it/s]"
     ]
    },
    {
     "name": "stdout",
     "output_type": "stream",
     "text": [
      "                   all         56        643      0.743      0.302      0.522      0.222\n"
     ]
    },
    {
     "name": "stderr",
     "output_type": "stream",
     "text": [
      "\n"
     ]
    },
    {
     "name": "stdout",
     "output_type": "stream",
     "text": [
      "\n",
      "      Epoch    GPU_mem   box_loss   cls_loss   dfl_loss  Instances       Size\n"
     ]
    },
    {
     "name": "stderr",
     "output_type": "stream",
     "text": [
      "     33/100         0G      2.062      1.381      1.094         21        320: 100%|██████████| 206/206 [00:55<00:00,  3.72it/s]\n",
      "                 Class     Images  Instances      Box(P          R      mAP50  mAP50-95): 100%|██████████| 7/7 [00:01<00:00,  4.25it/s]"
     ]
    },
    {
     "name": "stdout",
     "output_type": "stream",
     "text": [
      "                   all         56        643      0.881      0.173      0.522      0.289\n"
     ]
    },
    {
     "name": "stderr",
     "output_type": "stream",
     "text": [
      "\n"
     ]
    },
    {
     "name": "stdout",
     "output_type": "stream",
     "text": [
      "\n",
      "      Epoch    GPU_mem   box_loss   cls_loss   dfl_loss  Instances       Size\n"
     ]
    },
    {
     "name": "stderr",
     "output_type": "stream",
     "text": [
      "     34/100         0G      2.077      1.368      1.086         36        320: 100%|██████████| 206/206 [00:56<00:00,  3.65it/s]\n",
      "                 Class     Images  Instances      Box(P          R      mAP50  mAP50-95): 100%|██████████| 7/7 [00:01<00:00,  4.06it/s]"
     ]
    },
    {
     "name": "stdout",
     "output_type": "stream",
     "text": [
      "                   all         56        643      0.774      0.356      0.556      0.276\n"
     ]
    },
    {
     "name": "stderr",
     "output_type": "stream",
     "text": [
      "\n"
     ]
    },
    {
     "name": "stdout",
     "output_type": "stream",
     "text": [
      "\n",
      "      Epoch    GPU_mem   box_loss   cls_loss   dfl_loss  Instances       Size\n"
     ]
    },
    {
     "name": "stderr",
     "output_type": "stream",
     "text": [
      "     35/100         0G      2.054      1.382      1.085         50        320: 100%|██████████| 206/206 [00:54<00:00,  3.77it/s]\n",
      "                 Class     Images  Instances      Box(P          R      mAP50  mAP50-95): 100%|██████████| 7/7 [00:01<00:00,  4.13it/s]"
     ]
    },
    {
     "name": "stdout",
     "output_type": "stream",
     "text": [
      "                   all         56        643       0.73      0.383      0.562      0.275\n",
      "\n",
      "      Epoch    GPU_mem   box_loss   cls_loss   dfl_loss  Instances       Size\n"
     ]
    },
    {
     "name": "stderr",
     "output_type": "stream",
     "text": [
      "\n",
      "     36/100         0G       2.06      1.366      1.095         36        320: 100%|██████████| 206/206 [00:56<00:00,  3.65it/s]\n",
      "                 Class     Images  Instances      Box(P          R      mAP50  mAP50-95): 100%|██████████| 7/7 [00:01<00:00,  4.30it/s]"
     ]
    },
    {
     "name": "stdout",
     "output_type": "stream",
     "text": [
      "                   all         56        643      0.843      0.327      0.587      0.298\n"
     ]
    },
    {
     "name": "stderr",
     "output_type": "stream",
     "text": [
      "\n"
     ]
    },
    {
     "name": "stdout",
     "output_type": "stream",
     "text": [
      "\n",
      "      Epoch    GPU_mem   box_loss   cls_loss   dfl_loss  Instances       Size\n"
     ]
    },
    {
     "name": "stderr",
     "output_type": "stream",
     "text": [
      "     37/100         0G      2.053      1.381       1.08         62        320: 100%|██████████| 206/206 [00:53<00:00,  3.83it/s]\n",
      "                 Class     Images  Instances      Box(P          R      mAP50  mAP50-95): 100%|██████████| 7/7 [00:01<00:00,  4.15it/s]"
     ]
    },
    {
     "name": "stdout",
     "output_type": "stream",
     "text": [
      "                   all         56        643      0.926      0.174       0.55      0.294\n",
      "\n",
      "      Epoch    GPU_mem   box_loss   cls_loss   dfl_loss  Instances       Size\n"
     ]
    },
    {
     "name": "stderr",
     "output_type": "stream",
     "text": [
      "\n",
      "     38/100         0G      2.051      1.375      1.078         29        320: 100%|██████████| 206/206 [00:54<00:00,  3.79it/s]\n",
      "                 Class     Images  Instances      Box(P          R      mAP50  mAP50-95): 100%|██████████| 7/7 [00:01<00:00,  4.28it/s]"
     ]
    },
    {
     "name": "stdout",
     "output_type": "stream",
     "text": [
      "                   all         56        643      0.792      0.392      0.591      0.296\n"
     ]
    },
    {
     "name": "stderr",
     "output_type": "stream",
     "text": [
      "\n"
     ]
    },
    {
     "name": "stdout",
     "output_type": "stream",
     "text": [
      "\n",
      "      Epoch    GPU_mem   box_loss   cls_loss   dfl_loss  Instances       Size\n"
     ]
    },
    {
     "name": "stderr",
     "output_type": "stream",
     "text": [
      "     39/100         0G      2.013      1.353      1.077         47        320: 100%|██████████| 206/206 [00:55<00:00,  3.74it/s]\n",
      "                 Class     Images  Instances      Box(P          R      mAP50  mAP50-95): 100%|██████████| 7/7 [00:01<00:00,  4.27it/s]"
     ]
    },
    {
     "name": "stdout",
     "output_type": "stream",
     "text": [
      "                   all         56        643      0.796      0.376      0.584      0.293\n"
     ]
    },
    {
     "name": "stderr",
     "output_type": "stream",
     "text": [
      "\n"
     ]
    },
    {
     "name": "stdout",
     "output_type": "stream",
     "text": [
      "\n",
      "      Epoch    GPU_mem   box_loss   cls_loss   dfl_loss  Instances       Size\n"
     ]
    },
    {
     "name": "stderr",
     "output_type": "stream",
     "text": [
      "     40/100         0G      2.041       1.35       1.08         94        320: 100%|██████████| 206/206 [00:55<00:00,  3.74it/s]\n",
      "                 Class     Images  Instances      Box(P          R      mAP50  mAP50-95): 100%|██████████| 7/7 [00:01<00:00,  4.31it/s]"
     ]
    },
    {
     "name": "stdout",
     "output_type": "stream",
     "text": [
      "                   all         56        643      0.819      0.316      0.561      0.285\n"
     ]
    },
    {
     "name": "stderr",
     "output_type": "stream",
     "text": [
      "\n"
     ]
    },
    {
     "name": "stdout",
     "output_type": "stream",
     "text": [
      "\n",
      "      Epoch    GPU_mem   box_loss   cls_loss   dfl_loss  Instances       Size\n"
     ]
    },
    {
     "name": "stderr",
     "output_type": "stream",
     "text": [
      "     41/100         0G      2.026      1.379      1.082         37        320: 100%|██████████| 206/206 [00:55<00:00,  3.72it/s]\n",
      "                 Class     Images  Instances      Box(P          R      mAP50  mAP50-95): 100%|██████████| 7/7 [00:01<00:00,  4.25it/s]"
     ]
    },
    {
     "name": "stdout",
     "output_type": "stream",
     "text": [
      "                   all         56        643      0.787      0.351      0.573      0.287\n"
     ]
    },
    {
     "name": "stderr",
     "output_type": "stream",
     "text": [
      "\n"
     ]
    },
    {
     "name": "stdout",
     "output_type": "stream",
     "text": [
      "\n",
      "      Epoch    GPU_mem   box_loss   cls_loss   dfl_loss  Instances       Size\n"
     ]
    },
    {
     "name": "stderr",
     "output_type": "stream",
     "text": [
      "     42/100         0G      2.038      1.355       1.08         25        320: 100%|██████████| 206/206 [00:55<00:00,  3.68it/s]\n",
      "                 Class     Images  Instances      Box(P          R      mAP50  mAP50-95): 100%|██████████| 7/7 [00:01<00:00,  3.95it/s]"
     ]
    },
    {
     "name": "stdout",
     "output_type": "stream",
     "text": [
      "                   all         56        643      0.689        0.4      0.545      0.263\n"
     ]
    },
    {
     "name": "stderr",
     "output_type": "stream",
     "text": [
      "\n"
     ]
    },
    {
     "name": "stdout",
     "output_type": "stream",
     "text": [
      "\n",
      "      Epoch    GPU_mem   box_loss   cls_loss   dfl_loss  Instances       Size\n"
     ]
    },
    {
     "name": "stderr",
     "output_type": "stream",
     "text": [
      "     43/100         0G      2.033      1.355      1.083         23        320: 100%|██████████| 206/206 [00:57<00:00,  3.56it/s]\n",
      "                 Class     Images  Instances      Box(P          R      mAP50  mAP50-95): 100%|██████████| 7/7 [00:01<00:00,  4.30it/s]"
     ]
    },
    {
     "name": "stdout",
     "output_type": "stream",
     "text": [
      "                   all         56        643      0.783      0.376       0.58      0.285\n"
     ]
    },
    {
     "name": "stderr",
     "output_type": "stream",
     "text": [
      "\n"
     ]
    },
    {
     "name": "stdout",
     "output_type": "stream",
     "text": [
      "\n",
      "      Epoch    GPU_mem   box_loss   cls_loss   dfl_loss  Instances       Size\n"
     ]
    },
    {
     "name": "stderr",
     "output_type": "stream",
     "text": [
      "     44/100         0G      1.991      1.334      1.079         21        320: 100%|██████████| 206/206 [00:54<00:00,  3.79it/s]\n",
      "                 Class     Images  Instances      Box(P          R      mAP50  mAP50-95): 100%|██████████| 7/7 [00:01<00:00,  4.30it/s]"
     ]
    },
    {
     "name": "stdout",
     "output_type": "stream",
     "text": [
      "                   all         56        643       0.79      0.333      0.562      0.285\n"
     ]
    },
    {
     "name": "stderr",
     "output_type": "stream",
     "text": [
      "\n"
     ]
    },
    {
     "name": "stdout",
     "output_type": "stream",
     "text": [
      "\n",
      "      Epoch    GPU_mem   box_loss   cls_loss   dfl_loss  Instances       Size\n"
     ]
    },
    {
     "name": "stderr",
     "output_type": "stream",
     "text": [
      "     45/100         0G      2.005      1.325      1.076         65        320: 100%|██████████| 206/206 [00:57<00:00,  3.59it/s]\n",
      "                 Class     Images  Instances      Box(P          R      mAP50  mAP50-95): 100%|██████████| 7/7 [00:01<00:00,  3.83it/s]"
     ]
    },
    {
     "name": "stdout",
     "output_type": "stream",
     "text": [
      "                   all         56        643      0.774       0.33      0.548       0.26\n"
     ]
    },
    {
     "name": "stderr",
     "output_type": "stream",
     "text": [
      "\n"
     ]
    },
    {
     "name": "stdout",
     "output_type": "stream",
     "text": [
      "\n",
      "      Epoch    GPU_mem   box_loss   cls_loss   dfl_loss  Instances       Size\n"
     ]
    },
    {
     "name": "stderr",
     "output_type": "stream",
     "text": [
      "     46/100         0G       2.03      1.345      1.077         86        320: 100%|██████████| 206/206 [00:58<00:00,  3.51it/s]\n",
      "                 Class     Images  Instances      Box(P          R      mAP50  mAP50-95): 100%|██████████| 7/7 [00:01<00:00,  4.16it/s]"
     ]
    },
    {
     "name": "stdout",
     "output_type": "stream",
     "text": [
      "                   all         56        643      0.813      0.297      0.552      0.271\n"
     ]
    },
    {
     "name": "stderr",
     "output_type": "stream",
     "text": [
      "\n"
     ]
    },
    {
     "name": "stdout",
     "output_type": "stream",
     "text": [
      "\n",
      "      Epoch    GPU_mem   box_loss   cls_loss   dfl_loss  Instances       Size\n"
     ]
    },
    {
     "name": "stderr",
     "output_type": "stream",
     "text": [
      "     47/100         0G      2.004      1.317       1.07         40        320: 100%|██████████| 206/206 [00:57<00:00,  3.60it/s]\n",
      "                 Class     Images  Instances      Box(P          R      mAP50  mAP50-95): 100%|██████████| 7/7 [00:01<00:00,  4.14it/s]"
     ]
    },
    {
     "name": "stdout",
     "output_type": "stream",
     "text": [
      "                   all         56        643       0.79      0.345      0.561      0.284\n"
     ]
    },
    {
     "name": "stderr",
     "output_type": "stream",
     "text": [
      "\n"
     ]
    },
    {
     "name": "stdout",
     "output_type": "stream",
     "text": [
      "\n",
      "      Epoch    GPU_mem   box_loss   cls_loss   dfl_loss  Instances       Size\n"
     ]
    },
    {
     "name": "stderr",
     "output_type": "stream",
     "text": [
      "     48/100         0G      2.037      1.336      1.072         51        320: 100%|██████████| 206/206 [00:58<00:00,  3.54it/s]\n",
      "                 Class     Images  Instances      Box(P          R      mAP50  mAP50-95): 100%|██████████| 7/7 [00:01<00:00,  4.00it/s]"
     ]
    },
    {
     "name": "stdout",
     "output_type": "stream",
     "text": [
      "                   all         56        643      0.837      0.319      0.572      0.293\n"
     ]
    },
    {
     "name": "stderr",
     "output_type": "stream",
     "text": [
      "\n"
     ]
    },
    {
     "name": "stdout",
     "output_type": "stream",
     "text": [
      "\n",
      "      Epoch    GPU_mem   box_loss   cls_loss   dfl_loss  Instances       Size\n"
     ]
    },
    {
     "name": "stderr",
     "output_type": "stream",
     "text": [
      "     49/100         0G      1.994       1.32      1.066         39        320: 100%|██████████| 206/206 [00:57<00:00,  3.60it/s]\n",
      "                 Class     Images  Instances      Box(P          R      mAP50  mAP50-95): 100%|██████████| 7/7 [00:01<00:00,  4.16it/s]"
     ]
    },
    {
     "name": "stdout",
     "output_type": "stream",
     "text": [
      "                   all         56        643      0.807      0.345      0.578      0.299\n"
     ]
    },
    {
     "name": "stderr",
     "output_type": "stream",
     "text": [
      "\n"
     ]
    },
    {
     "name": "stdout",
     "output_type": "stream",
     "text": [
      "\n",
      "      Epoch    GPU_mem   box_loss   cls_loss   dfl_loss  Instances       Size\n"
     ]
    },
    {
     "name": "stderr",
     "output_type": "stream",
     "text": [
      "     50/100         0G      2.006      1.342      1.072         42        320: 100%|██████████| 206/206 [00:58<00:00,  3.54it/s]\n",
      "                 Class     Images  Instances      Box(P          R      mAP50  mAP50-95): 100%|██████████| 7/7 [00:01<00:00,  3.92it/s]"
     ]
    },
    {
     "name": "stdout",
     "output_type": "stream",
     "text": [
      "                   all         56        643      0.796      0.333      0.563      0.284\n"
     ]
    },
    {
     "name": "stderr",
     "output_type": "stream",
     "text": [
      "\n"
     ]
    },
    {
     "name": "stdout",
     "output_type": "stream",
     "text": [
      "\n",
      "      Epoch    GPU_mem   box_loss   cls_loss   dfl_loss  Instances       Size\n"
     ]
    },
    {
     "name": "stderr",
     "output_type": "stream",
     "text": [
      "     51/100         0G      1.975      1.327       1.07         18        320: 100%|██████████| 206/206 [00:57<00:00,  3.57it/s]\n",
      "                 Class     Images  Instances      Box(P          R      mAP50  mAP50-95): 100%|██████████| 7/7 [00:01<00:00,  3.99it/s]"
     ]
    },
    {
     "name": "stdout",
     "output_type": "stream",
     "text": [
      "                   all         56        643      0.834      0.305      0.574      0.291\n"
     ]
    },
    {
     "name": "stderr",
     "output_type": "stream",
     "text": [
      "\n"
     ]
    },
    {
     "name": "stdout",
     "output_type": "stream",
     "text": [
      "\n",
      "      Epoch    GPU_mem   box_loss   cls_loss   dfl_loss  Instances       Size\n"
     ]
    },
    {
     "name": "stderr",
     "output_type": "stream",
     "text": [
      "     52/100         0G      1.959      1.289      1.065         77        320: 100%|██████████| 206/206 [00:57<00:00,  3.58it/s]\n",
      "                 Class     Images  Instances      Box(P          R      mAP50  mAP50-95): 100%|██████████| 7/7 [00:01<00:00,  4.12it/s]"
     ]
    },
    {
     "name": "stdout",
     "output_type": "stream",
     "text": [
      "                   all         56        643       0.78      0.398      0.588      0.298\n"
     ]
    },
    {
     "name": "stderr",
     "output_type": "stream",
     "text": [
      "\n"
     ]
    },
    {
     "name": "stdout",
     "output_type": "stream",
     "text": [
      "\n",
      "      Epoch    GPU_mem   box_loss   cls_loss   dfl_loss  Instances       Size\n"
     ]
    },
    {
     "name": "stderr",
     "output_type": "stream",
     "text": [
      "     53/100         0G      1.996      1.316      1.069        128        320: 100%|██████████| 206/206 [00:57<00:00,  3.57it/s]\n",
      "                 Class     Images  Instances      Box(P          R      mAP50  mAP50-95): 100%|██████████| 7/7 [00:01<00:00,  4.08it/s]"
     ]
    },
    {
     "name": "stdout",
     "output_type": "stream",
     "text": [
      "                   all         56        643      0.747      0.395      0.571       0.29\n"
     ]
    },
    {
     "name": "stderr",
     "output_type": "stream",
     "text": [
      "\n"
     ]
    },
    {
     "name": "stdout",
     "output_type": "stream",
     "text": [
      "\n",
      "      Epoch    GPU_mem   box_loss   cls_loss   dfl_loss  Instances       Size\n"
     ]
    },
    {
     "name": "stderr",
     "output_type": "stream",
     "text": [
      "     54/100         0G      1.997      1.327      1.062         83        320: 100%|██████████| 206/206 [00:58<00:00,  3.49it/s]\n",
      "                 Class     Images  Instances      Box(P          R      mAP50  mAP50-95): 100%|██████████| 7/7 [00:01<00:00,  4.12it/s]"
     ]
    },
    {
     "name": "stdout",
     "output_type": "stream",
     "text": [
      "                   all         56        643      0.813      0.337       0.58      0.295\n"
     ]
    },
    {
     "name": "stderr",
     "output_type": "stream",
     "text": [
      "\n"
     ]
    },
    {
     "name": "stdout",
     "output_type": "stream",
     "text": [
      "\n",
      "      Epoch    GPU_mem   box_loss   cls_loss   dfl_loss  Instances       Size\n"
     ]
    },
    {
     "name": "stderr",
     "output_type": "stream",
     "text": [
      "     55/100         0G      1.967       1.29      1.064         39        320: 100%|██████████| 206/206 [00:57<00:00,  3.59it/s]\n",
      "                 Class     Images  Instances      Box(P          R      mAP50  mAP50-95): 100%|██████████| 7/7 [00:01<00:00,  4.15it/s]"
     ]
    },
    {
     "name": "stdout",
     "output_type": "stream",
     "text": [
      "                   all         56        643      0.785      0.362      0.575      0.295\n"
     ]
    },
    {
     "name": "stderr",
     "output_type": "stream",
     "text": [
      "\n"
     ]
    },
    {
     "name": "stdout",
     "output_type": "stream",
     "text": [
      "\n",
      "      Epoch    GPU_mem   box_loss   cls_loss   dfl_loss  Instances       Size\n"
     ]
    },
    {
     "name": "stderr",
     "output_type": "stream",
     "text": [
      "     56/100         0G      1.965      1.286      1.064         47        320: 100%|██████████| 206/206 [01:00<00:00,  3.40it/s]\n",
      "                 Class     Images  Instances      Box(P          R      mAP50  mAP50-95): 100%|██████████| 7/7 [00:01<00:00,  3.93it/s]"
     ]
    },
    {
     "name": "stdout",
     "output_type": "stream",
     "text": [
      "                   all         56        643      0.771      0.393      0.582      0.298\n"
     ]
    },
    {
     "name": "stderr",
     "output_type": "stream",
     "text": [
      "\n"
     ]
    },
    {
     "name": "stdout",
     "output_type": "stream",
     "text": [
      "\n",
      "      Epoch    GPU_mem   box_loss   cls_loss   dfl_loss  Instances       Size\n"
     ]
    },
    {
     "name": "stderr",
     "output_type": "stream",
     "text": [
      "     57/100         0G      1.962      1.288      1.062         63        320: 100%|██████████| 206/206 [00:59<00:00,  3.49it/s]\n",
      "                 Class     Images  Instances      Box(P          R      mAP50  mAP50-95): 100%|██████████| 7/7 [00:01<00:00,  4.14it/s]"
     ]
    },
    {
     "name": "stdout",
     "output_type": "stream",
     "text": [
      "                   all         56        643      0.826      0.369      0.597      0.305\n"
     ]
    },
    {
     "name": "stderr",
     "output_type": "stream",
     "text": [
      "\n"
     ]
    },
    {
     "name": "stdout",
     "output_type": "stream",
     "text": [
      "\n",
      "      Epoch    GPU_mem   box_loss   cls_loss   dfl_loss  Instances       Size\n"
     ]
    },
    {
     "name": "stderr",
     "output_type": "stream",
     "text": [
      "     58/100         0G      1.986        1.3      1.069         48        320: 100%|██████████| 206/206 [00:58<00:00,  3.54it/s]\n",
      "                 Class     Images  Instances      Box(P          R      mAP50  mAP50-95): 100%|██████████| 7/7 [00:01<00:00,  4.04it/s]"
     ]
    },
    {
     "name": "stdout",
     "output_type": "stream",
     "text": [
      "                   all         56        643      0.797       0.39      0.597      0.294\n"
     ]
    },
    {
     "name": "stderr",
     "output_type": "stream",
     "text": [
      "\n"
     ]
    },
    {
     "name": "stdout",
     "output_type": "stream",
     "text": [
      "\n",
      "      Epoch    GPU_mem   box_loss   cls_loss   dfl_loss  Instances       Size\n"
     ]
    },
    {
     "name": "stderr",
     "output_type": "stream",
     "text": [
      "     59/100         0G      1.955      1.298      1.058         32        320: 100%|██████████| 206/206 [01:00<00:00,  3.43it/s]\n",
      "                 Class     Images  Instances      Box(P          R      mAP50  mAP50-95): 100%|██████████| 7/7 [00:01<00:00,  3.99it/s]"
     ]
    },
    {
     "name": "stdout",
     "output_type": "stream",
     "text": [
      "                   all         56        643      0.744      0.411      0.583      0.285\n"
     ]
    },
    {
     "name": "stderr",
     "output_type": "stream",
     "text": [
      "\n"
     ]
    },
    {
     "name": "stdout",
     "output_type": "stream",
     "text": [
      "\n",
      "      Epoch    GPU_mem   box_loss   cls_loss   dfl_loss  Instances       Size\n"
     ]
    },
    {
     "name": "stderr",
     "output_type": "stream",
     "text": [
      "     60/100         0G      1.942      1.272      1.063         47        320: 100%|██████████| 206/206 [00:59<00:00,  3.45it/s]\n",
      "                 Class     Images  Instances      Box(P          R      mAP50  mAP50-95): 100%|██████████| 7/7 [00:01<00:00,  3.87it/s]"
     ]
    },
    {
     "name": "stdout",
     "output_type": "stream",
     "text": [
      "                   all         56        643      0.743      0.418      0.584      0.298\n"
     ]
    },
    {
     "name": "stderr",
     "output_type": "stream",
     "text": [
      "\n"
     ]
    },
    {
     "name": "stdout",
     "output_type": "stream",
     "text": [
      "\n",
      "      Epoch    GPU_mem   box_loss   cls_loss   dfl_loss  Instances       Size\n"
     ]
    },
    {
     "name": "stderr",
     "output_type": "stream",
     "text": [
      "     61/100         0G       1.96      1.272      1.063         39        320: 100%|██████████| 206/206 [00:59<00:00,  3.47it/s]\n",
      "                 Class     Images  Instances      Box(P          R      mAP50  mAP50-95): 100%|██████████| 7/7 [00:01<00:00,  3.93it/s]"
     ]
    },
    {
     "name": "stdout",
     "output_type": "stream",
     "text": [
      "                   all         56        643      0.769      0.373      0.571       0.29\n"
     ]
    },
    {
     "name": "stderr",
     "output_type": "stream",
     "text": [
      "\n"
     ]
    },
    {
     "name": "stdout",
     "output_type": "stream",
     "text": [
      "\n",
      "      Epoch    GPU_mem   box_loss   cls_loss   dfl_loss  Instances       Size\n"
     ]
    },
    {
     "name": "stderr",
     "output_type": "stream",
     "text": [
      "     62/100         0G      1.972       1.29      1.055         93        320: 100%|██████████| 206/206 [00:59<00:00,  3.47it/s]\n",
      "                 Class     Images  Instances      Box(P          R      mAP50  mAP50-95): 100%|██████████| 7/7 [00:01<00:00,  4.02it/s]"
     ]
    },
    {
     "name": "stdout",
     "output_type": "stream",
     "text": [
      "                   all         56        643       0.82      0.333      0.579      0.287\n"
     ]
    },
    {
     "name": "stderr",
     "output_type": "stream",
     "text": [
      "\n"
     ]
    },
    {
     "name": "stdout",
     "output_type": "stream",
     "text": [
      "\n",
      "      Epoch    GPU_mem   box_loss   cls_loss   dfl_loss  Instances       Size\n"
     ]
    },
    {
     "name": "stderr",
     "output_type": "stream",
     "text": [
      "     63/100         0G       1.93      1.261      1.056         31        320: 100%|██████████| 206/206 [00:59<00:00,  3.48it/s]\n",
      "                 Class     Images  Instances      Box(P          R      mAP50  mAP50-95): 100%|██████████| 7/7 [00:01<00:00,  3.83it/s]"
     ]
    },
    {
     "name": "stdout",
     "output_type": "stream",
     "text": [
      "                   all         56        643      0.777      0.384      0.578      0.285\n"
     ]
    },
    {
     "name": "stderr",
     "output_type": "stream",
     "text": [
      "\n"
     ]
    },
    {
     "name": "stdout",
     "output_type": "stream",
     "text": [
      "\n",
      "      Epoch    GPU_mem   box_loss   cls_loss   dfl_loss  Instances       Size\n"
     ]
    },
    {
     "name": "stderr",
     "output_type": "stream",
     "text": [
      "     64/100         0G       1.94      1.262      1.061         78        320: 100%|██████████| 206/206 [01:00<00:00,  3.41it/s]\n",
      "                 Class     Images  Instances      Box(P          R      mAP50  mAP50-95): 100%|██████████| 7/7 [00:01<00:00,  4.03it/s]"
     ]
    },
    {
     "name": "stdout",
     "output_type": "stream",
     "text": [
      "                   all         56        643      0.787      0.397      0.594      0.299\n"
     ]
    },
    {
     "name": "stderr",
     "output_type": "stream",
     "text": [
      "\n"
     ]
    },
    {
     "name": "stdout",
     "output_type": "stream",
     "text": [
      "\n",
      "      Epoch    GPU_mem   box_loss   cls_loss   dfl_loss  Instances       Size\n"
     ]
    },
    {
     "name": "stderr",
     "output_type": "stream",
     "text": [
      "     65/100         0G      1.951      1.262      1.058         83        320: 100%|██████████| 206/206 [01:00<00:00,  3.38it/s]\n",
      "                 Class     Images  Instances      Box(P          R      mAP50  mAP50-95): 100%|██████████| 7/7 [00:01<00:00,  3.92it/s]"
     ]
    },
    {
     "name": "stdout",
     "output_type": "stream",
     "text": [
      "                   all         56        643      0.817      0.341      0.583      0.294\n"
     ]
    },
    {
     "name": "stderr",
     "output_type": "stream",
     "text": [
      "\n"
     ]
    },
    {
     "name": "stdout",
     "output_type": "stream",
     "text": [
      "\n",
      "      Epoch    GPU_mem   box_loss   cls_loss   dfl_loss  Instances       Size\n"
     ]
    },
    {
     "name": "stderr",
     "output_type": "stream",
     "text": [
      "     66/100         0G       1.93      1.241      1.053         68        320: 100%|██████████| 206/206 [01:01<00:00,  3.35it/s]\n",
      "                 Class     Images  Instances      Box(P          R      mAP50  mAP50-95): 100%|██████████| 7/7 [00:01<00:00,  3.82it/s]"
     ]
    },
    {
     "name": "stdout",
     "output_type": "stream",
     "text": [
      "                   all         56        643      0.794      0.395      0.593      0.302\n"
     ]
    },
    {
     "name": "stderr",
     "output_type": "stream",
     "text": [
      "\n"
     ]
    },
    {
     "name": "stdout",
     "output_type": "stream",
     "text": [
      "\n",
      "      Epoch    GPU_mem   box_loss   cls_loss   dfl_loss  Instances       Size\n"
     ]
    },
    {
     "name": "stderr",
     "output_type": "stream",
     "text": [
      "     67/100         0G      1.949       1.27      1.054         77        320: 100%|██████████| 206/206 [01:02<00:00,  3.27it/s]\n",
      "                 Class     Images  Instances      Box(P          R      mAP50  mAP50-95): 100%|██████████| 7/7 [00:01<00:00,  3.83it/s]"
     ]
    },
    {
     "name": "stdout",
     "output_type": "stream",
     "text": [
      "                   all         56        643      0.765      0.415      0.599      0.312\n"
     ]
    },
    {
     "name": "stderr",
     "output_type": "stream",
     "text": [
      "\n"
     ]
    },
    {
     "name": "stdout",
     "output_type": "stream",
     "text": [
      "\n",
      "      Epoch    GPU_mem   box_loss   cls_loss   dfl_loss  Instances       Size\n"
     ]
    },
    {
     "name": "stderr",
     "output_type": "stream",
     "text": [
      "     68/100         0G      1.955      1.266      1.055         29        320: 100%|██████████| 206/206 [01:01<00:00,  3.37it/s]\n",
      "                 Class     Images  Instances      Box(P          R      mAP50  mAP50-95): 100%|██████████| 7/7 [00:01<00:00,  3.92it/s]"
     ]
    },
    {
     "name": "stdout",
     "output_type": "stream",
     "text": [
      "                   all         56        643      0.795      0.379      0.586      0.306\n"
     ]
    },
    {
     "name": "stderr",
     "output_type": "stream",
     "text": [
      "\n"
     ]
    },
    {
     "name": "stdout",
     "output_type": "stream",
     "text": [
      "\n",
      "      Epoch    GPU_mem   box_loss   cls_loss   dfl_loss  Instances       Size\n"
     ]
    },
    {
     "name": "stderr",
     "output_type": "stream",
     "text": [
      "     69/100         0G      1.955      1.255       1.05         21        320: 100%|██████████| 206/206 [01:03<00:00,  3.27it/s]\n",
      "                 Class     Images  Instances      Box(P          R      mAP50  mAP50-95): 100%|██████████| 7/7 [00:01<00:00,  3.76it/s]"
     ]
    },
    {
     "name": "stdout",
     "output_type": "stream",
     "text": [
      "                   all         56        643      0.769      0.403      0.594      0.306\n"
     ]
    },
    {
     "name": "stderr",
     "output_type": "stream",
     "text": [
      "\n"
     ]
    },
    {
     "name": "stdout",
     "output_type": "stream",
     "text": [
      "\n",
      "      Epoch    GPU_mem   box_loss   cls_loss   dfl_loss  Instances       Size\n"
     ]
    },
    {
     "name": "stderr",
     "output_type": "stream",
     "text": [
      "     70/100         0G      1.928      1.234      1.049         68        320: 100%|██████████| 206/206 [01:04<00:00,  3.19it/s]\n",
      "                 Class     Images  Instances      Box(P          R      mAP50  mAP50-95): 100%|██████████| 7/7 [00:01<00:00,  3.64it/s]"
     ]
    },
    {
     "name": "stdout",
     "output_type": "stream",
     "text": [
      "                   all         56        643      0.766      0.356      0.564      0.289\n"
     ]
    },
    {
     "name": "stderr",
     "output_type": "stream",
     "text": [
      "\n"
     ]
    },
    {
     "name": "stdout",
     "output_type": "stream",
     "text": [
      "\n",
      "      Epoch    GPU_mem   box_loss   cls_loss   dfl_loss  Instances       Size\n"
     ]
    },
    {
     "name": "stderr",
     "output_type": "stream",
     "text": [
      "     71/100         0G      1.928      1.255      1.054        117        320: 100%|██████████| 206/206 [01:07<00:00,  3.04it/s]\n",
      "                 Class     Images  Instances      Box(P          R      mAP50  mAP50-95): 100%|██████████| 7/7 [00:01<00:00,  3.65it/s]"
     ]
    },
    {
     "name": "stdout",
     "output_type": "stream",
     "text": [
      "                   all         56        643      0.777      0.421      0.606      0.312\n"
     ]
    },
    {
     "name": "stderr",
     "output_type": "stream",
     "text": [
      "\n"
     ]
    },
    {
     "name": "stdout",
     "output_type": "stream",
     "text": [
      "\n",
      "      Epoch    GPU_mem   box_loss   cls_loss   dfl_loss  Instances       Size\n"
     ]
    },
    {
     "name": "stderr",
     "output_type": "stream",
     "text": [
      "     72/100         0G      1.908      1.257      1.061         46        320: 100%|██████████| 206/206 [01:06<00:00,  3.11it/s]\n",
      "                 Class     Images  Instances      Box(P          R      mAP50  mAP50-95): 100%|██████████| 7/7 [00:01<00:00,  3.53it/s]"
     ]
    },
    {
     "name": "stdout",
     "output_type": "stream",
     "text": [
      "                   all         56        643      0.775      0.418      0.601      0.304\n"
     ]
    },
    {
     "name": "stderr",
     "output_type": "stream",
     "text": [
      "\n"
     ]
    },
    {
     "name": "stdout",
     "output_type": "stream",
     "text": [
      "\n",
      "      Epoch    GPU_mem   box_loss   cls_loss   dfl_loss  Instances       Size\n"
     ]
    },
    {
     "name": "stderr",
     "output_type": "stream",
     "text": [
      "     73/100         0G      1.919      1.241      1.055         35        320: 100%|██████████| 206/206 [01:06<00:00,  3.11it/s]\n",
      "                 Class     Images  Instances      Box(P          R      mAP50  mAP50-95): 100%|██████████| 7/7 [00:01<00:00,  3.68it/s]"
     ]
    },
    {
     "name": "stdout",
     "output_type": "stream",
     "text": [
      "                   all         56        643      0.731      0.423      0.583      0.298\n"
     ]
    },
    {
     "name": "stderr",
     "output_type": "stream",
     "text": [
      "\n"
     ]
    },
    {
     "name": "stdout",
     "output_type": "stream",
     "text": [
      "\n",
      "      Epoch    GPU_mem   box_loss   cls_loss   dfl_loss  Instances       Size\n"
     ]
    },
    {
     "name": "stderr",
     "output_type": "stream",
     "text": [
      "     74/100         0G      1.927      1.259      1.056         54        320: 100%|██████████| 206/206 [01:04<00:00,  3.17it/s]\n",
      "                 Class     Images  Instances      Box(P          R      mAP50  mAP50-95): 100%|██████████| 7/7 [00:01<00:00,  3.73it/s]"
     ]
    },
    {
     "name": "stdout",
     "output_type": "stream",
     "text": [
      "                   all         56        643       0.77      0.411      0.589      0.295\n"
     ]
    },
    {
     "name": "stderr",
     "output_type": "stream",
     "text": [
      "\n"
     ]
    },
    {
     "name": "stdout",
     "output_type": "stream",
     "text": [
      "\n",
      "      Epoch    GPU_mem   box_loss   cls_loss   dfl_loss  Instances       Size\n"
     ]
    },
    {
     "name": "stderr",
     "output_type": "stream",
     "text": [
      "     75/100         0G      1.891      1.227      1.045         54        320: 100%|██████████| 206/206 [01:02<00:00,  3.28it/s]\n",
      "                 Class     Images  Instances      Box(P          R      mAP50  mAP50-95): 100%|██████████| 7/7 [00:01<00:00,  3.97it/s]"
     ]
    },
    {
     "name": "stdout",
     "output_type": "stream",
     "text": [
      "                   all         56        643      0.708      0.431      0.584      0.298\n"
     ]
    },
    {
     "name": "stderr",
     "output_type": "stream",
     "text": [
      "\n"
     ]
    },
    {
     "name": "stdout",
     "output_type": "stream",
     "text": [
      "\n",
      "      Epoch    GPU_mem   box_loss   cls_loss   dfl_loss  Instances       Size\n"
     ]
    },
    {
     "name": "stderr",
     "output_type": "stream",
     "text": [
      "     76/100         0G      1.917      1.237      1.056         44        320: 100%|██████████| 206/206 [01:02<00:00,  3.31it/s]\n",
      "                 Class     Images  Instances      Box(P          R      mAP50  mAP50-95): 100%|██████████| 7/7 [00:01<00:00,  4.08it/s]"
     ]
    },
    {
     "name": "stdout",
     "output_type": "stream",
     "text": [
      "                   all         56        643      0.768      0.392      0.588      0.299\n"
     ]
    },
    {
     "name": "stderr",
     "output_type": "stream",
     "text": [
      "\n"
     ]
    },
    {
     "name": "stdout",
     "output_type": "stream",
     "text": [
      "\n",
      "      Epoch    GPU_mem   box_loss   cls_loss   dfl_loss  Instances       Size\n"
     ]
    },
    {
     "name": "stderr",
     "output_type": "stream",
     "text": [
      "     77/100         0G      1.924      1.232      1.038         96        320: 100%|██████████| 206/206 [00:57<00:00,  3.59it/s]\n",
      "                 Class     Images  Instances      Box(P          R      mAP50  mAP50-95): 100%|██████████| 7/7 [00:01<00:00,  4.20it/s]"
     ]
    },
    {
     "name": "stdout",
     "output_type": "stream",
     "text": [
      "                   all         56        643      0.786        0.4        0.6      0.302\n"
     ]
    },
    {
     "name": "stderr",
     "output_type": "stream",
     "text": [
      "\n"
     ]
    },
    {
     "name": "stdout",
     "output_type": "stream",
     "text": [
      "\n",
      "      Epoch    GPU_mem   box_loss   cls_loss   dfl_loss  Instances       Size\n"
     ]
    },
    {
     "name": "stderr",
     "output_type": "stream",
     "text": [
      "     78/100         0G      1.879      1.208      1.033         27        320: 100%|██████████| 206/206 [00:56<00:00,  3.64it/s]\n",
      "                 Class     Images  Instances      Box(P          R      mAP50  mAP50-95): 100%|██████████| 7/7 [00:01<00:00,  4.18it/s]"
     ]
    },
    {
     "name": "stdout",
     "output_type": "stream",
     "text": [
      "                   all         56        643      0.775      0.417      0.596      0.314\n"
     ]
    },
    {
     "name": "stderr",
     "output_type": "stream",
     "text": [
      "\n"
     ]
    },
    {
     "name": "stdout",
     "output_type": "stream",
     "text": [
      "\n",
      "      Epoch    GPU_mem   box_loss   cls_loss   dfl_loss  Instances       Size\n"
     ]
    },
    {
     "name": "stderr",
     "output_type": "stream",
     "text": [
      "     79/100         0G      1.915      1.232      1.045         51        320: 100%|██████████| 206/206 [00:56<00:00,  3.63it/s]\n",
      "                 Class     Images  Instances      Box(P          R      mAP50  mAP50-95): 100%|██████████| 7/7 [00:01<00:00,  4.18it/s]"
     ]
    },
    {
     "name": "stdout",
     "output_type": "stream",
     "text": [
      "                   all         56        643      0.767        0.4      0.586        0.3\n"
     ]
    },
    {
     "name": "stderr",
     "output_type": "stream",
     "text": [
      "\n"
     ]
    },
    {
     "name": "stdout",
     "output_type": "stream",
     "text": [
      "\n",
      "      Epoch    GPU_mem   box_loss   cls_loss   dfl_loss  Instances       Size\n"
     ]
    },
    {
     "name": "stderr",
     "output_type": "stream",
     "text": [
      "     80/100         0G      1.882      1.219      1.048         56        320: 100%|██████████| 206/206 [00:56<00:00,  3.67it/s]\n",
      "                 Class     Images  Instances      Box(P          R      mAP50  mAP50-95): 100%|██████████| 7/7 [00:01<00:00,  4.26it/s]"
     ]
    },
    {
     "name": "stdout",
     "output_type": "stream",
     "text": [
      "                   all         56        643      0.793      0.404      0.598      0.316\n"
     ]
    },
    {
     "name": "stderr",
     "output_type": "stream",
     "text": [
      "\n"
     ]
    },
    {
     "name": "stdout",
     "output_type": "stream",
     "text": [
      "\n",
      "      Epoch    GPU_mem   box_loss   cls_loss   dfl_loss  Instances       Size\n"
     ]
    },
    {
     "name": "stderr",
     "output_type": "stream",
     "text": [
      "     81/100         0G      1.895      1.209      1.033        119        320: 100%|██████████| 206/206 [00:56<00:00,  3.63it/s]\n",
      "                 Class     Images  Instances      Box(P          R      mAP50  mAP50-95): 100%|██████████| 7/7 [00:01<00:00,  4.12it/s]"
     ]
    },
    {
     "name": "stdout",
     "output_type": "stream",
     "text": [
      "                   all         56        643      0.795      0.381      0.587      0.307\n"
     ]
    },
    {
     "name": "stderr",
     "output_type": "stream",
     "text": [
      "\n"
     ]
    },
    {
     "name": "stdout",
     "output_type": "stream",
     "text": [
      "\n",
      "      Epoch    GPU_mem   box_loss   cls_loss   dfl_loss  Instances       Size\n"
     ]
    },
    {
     "name": "stderr",
     "output_type": "stream",
     "text": [
      "     82/100         0G      1.883      1.207      1.041         59        320: 100%|██████████| 206/206 [00:58<00:00,  3.51it/s]\n",
      "                 Class     Images  Instances      Box(P          R      mAP50  mAP50-95): 100%|██████████| 7/7 [00:01<00:00,  4.14it/s]"
     ]
    },
    {
     "name": "stdout",
     "output_type": "stream",
     "text": [
      "                   all         56        643      0.779      0.417        0.6      0.306\n"
     ]
    },
    {
     "name": "stderr",
     "output_type": "stream",
     "text": [
      "\n"
     ]
    },
    {
     "name": "stdout",
     "output_type": "stream",
     "text": [
      "\n",
      "      Epoch    GPU_mem   box_loss   cls_loss   dfl_loss  Instances       Size\n"
     ]
    },
    {
     "name": "stderr",
     "output_type": "stream",
     "text": [
      "     83/100         0G      1.896      1.215       1.04         95        320: 100%|██████████| 206/206 [01:00<00:00,  3.38it/s]\n",
      "                 Class     Images  Instances      Box(P          R      mAP50  mAP50-95): 100%|██████████| 7/7 [00:01<00:00,  4.21it/s]"
     ]
    },
    {
     "name": "stdout",
     "output_type": "stream",
     "text": [
      "                   all         56        643      0.743      0.411      0.572      0.289\n"
     ]
    },
    {
     "name": "stderr",
     "output_type": "stream",
     "text": [
      "\n"
     ]
    },
    {
     "name": "stdout",
     "output_type": "stream",
     "text": [
      "\n",
      "      Epoch    GPU_mem   box_loss   cls_loss   dfl_loss  Instances       Size\n"
     ]
    },
    {
     "name": "stderr",
     "output_type": "stream",
     "text": [
      "     84/100         0G      1.885      1.205      1.037         51        320: 100%|██████████| 206/206 [01:05<00:00,  3.12it/s]\n",
      "                 Class     Images  Instances      Box(P          R      mAP50  mAP50-95): 100%|██████████| 7/7 [00:01<00:00,  4.20it/s]"
     ]
    },
    {
     "name": "stdout",
     "output_type": "stream",
     "text": [
      "                   all         56        643      0.761      0.401      0.584      0.304\n"
     ]
    },
    {
     "name": "stderr",
     "output_type": "stream",
     "text": [
      "\n"
     ]
    },
    {
     "name": "stdout",
     "output_type": "stream",
     "text": [
      "\n",
      "      Epoch    GPU_mem   box_loss   cls_loss   dfl_loss  Instances       Size\n"
     ]
    },
    {
     "name": "stderr",
     "output_type": "stream",
     "text": [
      "     85/100         0G      1.884      1.204      1.031         83        320: 100%|██████████| 206/206 [00:54<00:00,  3.79it/s]\n",
      "                 Class     Images  Instances      Box(P          R      mAP50  mAP50-95): 100%|██████████| 7/7 [00:01<00:00,  4.22it/s]"
     ]
    },
    {
     "name": "stdout",
     "output_type": "stream",
     "text": [
      "                   all         56        643      0.746       0.42      0.592      0.303\n"
     ]
    },
    {
     "name": "stderr",
     "output_type": "stream",
     "text": [
      "\n"
     ]
    },
    {
     "name": "stdout",
     "output_type": "stream",
     "text": [
      "\n",
      "      Epoch    GPU_mem   box_loss   cls_loss   dfl_loss  Instances       Size\n"
     ]
    },
    {
     "name": "stderr",
     "output_type": "stream",
     "text": [
      "     86/100         0G      1.876      1.214      1.042         48        320: 100%|██████████| 206/206 [00:54<00:00,  3.81it/s]\n",
      "                 Class     Images  Instances      Box(P          R      mAP50  mAP50-95): 100%|██████████| 7/7 [00:01<00:00,  4.28it/s]"
     ]
    },
    {
     "name": "stdout",
     "output_type": "stream",
     "text": [
      "                   all         56        643      0.803      0.387      0.596      0.315\n"
     ]
    },
    {
     "name": "stderr",
     "output_type": "stream",
     "text": [
      "\n"
     ]
    },
    {
     "name": "stdout",
     "output_type": "stream",
     "text": [
      "\n",
      "      Epoch    GPU_mem   box_loss   cls_loss   dfl_loss  Instances       Size\n"
     ]
    },
    {
     "name": "stderr",
     "output_type": "stream",
     "text": [
      "     87/100         0G      1.863      1.191      1.036         42        320: 100%|██████████| 206/206 [00:53<00:00,  3.86it/s]\n",
      "                 Class     Images  Instances      Box(P          R      mAP50  mAP50-95): 100%|██████████| 7/7 [00:01<00:00,  4.27it/s]"
     ]
    },
    {
     "name": "stdout",
     "output_type": "stream",
     "text": [
      "                   all         56        643      0.751      0.418      0.593      0.304\n"
     ]
    },
    {
     "name": "stderr",
     "output_type": "stream",
     "text": [
      "\n"
     ]
    },
    {
     "name": "stdout",
     "output_type": "stream",
     "text": [
      "\n",
      "      Epoch    GPU_mem   box_loss   cls_loss   dfl_loss  Instances       Size\n"
     ]
    },
    {
     "name": "stderr",
     "output_type": "stream",
     "text": [
      "     88/100         0G      1.882      1.186      1.035         45        320: 100%|██████████| 206/206 [00:53<00:00,  3.85it/s]\n",
      "                 Class     Images  Instances      Box(P          R      mAP50  mAP50-95): 100%|██████████| 7/7 [00:01<00:00,  4.33it/s]"
     ]
    },
    {
     "name": "stdout",
     "output_type": "stream",
     "text": [
      "                   all         56        643      0.761      0.421      0.596      0.309\n"
     ]
    },
    {
     "name": "stderr",
     "output_type": "stream",
     "text": [
      "\n"
     ]
    },
    {
     "name": "stdout",
     "output_type": "stream",
     "text": [
      "\n",
      "      Epoch    GPU_mem   box_loss   cls_loss   dfl_loss  Instances       Size\n"
     ]
    },
    {
     "name": "stderr",
     "output_type": "stream",
     "text": [
      "     89/100         0G      1.863      1.171      1.034         19        320: 100%|██████████| 206/206 [00:52<00:00,  3.91it/s]\n",
      "                 Class     Images  Instances      Box(P          R      mAP50  mAP50-95): 100%|██████████| 7/7 [00:01<00:00,  4.29it/s]"
     ]
    },
    {
     "name": "stdout",
     "output_type": "stream",
     "text": [
      "                   all         56        643      0.766      0.407       0.59      0.305\n"
     ]
    },
    {
     "name": "stderr",
     "output_type": "stream",
     "text": [
      "\n"
     ]
    },
    {
     "name": "stdout",
     "output_type": "stream",
     "text": [
      "\n",
      "      Epoch    GPU_mem   box_loss   cls_loss   dfl_loss  Instances       Size\n"
     ]
    },
    {
     "name": "stderr",
     "output_type": "stream",
     "text": [
      "     90/100         0G       1.85      1.177      1.034         22        320: 100%|██████████| 206/206 [00:54<00:00,  3.77it/s]\n",
      "                 Class     Images  Instances      Box(P          R      mAP50  mAP50-95): 100%|██████████| 7/7 [00:01<00:00,  4.31it/s]"
     ]
    },
    {
     "name": "stdout",
     "output_type": "stream",
     "text": [
      "                   all         56        643      0.751      0.437      0.599      0.313\n"
     ]
    },
    {
     "name": "stderr",
     "output_type": "stream",
     "text": [
      "\n"
     ]
    },
    {
     "name": "stdout",
     "output_type": "stream",
     "text": [
      "Closing dataloader mosaic\n",
      "\n",
      "      Epoch    GPU_mem   box_loss   cls_loss   dfl_loss  Instances       Size\n"
     ]
    },
    {
     "name": "stderr",
     "output_type": "stream",
     "text": [
      "     91/100         0G      1.824      1.195      1.046         27        320: 100%|██████████| 206/206 [00:55<00:00,  3.73it/s]\n",
      "                 Class     Images  Instances      Box(P          R      mAP50  mAP50-95): 100%|██████████| 7/7 [00:01<00:00,  3.90it/s]"
     ]
    },
    {
     "name": "stdout",
     "output_type": "stream",
     "text": [
      "                   all         56        643      0.826       0.37      0.594      0.319\n"
     ]
    },
    {
     "name": "stderr",
     "output_type": "stream",
     "text": [
      "\n"
     ]
    },
    {
     "name": "stdout",
     "output_type": "stream",
     "text": [
      "\n",
      "      Epoch    GPU_mem   box_loss   cls_loss   dfl_loss  Instances       Size\n"
     ]
    },
    {
     "name": "stderr",
     "output_type": "stream",
     "text": [
      "     92/100         0G      1.817      1.165      1.039         24        320: 100%|██████████| 206/206 [00:56<00:00,  3.64it/s]\n",
      "                 Class     Images  Instances      Box(P          R      mAP50  mAP50-95): 100%|██████████| 7/7 [00:01<00:00,  3.96it/s]"
     ]
    },
    {
     "name": "stdout",
     "output_type": "stream",
     "text": [
      "                   all         56        643      0.747      0.429      0.595      0.316\n"
     ]
    },
    {
     "name": "stderr",
     "output_type": "stream",
     "text": [
      "\n"
     ]
    },
    {
     "name": "stdout",
     "output_type": "stream",
     "text": [
      "\n",
      "      Epoch    GPU_mem   box_loss   cls_loss   dfl_loss  Instances       Size\n"
     ]
    },
    {
     "name": "stderr",
     "output_type": "stream",
     "text": [
      "     93/100         0G       1.82      1.156      1.037         19        320: 100%|██████████| 206/206 [00:56<00:00,  3.67it/s]\n",
      "                 Class     Images  Instances      Box(P          R      mAP50  mAP50-95): 100%|██████████| 7/7 [00:01<00:00,  4.03it/s]"
     ]
    },
    {
     "name": "stdout",
     "output_type": "stream",
     "text": [
      "                   all         56        643      0.764      0.418      0.592       0.31\n"
     ]
    },
    {
     "name": "stderr",
     "output_type": "stream",
     "text": [
      "\n"
     ]
    },
    {
     "name": "stdout",
     "output_type": "stream",
     "text": [
      "\n",
      "      Epoch    GPU_mem   box_loss   cls_loss   dfl_loss  Instances       Size\n"
     ]
    },
    {
     "name": "stderr",
     "output_type": "stream",
     "text": [
      "     94/100         0G      1.803      1.158      1.041         25        320: 100%|██████████| 206/206 [00:57<00:00,  3.59it/s]\n",
      "                 Class     Images  Instances      Box(P          R      mAP50  mAP50-95): 100%|██████████| 7/7 [00:01<00:00,  4.25it/s]"
     ]
    },
    {
     "name": "stdout",
     "output_type": "stream",
     "text": [
      "                   all         56        643       0.77      0.417      0.598      0.316\n"
     ]
    },
    {
     "name": "stderr",
     "output_type": "stream",
     "text": [
      "\n"
     ]
    },
    {
     "name": "stdout",
     "output_type": "stream",
     "text": [
      "\n",
      "      Epoch    GPU_mem   box_loss   cls_loss   dfl_loss  Instances       Size\n"
     ]
    },
    {
     "name": "stderr",
     "output_type": "stream",
     "text": [
      "     95/100         0G      1.793      1.162      1.041         31        320: 100%|██████████| 206/206 [00:55<00:00,  3.70it/s]\n",
      "                 Class     Images  Instances      Box(P          R      mAP50  mAP50-95): 100%|██████████| 7/7 [00:01<00:00,  4.02it/s]"
     ]
    },
    {
     "name": "stdout",
     "output_type": "stream",
     "text": [
      "                   all         56        643      0.761      0.431      0.599      0.314\n"
     ]
    },
    {
     "name": "stderr",
     "output_type": "stream",
     "text": [
      "\n"
     ]
    },
    {
     "name": "stdout",
     "output_type": "stream",
     "text": [
      "\n",
      "      Epoch    GPU_mem   box_loss   cls_loss   dfl_loss  Instances       Size\n"
     ]
    },
    {
     "name": "stderr",
     "output_type": "stream",
     "text": [
      "     96/100         0G      1.792      1.147      1.042         32        320: 100%|██████████| 206/206 [00:54<00:00,  3.81it/s]\n",
      "                 Class     Images  Instances      Box(P          R      mAP50  mAP50-95): 100%|██████████| 7/7 [00:01<00:00,  4.22it/s]"
     ]
    },
    {
     "name": "stdout",
     "output_type": "stream",
     "text": [
      "                   all         56        643      0.785      0.415      0.602      0.314\n"
     ]
    },
    {
     "name": "stderr",
     "output_type": "stream",
     "text": [
      "\n"
     ]
    },
    {
     "name": "stdout",
     "output_type": "stream",
     "text": [
      "\n",
      "      Epoch    GPU_mem   box_loss   cls_loss   dfl_loss  Instances       Size\n"
     ]
    },
    {
     "name": "stderr",
     "output_type": "stream",
     "text": [
      "     97/100         0G      1.791      1.136      1.029         39        320: 100%|██████████| 206/206 [00:53<00:00,  3.82it/s]\n",
      "                 Class     Images  Instances      Box(P          R      mAP50  mAP50-95): 100%|██████████| 7/7 [00:01<00:00,  4.35it/s]"
     ]
    },
    {
     "name": "stdout",
     "output_type": "stream",
     "text": [
      "                   all         56        643      0.765      0.429      0.601      0.314\n"
     ]
    },
    {
     "name": "stderr",
     "output_type": "stream",
     "text": [
      "\n"
     ]
    },
    {
     "name": "stdout",
     "output_type": "stream",
     "text": [
      "\n",
      "      Epoch    GPU_mem   box_loss   cls_loss   dfl_loss  Instances       Size\n"
     ]
    },
    {
     "name": "stderr",
     "output_type": "stream",
     "text": [
      "     98/100         0G      1.786      1.143      1.046         48        320: 100%|██████████| 206/206 [00:59<00:00,  3.47it/s]\n",
      "                 Class     Images  Instances      Box(P          R      mAP50  mAP50-95): 100%|██████████| 7/7 [00:01<00:00,  4.31it/s]"
     ]
    },
    {
     "name": "stdout",
     "output_type": "stream",
     "text": [
      "                   all         56        643      0.765      0.431      0.601      0.315\n"
     ]
    },
    {
     "name": "stderr",
     "output_type": "stream",
     "text": [
      "\n"
     ]
    },
    {
     "name": "stdout",
     "output_type": "stream",
     "text": [
      "\n",
      "      Epoch    GPU_mem   box_loss   cls_loss   dfl_loss  Instances       Size\n"
     ]
    },
    {
     "name": "stderr",
     "output_type": "stream",
     "text": [
      "     99/100         0G      1.783      1.143      1.032         51        320: 100%|██████████| 206/206 [00:54<00:00,  3.79it/s]\n",
      "                 Class     Images  Instances      Box(P          R      mAP50  mAP50-95): 100%|██████████| 7/7 [00:01<00:00,  4.29it/s]"
     ]
    },
    {
     "name": "stdout",
     "output_type": "stream",
     "text": [
      "                   all         56        643      0.759      0.431        0.6      0.314\n"
     ]
    },
    {
     "name": "stderr",
     "output_type": "stream",
     "text": [
      "\n"
     ]
    },
    {
     "name": "stdout",
     "output_type": "stream",
     "text": [
      "\n",
      "      Epoch    GPU_mem   box_loss   cls_loss   dfl_loss  Instances       Size\n"
     ]
    },
    {
     "name": "stderr",
     "output_type": "stream",
     "text": [
      "    100/100         0G      1.778      1.136      1.032         17        320: 100%|██████████| 206/206 [00:56<00:00,  3.64it/s]\n",
      "                 Class     Images  Instances      Box(P          R      mAP50  mAP50-95): 100%|██████████| 7/7 [00:01<00:00,  3.84it/s]"
     ]
    },
    {
     "name": "stdout",
     "output_type": "stream",
     "text": [
      "                   all         56        643      0.776      0.426      0.606      0.317\n"
     ]
    },
    {
     "name": "stderr",
     "output_type": "stream",
     "text": [
      "\n"
     ]
    },
    {
     "name": "stdout",
     "output_type": "stream",
     "text": [
      "\n",
      "100 epochs completed in 1.772 hours.\n",
      "Optimizer stripped from runs/detect/train5/weights/last.pt, 6.2MB\n",
      "Optimizer stripped from runs/detect/train5/weights/best.pt, 6.2MB\n",
      "\n",
      "Validating runs/detect/train5/weights/best.pt...\n",
      "Ultralytics 8.3.23 🚀 Python-3.12.7 torch-2.5.1 CPU (Apple M1)\n",
      "Model summary (fused): 168 layers, 3,005,843 parameters, 0 gradients\n"
     ]
    },
    {
     "name": "stderr",
     "output_type": "stream",
     "text": [
      "                 Class     Images  Instances      Box(P          R      mAP50  mAP50-95): 100%|██████████| 7/7 [00:01<00:00,  3.94it/s]\n"
     ]
    },
    {
     "name": "stdout",
     "output_type": "stream",
     "text": [
      "                   all         56        643      0.776      0.425      0.605      0.317\n",
      "Speed: 0.4ms preprocess, 25.5ms inference, 0.0ms loss, 0.2ms postprocess per image\n",
      "Results saved to \u001b[1mruns/detect/train5\u001b[0m\n"
     ]
    },
    {
     "data": {
      "text/plain": [
       "ultralytics.utils.metrics.DetMetrics object with attributes:\n",
       "\n",
       "ap_class_index: array([0])\n",
       "box: ultralytics.utils.metrics.Metric object\n",
       "confusion_matrix: <ultralytics.utils.metrics.ConfusionMatrix object at 0x30ec72270>\n",
       "curves: ['Precision-Recall(B)', 'F1-Confidence(B)', 'Precision-Confidence(B)', 'Recall-Confidence(B)']\n",
       "curves_results: [[array([          0,    0.001001,    0.002002,    0.003003,    0.004004,    0.005005,    0.006006,    0.007007,    0.008008,    0.009009,     0.01001,    0.011011,    0.012012,    0.013013,    0.014014,    0.015015,    0.016016,    0.017017,    0.018018,    0.019019,     0.02002,    0.021021,    0.022022,    0.023023,\n",
       "          0.024024,    0.025025,    0.026026,    0.027027,    0.028028,    0.029029,     0.03003,    0.031031,    0.032032,    0.033033,    0.034034,    0.035035,    0.036036,    0.037037,    0.038038,    0.039039,     0.04004,    0.041041,    0.042042,    0.043043,    0.044044,    0.045045,    0.046046,    0.047047,\n",
       "          0.048048,    0.049049,     0.05005,    0.051051,    0.052052,    0.053053,    0.054054,    0.055055,    0.056056,    0.057057,    0.058058,    0.059059,     0.06006,    0.061061,    0.062062,    0.063063,    0.064064,    0.065065,    0.066066,    0.067067,    0.068068,    0.069069,     0.07007,    0.071071,\n",
       "          0.072072,    0.073073,    0.074074,    0.075075,    0.076076,    0.077077,    0.078078,    0.079079,     0.08008,    0.081081,    0.082082,    0.083083,    0.084084,    0.085085,    0.086086,    0.087087,    0.088088,    0.089089,     0.09009,    0.091091,    0.092092,    0.093093,    0.094094,    0.095095,\n",
       "          0.096096,    0.097097,    0.098098,    0.099099,      0.1001,      0.1011,      0.1021,      0.1031,      0.1041,     0.10511,     0.10611,     0.10711,     0.10811,     0.10911,     0.11011,     0.11111,     0.11211,     0.11311,     0.11411,     0.11512,     0.11612,     0.11712,     0.11812,     0.11912,\n",
       "           0.12012,     0.12112,     0.12212,     0.12312,     0.12412,     0.12513,     0.12613,     0.12713,     0.12813,     0.12913,     0.13013,     0.13113,     0.13213,     0.13313,     0.13413,     0.13514,     0.13614,     0.13714,     0.13814,     0.13914,     0.14014,     0.14114,     0.14214,     0.14314,\n",
       "           0.14414,     0.14515,     0.14615,     0.14715,     0.14815,     0.14915,     0.15015,     0.15115,     0.15215,     0.15315,     0.15415,     0.15516,     0.15616,     0.15716,     0.15816,     0.15916,     0.16016,     0.16116,     0.16216,     0.16316,     0.16416,     0.16517,     0.16617,     0.16717,\n",
       "           0.16817,     0.16917,     0.17017,     0.17117,     0.17217,     0.17317,     0.17417,     0.17518,     0.17618,     0.17718,     0.17818,     0.17918,     0.18018,     0.18118,     0.18218,     0.18318,     0.18418,     0.18519,     0.18619,     0.18719,     0.18819,     0.18919,     0.19019,     0.19119,\n",
       "           0.19219,     0.19319,     0.19419,      0.1952,      0.1962,      0.1972,      0.1982,      0.1992,      0.2002,      0.2012,      0.2022,      0.2032,      0.2042,     0.20521,     0.20621,     0.20721,     0.20821,     0.20921,     0.21021,     0.21121,     0.21221,     0.21321,     0.21421,     0.21522,\n",
       "           0.21622,     0.21722,     0.21822,     0.21922,     0.22022,     0.22122,     0.22222,     0.22322,     0.22422,     0.22523,     0.22623,     0.22723,     0.22823,     0.22923,     0.23023,     0.23123,     0.23223,     0.23323,     0.23423,     0.23524,     0.23624,     0.23724,     0.23824,     0.23924,\n",
       "           0.24024,     0.24124,     0.24224,     0.24324,     0.24424,     0.24525,     0.24625,     0.24725,     0.24825,     0.24925,     0.25025,     0.25125,     0.25225,     0.25325,     0.25425,     0.25526,     0.25626,     0.25726,     0.25826,     0.25926,     0.26026,     0.26126,     0.26226,     0.26326,\n",
       "           0.26426,     0.26527,     0.26627,     0.26727,     0.26827,     0.26927,     0.27027,     0.27127,     0.27227,     0.27327,     0.27427,     0.27528,     0.27628,     0.27728,     0.27828,     0.27928,     0.28028,     0.28128,     0.28228,     0.28328,     0.28428,     0.28529,     0.28629,     0.28729,\n",
       "           0.28829,     0.28929,     0.29029,     0.29129,     0.29229,     0.29329,     0.29429,      0.2953,      0.2963,      0.2973,      0.2983,      0.2993,      0.3003,      0.3013,      0.3023,      0.3033,      0.3043,     0.30531,     0.30631,     0.30731,     0.30831,     0.30931,     0.31031,     0.31131,\n",
       "           0.31231,     0.31331,     0.31431,     0.31532,     0.31632,     0.31732,     0.31832,     0.31932,     0.32032,     0.32132,     0.32232,     0.32332,     0.32432,     0.32533,     0.32633,     0.32733,     0.32833,     0.32933,     0.33033,     0.33133,     0.33233,     0.33333,     0.33433,     0.33534,\n",
       "           0.33634,     0.33734,     0.33834,     0.33934,     0.34034,     0.34134,     0.34234,     0.34334,     0.34434,     0.34535,     0.34635,     0.34735,     0.34835,     0.34935,     0.35035,     0.35135,     0.35235,     0.35335,     0.35435,     0.35536,     0.35636,     0.35736,     0.35836,     0.35936,\n",
       "           0.36036,     0.36136,     0.36236,     0.36336,     0.36436,     0.36537,     0.36637,     0.36737,     0.36837,     0.36937,     0.37037,     0.37137,     0.37237,     0.37337,     0.37437,     0.37538,     0.37638,     0.37738,     0.37838,     0.37938,     0.38038,     0.38138,     0.38238,     0.38338,\n",
       "           0.38438,     0.38539,     0.38639,     0.38739,     0.38839,     0.38939,     0.39039,     0.39139,     0.39239,     0.39339,     0.39439,      0.3954,      0.3964,      0.3974,      0.3984,      0.3994,      0.4004,      0.4014,      0.4024,      0.4034,      0.4044,     0.40541,     0.40641,     0.40741,\n",
       "           0.40841,     0.40941,     0.41041,     0.41141,     0.41241,     0.41341,     0.41441,     0.41542,     0.41642,     0.41742,     0.41842,     0.41942,     0.42042,     0.42142,     0.42242,     0.42342,     0.42442,     0.42543,     0.42643,     0.42743,     0.42843,     0.42943,     0.43043,     0.43143,\n",
       "           0.43243,     0.43343,     0.43443,     0.43544,     0.43644,     0.43744,     0.43844,     0.43944,     0.44044,     0.44144,     0.44244,     0.44344,     0.44444,     0.44545,     0.44645,     0.44745,     0.44845,     0.44945,     0.45045,     0.45145,     0.45245,     0.45345,     0.45445,     0.45546,\n",
       "           0.45646,     0.45746,     0.45846,     0.45946,     0.46046,     0.46146,     0.46246,     0.46346,     0.46446,     0.46547,     0.46647,     0.46747,     0.46847,     0.46947,     0.47047,     0.47147,     0.47247,     0.47347,     0.47447,     0.47548,     0.47648,     0.47748,     0.47848,     0.47948,\n",
       "           0.48048,     0.48148,     0.48248,     0.48348,     0.48448,     0.48549,     0.48649,     0.48749,     0.48849,     0.48949,     0.49049,     0.49149,     0.49249,     0.49349,     0.49449,      0.4955,      0.4965,      0.4975,      0.4985,      0.4995,      0.5005,      0.5015,      0.5025,      0.5035,\n",
       "            0.5045,     0.50551,     0.50651,     0.50751,     0.50851,     0.50951,     0.51051,     0.51151,     0.51251,     0.51351,     0.51451,     0.51552,     0.51652,     0.51752,     0.51852,     0.51952,     0.52052,     0.52152,     0.52252,     0.52352,     0.52452,     0.52553,     0.52653,     0.52753,\n",
       "           0.52853,     0.52953,     0.53053,     0.53153,     0.53253,     0.53353,     0.53453,     0.53554,     0.53654,     0.53754,     0.53854,     0.53954,     0.54054,     0.54154,     0.54254,     0.54354,     0.54454,     0.54555,     0.54655,     0.54755,     0.54855,     0.54955,     0.55055,     0.55155,\n",
       "           0.55255,     0.55355,     0.55455,     0.55556,     0.55656,     0.55756,     0.55856,     0.55956,     0.56056,     0.56156,     0.56256,     0.56356,     0.56456,     0.56557,     0.56657,     0.56757,     0.56857,     0.56957,     0.57057,     0.57157,     0.57257,     0.57357,     0.57457,     0.57558,\n",
       "           0.57658,     0.57758,     0.57858,     0.57958,     0.58058,     0.58158,     0.58258,     0.58358,     0.58458,     0.58559,     0.58659,     0.58759,     0.58859,     0.58959,     0.59059,     0.59159,     0.59259,     0.59359,     0.59459,      0.5956,      0.5966,      0.5976,      0.5986,      0.5996,\n",
       "            0.6006,      0.6016,      0.6026,      0.6036,      0.6046,     0.60561,     0.60661,     0.60761,     0.60861,     0.60961,     0.61061,     0.61161,     0.61261,     0.61361,     0.61461,     0.61562,     0.61662,     0.61762,     0.61862,     0.61962,     0.62062,     0.62162,     0.62262,     0.62362,\n",
       "           0.62462,     0.62563,     0.62663,     0.62763,     0.62863,     0.62963,     0.63063,     0.63163,     0.63263,     0.63363,     0.63463,     0.63564,     0.63664,     0.63764,     0.63864,     0.63964,     0.64064,     0.64164,     0.64264,     0.64364,     0.64464,     0.64565,     0.64665,     0.64765,\n",
       "           0.64865,     0.64965,     0.65065,     0.65165,     0.65265,     0.65365,     0.65465,     0.65566,     0.65666,     0.65766,     0.65866,     0.65966,     0.66066,     0.66166,     0.66266,     0.66366,     0.66466,     0.66567,     0.66667,     0.66767,     0.66867,     0.66967,     0.67067,     0.67167,\n",
       "           0.67267,     0.67367,     0.67467,     0.67568,     0.67668,     0.67768,     0.67868,     0.67968,     0.68068,     0.68168,     0.68268,     0.68368,     0.68468,     0.68569,     0.68669,     0.68769,     0.68869,     0.68969,     0.69069,     0.69169,     0.69269,     0.69369,     0.69469,      0.6957,\n",
       "            0.6967,      0.6977,      0.6987,      0.6997,      0.7007,      0.7017,      0.7027,      0.7037,      0.7047,     0.70571,     0.70671,     0.70771,     0.70871,     0.70971,     0.71071,     0.71171,     0.71271,     0.71371,     0.71471,     0.71572,     0.71672,     0.71772,     0.71872,     0.71972,\n",
       "           0.72072,     0.72172,     0.72272,     0.72372,     0.72472,     0.72573,     0.72673,     0.72773,     0.72873,     0.72973,     0.73073,     0.73173,     0.73273,     0.73373,     0.73473,     0.73574,     0.73674,     0.73774,     0.73874,     0.73974,     0.74074,     0.74174,     0.74274,     0.74374,\n",
       "           0.74474,     0.74575,     0.74675,     0.74775,     0.74875,     0.74975,     0.75075,     0.75175,     0.75275,     0.75375,     0.75475,     0.75576,     0.75676,     0.75776,     0.75876,     0.75976,     0.76076,     0.76176,     0.76276,     0.76376,     0.76476,     0.76577,     0.76677,     0.76777,\n",
       "           0.76877,     0.76977,     0.77077,     0.77177,     0.77277,     0.77377,     0.77477,     0.77578,     0.77678,     0.77778,     0.77878,     0.77978,     0.78078,     0.78178,     0.78278,     0.78378,     0.78478,     0.78579,     0.78679,     0.78779,     0.78879,     0.78979,     0.79079,     0.79179,\n",
       "           0.79279,     0.79379,     0.79479,      0.7958,      0.7968,      0.7978,      0.7988,      0.7998,      0.8008,      0.8018,      0.8028,      0.8038,      0.8048,     0.80581,     0.80681,     0.80781,     0.80881,     0.80981,     0.81081,     0.81181,     0.81281,     0.81381,     0.81481,     0.81582,\n",
       "           0.81682,     0.81782,     0.81882,     0.81982,     0.82082,     0.82182,     0.82282,     0.82382,     0.82482,     0.82583,     0.82683,     0.82783,     0.82883,     0.82983,     0.83083,     0.83183,     0.83283,     0.83383,     0.83483,     0.83584,     0.83684,     0.83784,     0.83884,     0.83984,\n",
       "           0.84084,     0.84184,     0.84284,     0.84384,     0.84484,     0.84585,     0.84685,     0.84785,     0.84885,     0.84985,     0.85085,     0.85185,     0.85285,     0.85385,     0.85485,     0.85586,     0.85686,     0.85786,     0.85886,     0.85986,     0.86086,     0.86186,     0.86286,     0.86386,\n",
       "           0.86486,     0.86587,     0.86687,     0.86787,     0.86887,     0.86987,     0.87087,     0.87187,     0.87287,     0.87387,     0.87487,     0.87588,     0.87688,     0.87788,     0.87888,     0.87988,     0.88088,     0.88188,     0.88288,     0.88388,     0.88488,     0.88589,     0.88689,     0.88789,\n",
       "           0.88889,     0.88989,     0.89089,     0.89189,     0.89289,     0.89389,     0.89489,      0.8959,      0.8969,      0.8979,      0.8989,      0.8999,      0.9009,      0.9019,      0.9029,      0.9039,      0.9049,     0.90591,     0.90691,     0.90791,     0.90891,     0.90991,     0.91091,     0.91191,\n",
       "           0.91291,     0.91391,     0.91491,     0.91592,     0.91692,     0.91792,     0.91892,     0.91992,     0.92092,     0.92192,     0.92292,     0.92392,     0.92492,     0.92593,     0.92693,     0.92793,     0.92893,     0.92993,     0.93093,     0.93193,     0.93293,     0.93393,     0.93493,     0.93594,\n",
       "           0.93694,     0.93794,     0.93894,     0.93994,     0.94094,     0.94194,     0.94294,     0.94394,     0.94494,     0.94595,     0.94695,     0.94795,     0.94895,     0.94995,     0.95095,     0.95195,     0.95295,     0.95395,     0.95495,     0.95596,     0.95696,     0.95796,     0.95896,     0.95996,\n",
       "           0.96096,     0.96196,     0.96296,     0.96396,     0.96496,     0.96597,     0.96697,     0.96797,     0.96897,     0.96997,     0.97097,     0.97197,     0.97297,     0.97397,     0.97497,     0.97598,     0.97698,     0.97798,     0.97898,     0.97998,     0.98098,     0.98198,     0.98298,     0.98398,\n",
       "           0.98498,     0.98599,     0.98699,     0.98799,     0.98899,     0.98999,     0.99099,     0.99199,     0.99299,     0.99399,     0.99499,       0.996,       0.997,       0.998,       0.999,           1]), array([[          1,           1,           1,           1,           1,           1,           1,           1,           1,           1,           1,           1,           1,           1,           1,           1,           1,           1,           1,           1,           1,           1,     0.97222,\n",
       "            0.97222,     0.97222,     0.97222,     0.97222,     0.97222,     0.97222,     0.97222,     0.97222,     0.97222,     0.97222,     0.97222,     0.97222,     0.97222,     0.97222,     0.97222,     0.97222,     0.97222,     0.97222,     0.97222,     0.97222,     0.97222,     0.97222,     0.97222,\n",
       "            0.97222,     0.97222,     0.97222,     0.97222,     0.97222,     0.97222,     0.97222,     0.97222,     0.97222,     0.95455,     0.95455,     0.95455,     0.95455,     0.95455,     0.95455,     0.95455,     0.95455,     0.95455,     0.95455,     0.95455,     0.94643,     0.94643,     0.94643,\n",
       "            0.94643,     0.94643,     0.94643,     0.94643,     0.94643,     0.94643,     0.94643,     0.94643,     0.94643,     0.94643,     0.94643,     0.94643,     0.94643,     0.94643,     0.93846,     0.93846,     0.93846,     0.93846,     0.93846,     0.93846,     0.93846,     0.93846,     0.93846,\n",
       "            0.93846,     0.93846,     0.93846,     0.93103,     0.93103,     0.93103,     0.93103,     0.93103,     0.93103,     0.93103,     0.93103,     0.93103,     0.93103,     0.93103,     0.93103,     0.93103,     0.93103,     0.93103,     0.93103,     0.93103,     0.93103,     0.93103,     0.93103,\n",
       "            0.93103,     0.93103,     0.93103,     0.93103,     0.93103,     0.93103,     0.93103,     0.93103,     0.93103,     0.93103,     0.93103,     0.92727,     0.92727,     0.92727,     0.92727,     0.92727,     0.92727,     0.92727,     0.92727,     0.92727,     0.92727,     0.92727,     0.92727,\n",
       "            0.92727,     0.92727,     0.92727,     0.92727,     0.92727,     0.92727,     0.92727,     0.92727,     0.92727,     0.92727,     0.92727,     0.92727,     0.92727,     0.92727,     0.92727,     0.92727,     0.92727,     0.92727,     0.92727,     0.92727,     0.92727,     0.91964,     0.91964,\n",
       "            0.91228,     0.91057,     0.91057,     0.91057,     0.91057,     0.91057,     0.91057,     0.91057,     0.91057,     0.91057,     0.91057,     0.91057,     0.91057,     0.91057,     0.90323,     0.90323,     0.90323,     0.90323,     0.90323,     0.90323,     0.90323,     0.90323,     0.90323,\n",
       "            0.90323,     0.90323,     0.90323,     0.90323,     0.90323,     0.90323,     0.90323,     0.90323,     0.90323,     0.90323,     0.90323,     0.90323,     0.90323,     0.90323,     0.90323,     0.90323,     0.90323,     0.90323,     0.90323,     0.90323,     0.90323,     0.90323,     0.90323,\n",
       "            0.90323,     0.90323,     0.90323,     0.90323,     0.90323,     0.90323,     0.90323,     0.90323,     0.90323,     0.90323,     0.90323,     0.90062,     0.90062,     0.90062,     0.90062,     0.90062,     0.90062,     0.90062,     0.90062,     0.89785,     0.89785,     0.89785,     0.89785,\n",
       "            0.89785,     0.89785,     0.89785,     0.89785,     0.89785,     0.89785,     0.89785,     0.89785,     0.89785,     0.89785,     0.89785,     0.89785,     0.89785,     0.89785,     0.89785,     0.89785,     0.89785,     0.89785,     0.89785,     0.89785,     0.89785,     0.89785,     0.89785,\n",
       "            0.89785,     0.89785,     0.89785,     0.89785,     0.89785,     0.89785,     0.89785,     0.89474,     0.89474,     0.89474,     0.89474,     0.89474,     0.89062,     0.88945,     0.88945,     0.88945,     0.88945,     0.88945,     0.88945,     0.88945,     0.88945,     0.88945,     0.88614,\n",
       "            0.88614,     0.88614,     0.88614,     0.87665,     0.87665,     0.87665,     0.87665,     0.87665,     0.87665,     0.87665,     0.87665,     0.87665,     0.87665,     0.87665,     0.87665,     0.87665,     0.87665,     0.87665,     0.87665,     0.87665,     0.87665,     0.87665,     0.87665,\n",
       "            0.87665,     0.87665,     0.87665,     0.87665,     0.87665,     0.87665,     0.87665,     0.87665,     0.87665,     0.87665,     0.87665,       0.875,       0.875,       0.875,       0.875,       0.875,       0.875,     0.86585,     0.86585,     0.86585,     0.86585,     0.86585,     0.86585,\n",
       "            0.86585,     0.86585,     0.86585,     0.86585,     0.86585,     0.86585,     0.86585,     0.86585,     0.86585,     0.85944,     0.85944,     0.85115,     0.85115,     0.85115,     0.85115,     0.85115,     0.85115,     0.85115,     0.85115,     0.85115,     0.85115,     0.85115,     0.85115,\n",
       "            0.85115,     0.85115,     0.84962,     0.84962,     0.84962,     0.84962,     0.84962,     0.84758,     0.84758,     0.84758,     0.84502,        0.84,        0.84,        0.84,     0.83154,     0.83154,     0.82394,     0.82394,     0.82394,     0.82353,     0.82353,     0.82353,     0.82353,\n",
       "            0.82353,     0.82353,     0.82095,     0.82095,     0.82095,     0.82095,     0.82095,     0.82095,     0.82095,     0.82095,     0.81879,     0.81879,     0.81395,     0.81188,     0.81188,     0.81046,     0.81046,     0.81046,     0.80844,     0.80645,     0.80645,     0.80573,     0.80573,\n",
       "            0.80573,     0.80573,     0.80573,     0.80564,     0.80564,     0.80564,     0.80564,     0.80564,     0.80564,         0.8,         0.8,         0.8,         0.8,     0.79817,     0.79817,     0.79635,     0.79635,     0.78979,     0.78806,     0.78806,     0.78235,     0.78235,     0.78235,\n",
       "            0.78134,     0.78134,     0.78134,     0.77874,     0.77874,     0.77874,     0.77874,     0.77874,     0.77714,     0.77557,     0.77557,     0.77442,     0.77307,     0.77172,     0.77037,     0.76902,     0.76767,     0.76632,     0.76497,     0.76363,     0.76228,     0.76093,     0.75958,\n",
       "            0.75823,     0.75688,     0.75553,     0.75418,     0.75283,     0.75148,     0.75013,     0.74878,     0.74744,     0.74609,     0.74474,     0.74339,     0.74204,     0.74069,     0.73934,     0.73799,     0.73664,     0.73529,     0.73394,     0.73259,     0.73125,      0.7299,     0.72855,\n",
       "             0.7272,     0.72585,      0.7245,     0.72315,      0.7218,     0.72045,      0.7191,     0.71775,      0.7164,     0.71506,     0.71371,     0.71236,     0.71101,     0.70966,     0.70831,     0.70696,     0.70561,     0.70426,     0.70291,     0.70156,     0.70021,     0.69887,     0.69752,\n",
       "            0.69617,     0.69482,     0.69347,     0.69212,     0.69077,     0.68942,     0.68807,     0.68672,     0.68537,     0.68402,     0.68268,     0.68133,     0.67998,     0.67863,     0.67728,     0.67593,     0.67458,     0.67323,     0.67188,     0.67053,     0.66918,     0.66783,     0.66649,\n",
       "            0.66514,     0.66379,     0.66244,     0.66109,     0.65974,     0.65839,     0.65704,     0.65569,     0.65434,     0.65299,     0.65164,      0.6503,     0.64895,      0.6476,     0.64625,      0.6449,     0.64355,      0.6422,     0.64085,      0.6395,     0.63815,      0.6368,     0.63545,\n",
       "            0.63411,     0.63276,     0.63141,     0.63006,     0.62871,     0.62736,     0.62601,     0.62466,     0.62331,     0.62196,     0.62061,     0.61926,     0.61792,     0.61657,     0.61522,     0.61387,     0.61252,     0.61117,     0.60982,     0.60847,     0.60712,     0.60577,     0.60442,\n",
       "            0.60307,     0.60173,     0.60038,     0.59903,     0.59768,     0.59633,     0.59498,     0.59363,     0.59228,     0.59093,     0.58958,     0.58823,     0.58688,     0.58554,     0.58419,     0.58284,     0.58149,     0.58014,     0.57879,     0.57744,     0.57609,     0.57474,     0.57339,\n",
       "            0.57204,      0.5707,     0.56935,       0.568,     0.56665,      0.5653,     0.56395,      0.5626,     0.56125,      0.5599,     0.55855,      0.5572,     0.55585,     0.55451,     0.55316,     0.55181,     0.55046,     0.54911,     0.54776,     0.54641,     0.54506,     0.54371,     0.54236,\n",
       "            0.54101,     0.53966,     0.53832,     0.53697,     0.53562,     0.53427,     0.53292,     0.53157,     0.53022,     0.52887,     0.52752,     0.52617,     0.52482,     0.52347,     0.52213,     0.52078,     0.51943,     0.51808,     0.51673,     0.51538,     0.51403,     0.51268,     0.51133,\n",
       "            0.50998,     0.50863,     0.50728,     0.50594,     0.50459,     0.50324,     0.50189,     0.50054,     0.49919,     0.49784,     0.49649,     0.49514,     0.49379,     0.49244,     0.49109,     0.48975,      0.4884,     0.48705,      0.4857,     0.48435,       0.483,     0.48165,      0.4803,\n",
       "            0.47895,      0.4776,     0.47625,      0.4749,     0.47356,     0.47221,     0.47086,     0.46951,     0.46816,     0.46681,     0.46546,     0.46411,     0.46276,     0.46141,     0.46006,     0.45871,     0.45737,     0.45602,     0.45467,     0.45332,     0.45197,     0.45062,     0.44927,\n",
       "            0.44792,     0.44657,     0.44522,     0.44387,     0.44252,     0.44118,     0.43983,     0.43848,     0.43713,     0.43578,     0.43443,     0.43308,     0.43173,     0.43038,     0.42903,     0.42768,     0.42633,     0.42499,     0.42364,     0.42229,     0.42094,     0.41959,     0.41824,\n",
       "            0.41689,     0.41554,     0.41419,     0.41284,     0.41149,     0.41014,      0.4088,     0.40745,      0.4061,     0.40475,      0.4034,     0.40205,      0.4007,     0.39935,       0.398,     0.39665,      0.3953,     0.39395,     0.39261,     0.39126,     0.38991,     0.38856,     0.38721,\n",
       "            0.38586,     0.38451,     0.38316,     0.38181,     0.38046,     0.37911,     0.37777,     0.37642,     0.37507,     0.37372,     0.37237,     0.37102,     0.36967,     0.36832,     0.36697,     0.36562,     0.36427,     0.36292,     0.36158,     0.36023,     0.35888,     0.35753,     0.35618,\n",
       "            0.35483,     0.35348,     0.35213,     0.35078,     0.34943,     0.34808,     0.34673,     0.34539,     0.34404,     0.34269,     0.34134,     0.33999,     0.33864,     0.33729,     0.33594,     0.33459,     0.33324,     0.33189,     0.33054,      0.3292,     0.32785,      0.3265,     0.32515,\n",
       "             0.3238,     0.32245,      0.3211,     0.31975,      0.3184,     0.31705,      0.3157,     0.31435,     0.31301,     0.31166,     0.31031,     0.30896,     0.30761,     0.30626,     0.30491,     0.30356,     0.30221,     0.30086,     0.29951,     0.29816,     0.29682,     0.29547,     0.29412,\n",
       "            0.29277,     0.29142,     0.29007,     0.28872,     0.28737,     0.28602,     0.28467,     0.28332,     0.28197,     0.28063,     0.27928,     0.27793,     0.27658,     0.27523,     0.27388,     0.27253,     0.27118,     0.26983,     0.26848,     0.26713,     0.26578,     0.26444,     0.26309,\n",
       "            0.26174,     0.26039,     0.25904,     0.25769,     0.25634,     0.25499,     0.25364,     0.25229,     0.25094,     0.24959,     0.24825,      0.2469,     0.24555,      0.2442,     0.24285,      0.2415,     0.24015,      0.2388,     0.23745,      0.2361,     0.23475,      0.2334,     0.23206,\n",
       "            0.23071,     0.22936,     0.22801,     0.22666,     0.22531,     0.22396,     0.22261,     0.22126,     0.21991,     0.21856,     0.21721,     0.21587,     0.21452,     0.21317,     0.21182,     0.21047,     0.20912,     0.20777,     0.20642,     0.20507,     0.20372,     0.20237,     0.20102,\n",
       "            0.19968,     0.19833,     0.19698,     0.19563,     0.19428,     0.19293,     0.19158,     0.19023,     0.18888,     0.18753,     0.18618,     0.18484,     0.18349,     0.18214,     0.18079,     0.17944,     0.17809,     0.17674,     0.17539,     0.17404,     0.17269,     0.17134,     0.16999,\n",
       "            0.16865,      0.1673,     0.16595,      0.1646,     0.16325,      0.1619,     0.16055,      0.1592,     0.15785,      0.1565,     0.15515,      0.1538,     0.15246,     0.15111,     0.14976,     0.14841,     0.14706,     0.14571,     0.14436,     0.14301,     0.14166,     0.14031,     0.13896,\n",
       "            0.13761,     0.13627,     0.13492,     0.13357,     0.13222,     0.13087,     0.12952,     0.12817,     0.12682,     0.12547,     0.12412,     0.12277,     0.12142,     0.12008,     0.11873,     0.11738,     0.11603,     0.11468,     0.11333,     0.11198,     0.11063,     0.10928,     0.10793,\n",
       "            0.10658,     0.10523,     0.10389,     0.10254,     0.10119,    0.099838,    0.098489,     0.09714,     0.09579,    0.094441,    0.093092,    0.091743,    0.090394,    0.089045,    0.087695,    0.086346,    0.084997,    0.083648,    0.082299,     0.08095,      0.0796,    0.078251,    0.076902,\n",
       "           0.075553,    0.074204,    0.072855,    0.071506,    0.070156,    0.068807,    0.067458,    0.066109,     0.06476,    0.063411,    0.062061,    0.060712,    0.059363,    0.058014,    0.056665,    0.055316,    0.053966,    0.052617,    0.051268,    0.049919,     0.04857,    0.047221,    0.045871,\n",
       "           0.044522,    0.043173,    0.041824,    0.040475,    0.039126,    0.037777,    0.036427,    0.035078,    0.033729,     0.03238,    0.031031,    0.029682,    0.028332,    0.026983,    0.025634,    0.024285,    0.022936,    0.021587,    0.020237,    0.018888,    0.017539,     0.01619,    0.014841,\n",
       "           0.013492,    0.012142,    0.010793,   0.0094441,    0.008095,   0.0067458,   0.0053966,   0.0040475,   0.0026983,   0.0013492,           0]]), 'Recall', 'Precision'], [array([          0,    0.001001,    0.002002,    0.003003,    0.004004,    0.005005,    0.006006,    0.007007,    0.008008,    0.009009,     0.01001,    0.011011,    0.012012,    0.013013,    0.014014,    0.015015,    0.016016,    0.017017,    0.018018,    0.019019,     0.02002,    0.021021,    0.022022,    0.023023,\n",
       "          0.024024,    0.025025,    0.026026,    0.027027,    0.028028,    0.029029,     0.03003,    0.031031,    0.032032,    0.033033,    0.034034,    0.035035,    0.036036,    0.037037,    0.038038,    0.039039,     0.04004,    0.041041,    0.042042,    0.043043,    0.044044,    0.045045,    0.046046,    0.047047,\n",
       "          0.048048,    0.049049,     0.05005,    0.051051,    0.052052,    0.053053,    0.054054,    0.055055,    0.056056,    0.057057,    0.058058,    0.059059,     0.06006,    0.061061,    0.062062,    0.063063,    0.064064,    0.065065,    0.066066,    0.067067,    0.068068,    0.069069,     0.07007,    0.071071,\n",
       "          0.072072,    0.073073,    0.074074,    0.075075,    0.076076,    0.077077,    0.078078,    0.079079,     0.08008,    0.081081,    0.082082,    0.083083,    0.084084,    0.085085,    0.086086,    0.087087,    0.088088,    0.089089,     0.09009,    0.091091,    0.092092,    0.093093,    0.094094,    0.095095,\n",
       "          0.096096,    0.097097,    0.098098,    0.099099,      0.1001,      0.1011,      0.1021,      0.1031,      0.1041,     0.10511,     0.10611,     0.10711,     0.10811,     0.10911,     0.11011,     0.11111,     0.11211,     0.11311,     0.11411,     0.11512,     0.11612,     0.11712,     0.11812,     0.11912,\n",
       "           0.12012,     0.12112,     0.12212,     0.12312,     0.12412,     0.12513,     0.12613,     0.12713,     0.12813,     0.12913,     0.13013,     0.13113,     0.13213,     0.13313,     0.13413,     0.13514,     0.13614,     0.13714,     0.13814,     0.13914,     0.14014,     0.14114,     0.14214,     0.14314,\n",
       "           0.14414,     0.14515,     0.14615,     0.14715,     0.14815,     0.14915,     0.15015,     0.15115,     0.15215,     0.15315,     0.15415,     0.15516,     0.15616,     0.15716,     0.15816,     0.15916,     0.16016,     0.16116,     0.16216,     0.16316,     0.16416,     0.16517,     0.16617,     0.16717,\n",
       "           0.16817,     0.16917,     0.17017,     0.17117,     0.17217,     0.17317,     0.17417,     0.17518,     0.17618,     0.17718,     0.17818,     0.17918,     0.18018,     0.18118,     0.18218,     0.18318,     0.18418,     0.18519,     0.18619,     0.18719,     0.18819,     0.18919,     0.19019,     0.19119,\n",
       "           0.19219,     0.19319,     0.19419,      0.1952,      0.1962,      0.1972,      0.1982,      0.1992,      0.2002,      0.2012,      0.2022,      0.2032,      0.2042,     0.20521,     0.20621,     0.20721,     0.20821,     0.20921,     0.21021,     0.21121,     0.21221,     0.21321,     0.21421,     0.21522,\n",
       "           0.21622,     0.21722,     0.21822,     0.21922,     0.22022,     0.22122,     0.22222,     0.22322,     0.22422,     0.22523,     0.22623,     0.22723,     0.22823,     0.22923,     0.23023,     0.23123,     0.23223,     0.23323,     0.23423,     0.23524,     0.23624,     0.23724,     0.23824,     0.23924,\n",
       "           0.24024,     0.24124,     0.24224,     0.24324,     0.24424,     0.24525,     0.24625,     0.24725,     0.24825,     0.24925,     0.25025,     0.25125,     0.25225,     0.25325,     0.25425,     0.25526,     0.25626,     0.25726,     0.25826,     0.25926,     0.26026,     0.26126,     0.26226,     0.26326,\n",
       "           0.26426,     0.26527,     0.26627,     0.26727,     0.26827,     0.26927,     0.27027,     0.27127,     0.27227,     0.27327,     0.27427,     0.27528,     0.27628,     0.27728,     0.27828,     0.27928,     0.28028,     0.28128,     0.28228,     0.28328,     0.28428,     0.28529,     0.28629,     0.28729,\n",
       "           0.28829,     0.28929,     0.29029,     0.29129,     0.29229,     0.29329,     0.29429,      0.2953,      0.2963,      0.2973,      0.2983,      0.2993,      0.3003,      0.3013,      0.3023,      0.3033,      0.3043,     0.30531,     0.30631,     0.30731,     0.30831,     0.30931,     0.31031,     0.31131,\n",
       "           0.31231,     0.31331,     0.31431,     0.31532,     0.31632,     0.31732,     0.31832,     0.31932,     0.32032,     0.32132,     0.32232,     0.32332,     0.32432,     0.32533,     0.32633,     0.32733,     0.32833,     0.32933,     0.33033,     0.33133,     0.33233,     0.33333,     0.33433,     0.33534,\n",
       "           0.33634,     0.33734,     0.33834,     0.33934,     0.34034,     0.34134,     0.34234,     0.34334,     0.34434,     0.34535,     0.34635,     0.34735,     0.34835,     0.34935,     0.35035,     0.35135,     0.35235,     0.35335,     0.35435,     0.35536,     0.35636,     0.35736,     0.35836,     0.35936,\n",
       "           0.36036,     0.36136,     0.36236,     0.36336,     0.36436,     0.36537,     0.36637,     0.36737,     0.36837,     0.36937,     0.37037,     0.37137,     0.37237,     0.37337,     0.37437,     0.37538,     0.37638,     0.37738,     0.37838,     0.37938,     0.38038,     0.38138,     0.38238,     0.38338,\n",
       "           0.38438,     0.38539,     0.38639,     0.38739,     0.38839,     0.38939,     0.39039,     0.39139,     0.39239,     0.39339,     0.39439,      0.3954,      0.3964,      0.3974,      0.3984,      0.3994,      0.4004,      0.4014,      0.4024,      0.4034,      0.4044,     0.40541,     0.40641,     0.40741,\n",
       "           0.40841,     0.40941,     0.41041,     0.41141,     0.41241,     0.41341,     0.41441,     0.41542,     0.41642,     0.41742,     0.41842,     0.41942,     0.42042,     0.42142,     0.42242,     0.42342,     0.42442,     0.42543,     0.42643,     0.42743,     0.42843,     0.42943,     0.43043,     0.43143,\n",
       "           0.43243,     0.43343,     0.43443,     0.43544,     0.43644,     0.43744,     0.43844,     0.43944,     0.44044,     0.44144,     0.44244,     0.44344,     0.44444,     0.44545,     0.44645,     0.44745,     0.44845,     0.44945,     0.45045,     0.45145,     0.45245,     0.45345,     0.45445,     0.45546,\n",
       "           0.45646,     0.45746,     0.45846,     0.45946,     0.46046,     0.46146,     0.46246,     0.46346,     0.46446,     0.46547,     0.46647,     0.46747,     0.46847,     0.46947,     0.47047,     0.47147,     0.47247,     0.47347,     0.47447,     0.47548,     0.47648,     0.47748,     0.47848,     0.47948,\n",
       "           0.48048,     0.48148,     0.48248,     0.48348,     0.48448,     0.48549,     0.48649,     0.48749,     0.48849,     0.48949,     0.49049,     0.49149,     0.49249,     0.49349,     0.49449,      0.4955,      0.4965,      0.4975,      0.4985,      0.4995,      0.5005,      0.5015,      0.5025,      0.5035,\n",
       "            0.5045,     0.50551,     0.50651,     0.50751,     0.50851,     0.50951,     0.51051,     0.51151,     0.51251,     0.51351,     0.51451,     0.51552,     0.51652,     0.51752,     0.51852,     0.51952,     0.52052,     0.52152,     0.52252,     0.52352,     0.52452,     0.52553,     0.52653,     0.52753,\n",
       "           0.52853,     0.52953,     0.53053,     0.53153,     0.53253,     0.53353,     0.53453,     0.53554,     0.53654,     0.53754,     0.53854,     0.53954,     0.54054,     0.54154,     0.54254,     0.54354,     0.54454,     0.54555,     0.54655,     0.54755,     0.54855,     0.54955,     0.55055,     0.55155,\n",
       "           0.55255,     0.55355,     0.55455,     0.55556,     0.55656,     0.55756,     0.55856,     0.55956,     0.56056,     0.56156,     0.56256,     0.56356,     0.56456,     0.56557,     0.56657,     0.56757,     0.56857,     0.56957,     0.57057,     0.57157,     0.57257,     0.57357,     0.57457,     0.57558,\n",
       "           0.57658,     0.57758,     0.57858,     0.57958,     0.58058,     0.58158,     0.58258,     0.58358,     0.58458,     0.58559,     0.58659,     0.58759,     0.58859,     0.58959,     0.59059,     0.59159,     0.59259,     0.59359,     0.59459,      0.5956,      0.5966,      0.5976,      0.5986,      0.5996,\n",
       "            0.6006,      0.6016,      0.6026,      0.6036,      0.6046,     0.60561,     0.60661,     0.60761,     0.60861,     0.60961,     0.61061,     0.61161,     0.61261,     0.61361,     0.61461,     0.61562,     0.61662,     0.61762,     0.61862,     0.61962,     0.62062,     0.62162,     0.62262,     0.62362,\n",
       "           0.62462,     0.62563,     0.62663,     0.62763,     0.62863,     0.62963,     0.63063,     0.63163,     0.63263,     0.63363,     0.63463,     0.63564,     0.63664,     0.63764,     0.63864,     0.63964,     0.64064,     0.64164,     0.64264,     0.64364,     0.64464,     0.64565,     0.64665,     0.64765,\n",
       "           0.64865,     0.64965,     0.65065,     0.65165,     0.65265,     0.65365,     0.65465,     0.65566,     0.65666,     0.65766,     0.65866,     0.65966,     0.66066,     0.66166,     0.66266,     0.66366,     0.66466,     0.66567,     0.66667,     0.66767,     0.66867,     0.66967,     0.67067,     0.67167,\n",
       "           0.67267,     0.67367,     0.67467,     0.67568,     0.67668,     0.67768,     0.67868,     0.67968,     0.68068,     0.68168,     0.68268,     0.68368,     0.68468,     0.68569,     0.68669,     0.68769,     0.68869,     0.68969,     0.69069,     0.69169,     0.69269,     0.69369,     0.69469,      0.6957,\n",
       "            0.6967,      0.6977,      0.6987,      0.6997,      0.7007,      0.7017,      0.7027,      0.7037,      0.7047,     0.70571,     0.70671,     0.70771,     0.70871,     0.70971,     0.71071,     0.71171,     0.71271,     0.71371,     0.71471,     0.71572,     0.71672,     0.71772,     0.71872,     0.71972,\n",
       "           0.72072,     0.72172,     0.72272,     0.72372,     0.72472,     0.72573,     0.72673,     0.72773,     0.72873,     0.72973,     0.73073,     0.73173,     0.73273,     0.73373,     0.73473,     0.73574,     0.73674,     0.73774,     0.73874,     0.73974,     0.74074,     0.74174,     0.74274,     0.74374,\n",
       "           0.74474,     0.74575,     0.74675,     0.74775,     0.74875,     0.74975,     0.75075,     0.75175,     0.75275,     0.75375,     0.75475,     0.75576,     0.75676,     0.75776,     0.75876,     0.75976,     0.76076,     0.76176,     0.76276,     0.76376,     0.76476,     0.76577,     0.76677,     0.76777,\n",
       "           0.76877,     0.76977,     0.77077,     0.77177,     0.77277,     0.77377,     0.77477,     0.77578,     0.77678,     0.77778,     0.77878,     0.77978,     0.78078,     0.78178,     0.78278,     0.78378,     0.78478,     0.78579,     0.78679,     0.78779,     0.78879,     0.78979,     0.79079,     0.79179,\n",
       "           0.79279,     0.79379,     0.79479,      0.7958,      0.7968,      0.7978,      0.7988,      0.7998,      0.8008,      0.8018,      0.8028,      0.8038,      0.8048,     0.80581,     0.80681,     0.80781,     0.80881,     0.80981,     0.81081,     0.81181,     0.81281,     0.81381,     0.81481,     0.81582,\n",
       "           0.81682,     0.81782,     0.81882,     0.81982,     0.82082,     0.82182,     0.82282,     0.82382,     0.82482,     0.82583,     0.82683,     0.82783,     0.82883,     0.82983,     0.83083,     0.83183,     0.83283,     0.83383,     0.83483,     0.83584,     0.83684,     0.83784,     0.83884,     0.83984,\n",
       "           0.84084,     0.84184,     0.84284,     0.84384,     0.84484,     0.84585,     0.84685,     0.84785,     0.84885,     0.84985,     0.85085,     0.85185,     0.85285,     0.85385,     0.85485,     0.85586,     0.85686,     0.85786,     0.85886,     0.85986,     0.86086,     0.86186,     0.86286,     0.86386,\n",
       "           0.86486,     0.86587,     0.86687,     0.86787,     0.86887,     0.86987,     0.87087,     0.87187,     0.87287,     0.87387,     0.87487,     0.87588,     0.87688,     0.87788,     0.87888,     0.87988,     0.88088,     0.88188,     0.88288,     0.88388,     0.88488,     0.88589,     0.88689,     0.88789,\n",
       "           0.88889,     0.88989,     0.89089,     0.89189,     0.89289,     0.89389,     0.89489,      0.8959,      0.8969,      0.8979,      0.8989,      0.8999,      0.9009,      0.9019,      0.9029,      0.9039,      0.9049,     0.90591,     0.90691,     0.90791,     0.90891,     0.90991,     0.91091,     0.91191,\n",
       "           0.91291,     0.91391,     0.91491,     0.91592,     0.91692,     0.91792,     0.91892,     0.91992,     0.92092,     0.92192,     0.92292,     0.92392,     0.92492,     0.92593,     0.92693,     0.92793,     0.92893,     0.92993,     0.93093,     0.93193,     0.93293,     0.93393,     0.93493,     0.93594,\n",
       "           0.93694,     0.93794,     0.93894,     0.93994,     0.94094,     0.94194,     0.94294,     0.94394,     0.94494,     0.94595,     0.94695,     0.94795,     0.94895,     0.94995,     0.95095,     0.95195,     0.95295,     0.95395,     0.95495,     0.95596,     0.95696,     0.95796,     0.95896,     0.95996,\n",
       "           0.96096,     0.96196,     0.96296,     0.96396,     0.96496,     0.96597,     0.96697,     0.96797,     0.96897,     0.96997,     0.97097,     0.97197,     0.97297,     0.97397,     0.97497,     0.97598,     0.97698,     0.97798,     0.97898,     0.97998,     0.98098,     0.98198,     0.98298,     0.98398,\n",
       "           0.98498,     0.98599,     0.98699,     0.98799,     0.98899,     0.98999,     0.99099,     0.99199,     0.99299,     0.99399,     0.99499,       0.996,       0.997,       0.998,       0.999,           1]), array([[    0.54874,     0.54874,     0.54874,     0.54874,     0.54874,     0.54874,     0.54874,     0.54874,     0.54874,     0.54874,     0.54874,     0.54874,     0.54874,     0.54874,     0.54874,     0.54874,     0.54874,     0.54874,     0.54874,     0.54874,     0.54874,     0.54874,     0.54874,\n",
       "            0.54874,     0.54874,     0.54874,     0.54874,     0.54874,     0.54874,     0.54874,     0.54874,     0.54874,     0.54874,     0.54874,     0.54874,     0.54874,     0.54874,     0.54874,     0.54874,     0.54874,     0.54874,     0.54874,     0.54874,     0.54874,     0.54874,     0.54874,\n",
       "            0.54874,     0.54874,     0.54874,     0.54874,     0.54874,     0.54874,     0.54874,     0.54874,     0.54874,     0.54874,     0.54874,     0.54874,     0.54874,     0.54874,     0.54874,     0.54874,     0.54874,     0.54874,     0.54874,     0.54874,     0.54874,     0.54874,     0.54874,\n",
       "            0.54874,     0.54874,     0.54874,     0.54874,     0.54874,     0.54874,     0.54874,     0.54874,     0.54874,     0.54874,     0.54874,     0.54874,     0.54874,     0.54874,     0.54874,     0.54874,     0.54874,     0.54874,     0.54874,     0.54874,     0.54874,     0.54874,     0.54874,\n",
       "            0.54874,     0.54874,     0.54874,     0.54874,     0.54874,     0.54874,     0.54874,     0.54874,     0.54874,     0.54874,     0.54874,     0.54874,     0.54874,     0.54874,     0.54874,     0.54874,     0.54874,     0.54874,     0.54874,     0.54874,     0.54874,     0.54874,     0.54874,\n",
       "            0.54874,     0.54874,     0.54874,     0.54874,     0.54874,     0.54874,     0.54874,     0.54874,     0.54874,     0.54874,     0.54874,     0.54874,     0.54874,     0.54874,     0.54874,     0.54874,     0.54874,     0.54874,     0.54874,     0.54874,     0.54874,     0.54874,     0.54874,\n",
       "            0.54874,     0.54874,     0.54874,     0.54874,     0.54874,     0.54874,     0.54874,     0.54874,     0.54874,     0.54874,     0.54874,     0.54874,     0.54874,     0.54874,     0.54874,     0.54874,     0.54874,     0.54874,     0.54874,     0.54874,     0.54874,     0.54874,     0.54874,\n",
       "            0.54874,     0.54874,     0.54874,     0.54874,     0.54874,     0.54874,     0.54874,     0.54874,     0.54874,     0.54874,     0.54874,     0.54874,     0.54874,     0.54874,     0.54874,     0.54874,     0.54874,     0.54874,     0.54874,     0.54874,     0.54874,     0.54874,     0.54874,\n",
       "            0.54874,     0.54874,     0.54874,     0.54874,     0.54874,     0.54874,     0.54874,     0.54874,     0.54874,     0.54874,     0.54874,     0.54874,     0.54874,     0.54874,     0.54874,     0.54874,     0.54874,     0.54874,     0.54874,     0.54874,     0.54874,     0.54874,     0.54874,\n",
       "            0.54874,     0.54874,     0.54874,     0.54874,     0.54874,     0.54874,     0.54874,     0.54874,     0.54874,     0.54874,     0.54874,     0.54874,     0.54874,     0.54874,     0.54874,     0.54874,     0.54874,     0.54874,     0.54874,     0.54874,     0.54874,     0.54874,     0.54874,\n",
       "            0.54874,     0.54874,     0.54874,     0.54874,     0.54874,     0.54874,     0.54874,     0.54874,     0.54874,     0.54874,     0.54874,     0.54874,     0.54874,     0.54874,     0.54874,     0.54874,     0.54874,     0.54874,     0.54874,     0.54874,     0.54874,     0.54874,     0.54874,\n",
       "            0.54874,     0.54874,     0.54874,     0.54874,     0.54874,     0.54874,     0.54874,     0.54874,     0.54874,     0.54874,     0.54874,     0.54874,     0.54874,     0.54874,     0.54874,     0.54874,     0.54874,     0.54874,     0.54874,     0.54874,     0.54874,     0.54874,     0.54874,\n",
       "            0.54874,     0.54874,     0.54874,     0.54874,     0.54874,     0.54874,     0.54874,     0.54874,     0.54874,     0.54874,     0.54874,     0.54874,     0.54874,     0.54874,     0.54874,     0.54874,     0.54874,     0.54874,     0.54874,     0.54874,     0.54874,     0.54874,     0.54874,\n",
       "            0.54874,     0.54874,     0.54874,     0.54874,     0.54874,     0.54874,     0.54874,     0.54874,     0.54874,     0.54874,     0.54874,     0.54874,     0.54874,     0.54874,     0.54874,     0.54874,     0.54874,     0.54874,     0.54874,     0.54874,     0.54874,     0.54874,     0.54874,\n",
       "            0.54874,     0.54874,     0.54874,     0.54874,     0.54874,     0.54874,     0.54874,     0.54874,     0.54874,     0.54874,     0.54874,     0.54874,     0.54874,     0.54874,     0.54874,     0.54874,     0.54874,     0.54874,     0.54874,     0.54874,     0.54874,     0.54874,     0.54874,\n",
       "            0.54874,     0.54874,     0.54874,     0.54874,     0.54874,     0.54874,     0.54874,     0.54874,     0.54874,     0.54874,     0.54874,     0.54874,     0.54874,     0.54874,     0.54874,     0.54874,     0.54874,     0.54874,     0.54874,     0.54874,     0.54874,     0.54874,     0.54874,\n",
       "            0.54874,     0.54874,     0.54874,     0.54874,     0.54874,     0.54874,     0.54874,     0.54874,     0.54874,     0.54874,     0.54874,     0.54874,     0.54874,     0.54874,     0.54874,     0.54874,     0.54874,     0.54874,     0.54874,     0.54874,     0.54874,     0.54874,     0.54874,\n",
       "            0.54874,     0.54874,     0.54874,     0.54874,     0.54874,     0.54874,     0.54874,     0.54874,     0.54874,     0.54855,     0.54806,     0.54757,     0.54737,     0.54758,     0.54779,     0.54641,     0.54652,     0.54664,     0.54675,     0.54687,     0.54584,     0.54411,     0.54269,\n",
       "            0.54278,     0.54324,     0.54116,     0.54102,     0.53885,     0.53958,     0.53939,     0.53846,     0.53753,     0.53854,     0.53869,     0.53884,     0.53899,     0.53883,     0.53801,      0.5378,     0.53674,     0.53682,     0.53624,     0.53563,     0.53408,     0.53376,     0.53343,\n",
       "            0.53311,     0.53278,     0.53284,     0.53318,     0.53405,      0.5334,     0.53274,     0.53164,     0.52905,     0.52851,     0.52759,     0.52699,     0.52665,      0.5263,     0.52595,     0.52554,      0.5248,     0.52424,     0.52314,     0.52333,     0.52351,     0.52338,     0.52215,\n",
       "            0.52229,     0.52249,     0.52259,     0.52199,      0.5214,     0.52066,     0.51977,     0.51976,     0.52006,     0.51868,     0.51897,     0.51773,      0.5178,     0.51828,     0.51726,     0.51624,     0.51548,     0.51488,     0.51337,     0.51025,     0.51057,     0.50896,     0.50712,\n",
       "            0.50509,     0.50457,     0.50294,     0.50243,     0.50192,     0.50191,     0.50323,     0.50197,     0.50193,     0.50232,     0.50267,     0.50032,     0.50106,     0.49968,     0.49992,     0.49963,     0.49906,     0.49849,      0.4968,     0.49671,     0.49573,     0.49497,     0.49425,\n",
       "            0.49243,      0.4908,     0.48971,     0.48471,     0.48299,     0.48186,     0.47771,     0.47872,     0.47869,     0.47896,     0.47905,     0.47785,     0.47691,     0.47609,      0.4751,     0.47352,     0.47017,      0.4694,     0.46736,     0.46483,     0.46372,      0.4631,     0.46251,\n",
       "            0.46192,     0.46314,     0.46386,     0.46197,     0.46135,     0.46073,     0.45818,     0.45744,     0.45577,     0.45423,     0.44924,     0.44587,     0.44297,     0.44236,     0.44175,     0.43904,     0.43686,     0.43405,     0.43274,     0.42716,     0.42525,     0.42393,     0.42213,\n",
       "            0.42204,     0.42266,     0.42298,     0.42341,     0.42286,     0.42138,     0.42005,      0.4163,     0.41573,     0.41516,     0.41341,     0.41181,      0.4091,     0.40942,     0.40785,     0.40733,     0.40593,     0.40526,     0.40459,      0.4034,     0.40265,     0.40053,     0.39766,\n",
       "            0.39455,     0.39059,     0.38791,     0.38571,     0.38309,     0.38248,     0.38187,     0.38001,     0.37541,     0.37456,     0.37372,     0.37289,     0.37207,     0.37151,      0.3717,     0.37189,      0.3663,     0.36508,     0.36416,     0.36349,     0.36029,     0.36055,     0.35951,\n",
       "            0.35645,     0.35208,     0.35005,     0.34562,     0.34353,     0.34196,     0.34073,     0.33991,      0.3392,     0.33849,     0.33363,     0.32752,     0.32604,     0.32299,     0.32157,     0.32069,     0.31986,     0.31967,     0.31909,     0.31851,     0.31793,     0.31621,     0.31207,\n",
       "               0.31,     0.30859,     0.30688,     0.30287,     0.29982,     0.29726,     0.29173,     0.29211,     0.29048,     0.28335,     0.28223,     0.28082,     0.27453,     0.27298,     0.27274,     0.27065,     0.27081,     0.27064,     0.26982,       0.269,      0.2669,     0.26408,     0.26325,\n",
       "            0.26247,      0.2617,     0.25885,     0.25772,     0.25669,      0.2558,     0.25492,     0.25111,     0.24773,     0.24672,     0.24577,     0.24449,     0.24253,      0.2358,     0.23593,     0.23606,      0.2333,     0.22885,     0.22219,     0.22079,     0.21541,     0.21189,      0.2074,\n",
       "            0.20243,     0.19855,     0.19651,     0.19433,     0.19349,     0.19264,     0.19074,     0.18701,     0.18466,     0.18477,     0.18479,     0.18282,     0.18045,     0.17439,     0.17375,     0.17311,     0.17246,     0.17213,     0.17228,     0.16636,     0.16443,     0.16312,     0.16189,\n",
       "            0.16146,     0.16102,     0.16059,     0.16016,     0.15972,     0.15877,     0.15349,     0.15156,     0.14894,     0.14726,     0.14564,     0.14407,      0.1429,     0.14187,     0.14065,     0.13848,      0.1377,     0.13702,     0.13634,     0.13566,     0.12819,      0.1258,     0.12433,\n",
       "            0.12337,     0.12242,     0.12216,     0.12225,      0.1207,      0.1177,     0.11422,     0.11212,     0.11002,      0.1083,      0.1076,      0.1069,     0.10619,     0.10444,     0.10301,     0.10238,    0.099695,    0.097736,    0.092717,    0.087126,    0.083696,    0.077561,    0.075879,\n",
       "           0.074167,    0.072395,     0.07075,     0.06916,    0.066138,    0.062283,    0.059249,    0.058099,    0.056584,     0.05436,    0.053874,    0.053388,    0.052902,    0.052415,    0.051928,    0.051441,    0.050868,    0.050294,     0.04972,    0.049146,    0.048571,    0.048173,    0.047806,\n",
       "           0.047438,     0.04707,    0.046703,    0.046335,    0.045967,    0.045599,    0.042556,    0.042576,    0.042595,    0.042613,    0.042151,    0.041513,    0.040874,    0.040236,    0.039597,    0.038956,    0.038316,    0.037675,    0.037033,    0.036464,    0.036008,    0.035551,    0.035095,\n",
       "           0.034638,    0.034181,    0.033724,    0.032206,    0.030575,    0.030064,    0.029553,    0.029041,    0.028529,    0.028017,    0.027524,    0.027106,    0.026687,    0.026269,     0.02585,    0.025431,    0.025012,    0.024593,     0.02117,    0.020657,    0.020144,     0.01963,    0.019117,\n",
       "           0.018603,    0.017603,    0.016466,    0.015426,    0.015356,    0.015287,    0.015217,    0.015148,    0.015078,    0.015008,    0.014939,    0.014869,      0.0148,     0.01473,     0.01466,    0.014591,    0.014521,    0.014452,    0.014382,    0.014312,    0.014243,    0.014173,    0.014103,\n",
       "           0.014034,    0.013964,    0.013895,    0.013825,    0.013755,    0.013686,    0.013616,    0.013546,    0.013477,    0.013407,    0.013337,    0.013267,    0.013198,    0.013128,    0.013058,    0.012989,    0.012919,    0.012849,    0.012779,     0.01271,     0.01264,     0.01257,      0.0125,\n",
       "           0.012431,    0.012309,    0.011284,    0.010259,   0.0092517,   0.0085874,   0.0079226,   0.0072574,   0.0065917,    0.006115,   0.0059061,   0.0056972,   0.0054882,   0.0052792,   0.0050701,    0.004861,   0.0046518,   0.0044426,   0.0042334,   0.0040241,   0.0038147,   0.0036053,   0.0033959,\n",
       "          0.0031864,           0,           0,           0,           0,           0,           0,           0,           0,           0,           0,           0,           0,           0,           0,           0,           0,           0,           0,           0,           0,           0,           0,\n",
       "                  0,           0,           0,           0,           0,           0,           0,           0,           0,           0,           0,           0,           0,           0,           0,           0,           0,           0,           0,           0,           0,           0,           0,\n",
       "                  0,           0,           0,           0,           0,           0,           0,           0,           0,           0,           0,           0,           0,           0,           0,           0,           0,           0,           0,           0,           0,           0,           0,\n",
       "                  0,           0,           0,           0,           0,           0,           0,           0,           0,           0,           0,           0,           0,           0,           0,           0,           0,           0,           0,           0,           0,           0,           0,\n",
       "                  0,           0,           0,           0,           0,           0,           0,           0,           0,           0,           0,           0,           0,           0,           0,           0,           0,           0,           0,           0,           0,           0,           0,\n",
       "                  0,           0,           0,           0,           0,           0,           0,           0,           0,           0,           0]]), 'Confidence', 'F1'], [array([          0,    0.001001,    0.002002,    0.003003,    0.004004,    0.005005,    0.006006,    0.007007,    0.008008,    0.009009,     0.01001,    0.011011,    0.012012,    0.013013,    0.014014,    0.015015,    0.016016,    0.017017,    0.018018,    0.019019,     0.02002,    0.021021,    0.022022,    0.023023,\n",
       "          0.024024,    0.025025,    0.026026,    0.027027,    0.028028,    0.029029,     0.03003,    0.031031,    0.032032,    0.033033,    0.034034,    0.035035,    0.036036,    0.037037,    0.038038,    0.039039,     0.04004,    0.041041,    0.042042,    0.043043,    0.044044,    0.045045,    0.046046,    0.047047,\n",
       "          0.048048,    0.049049,     0.05005,    0.051051,    0.052052,    0.053053,    0.054054,    0.055055,    0.056056,    0.057057,    0.058058,    0.059059,     0.06006,    0.061061,    0.062062,    0.063063,    0.064064,    0.065065,    0.066066,    0.067067,    0.068068,    0.069069,     0.07007,    0.071071,\n",
       "          0.072072,    0.073073,    0.074074,    0.075075,    0.076076,    0.077077,    0.078078,    0.079079,     0.08008,    0.081081,    0.082082,    0.083083,    0.084084,    0.085085,    0.086086,    0.087087,    0.088088,    0.089089,     0.09009,    0.091091,    0.092092,    0.093093,    0.094094,    0.095095,\n",
       "          0.096096,    0.097097,    0.098098,    0.099099,      0.1001,      0.1011,      0.1021,      0.1031,      0.1041,     0.10511,     0.10611,     0.10711,     0.10811,     0.10911,     0.11011,     0.11111,     0.11211,     0.11311,     0.11411,     0.11512,     0.11612,     0.11712,     0.11812,     0.11912,\n",
       "           0.12012,     0.12112,     0.12212,     0.12312,     0.12412,     0.12513,     0.12613,     0.12713,     0.12813,     0.12913,     0.13013,     0.13113,     0.13213,     0.13313,     0.13413,     0.13514,     0.13614,     0.13714,     0.13814,     0.13914,     0.14014,     0.14114,     0.14214,     0.14314,\n",
       "           0.14414,     0.14515,     0.14615,     0.14715,     0.14815,     0.14915,     0.15015,     0.15115,     0.15215,     0.15315,     0.15415,     0.15516,     0.15616,     0.15716,     0.15816,     0.15916,     0.16016,     0.16116,     0.16216,     0.16316,     0.16416,     0.16517,     0.16617,     0.16717,\n",
       "           0.16817,     0.16917,     0.17017,     0.17117,     0.17217,     0.17317,     0.17417,     0.17518,     0.17618,     0.17718,     0.17818,     0.17918,     0.18018,     0.18118,     0.18218,     0.18318,     0.18418,     0.18519,     0.18619,     0.18719,     0.18819,     0.18919,     0.19019,     0.19119,\n",
       "           0.19219,     0.19319,     0.19419,      0.1952,      0.1962,      0.1972,      0.1982,      0.1992,      0.2002,      0.2012,      0.2022,      0.2032,      0.2042,     0.20521,     0.20621,     0.20721,     0.20821,     0.20921,     0.21021,     0.21121,     0.21221,     0.21321,     0.21421,     0.21522,\n",
       "           0.21622,     0.21722,     0.21822,     0.21922,     0.22022,     0.22122,     0.22222,     0.22322,     0.22422,     0.22523,     0.22623,     0.22723,     0.22823,     0.22923,     0.23023,     0.23123,     0.23223,     0.23323,     0.23423,     0.23524,     0.23624,     0.23724,     0.23824,     0.23924,\n",
       "           0.24024,     0.24124,     0.24224,     0.24324,     0.24424,     0.24525,     0.24625,     0.24725,     0.24825,     0.24925,     0.25025,     0.25125,     0.25225,     0.25325,     0.25425,     0.25526,     0.25626,     0.25726,     0.25826,     0.25926,     0.26026,     0.26126,     0.26226,     0.26326,\n",
       "           0.26426,     0.26527,     0.26627,     0.26727,     0.26827,     0.26927,     0.27027,     0.27127,     0.27227,     0.27327,     0.27427,     0.27528,     0.27628,     0.27728,     0.27828,     0.27928,     0.28028,     0.28128,     0.28228,     0.28328,     0.28428,     0.28529,     0.28629,     0.28729,\n",
       "           0.28829,     0.28929,     0.29029,     0.29129,     0.29229,     0.29329,     0.29429,      0.2953,      0.2963,      0.2973,      0.2983,      0.2993,      0.3003,      0.3013,      0.3023,      0.3033,      0.3043,     0.30531,     0.30631,     0.30731,     0.30831,     0.30931,     0.31031,     0.31131,\n",
       "           0.31231,     0.31331,     0.31431,     0.31532,     0.31632,     0.31732,     0.31832,     0.31932,     0.32032,     0.32132,     0.32232,     0.32332,     0.32432,     0.32533,     0.32633,     0.32733,     0.32833,     0.32933,     0.33033,     0.33133,     0.33233,     0.33333,     0.33433,     0.33534,\n",
       "           0.33634,     0.33734,     0.33834,     0.33934,     0.34034,     0.34134,     0.34234,     0.34334,     0.34434,     0.34535,     0.34635,     0.34735,     0.34835,     0.34935,     0.35035,     0.35135,     0.35235,     0.35335,     0.35435,     0.35536,     0.35636,     0.35736,     0.35836,     0.35936,\n",
       "           0.36036,     0.36136,     0.36236,     0.36336,     0.36436,     0.36537,     0.36637,     0.36737,     0.36837,     0.36937,     0.37037,     0.37137,     0.37237,     0.37337,     0.37437,     0.37538,     0.37638,     0.37738,     0.37838,     0.37938,     0.38038,     0.38138,     0.38238,     0.38338,\n",
       "           0.38438,     0.38539,     0.38639,     0.38739,     0.38839,     0.38939,     0.39039,     0.39139,     0.39239,     0.39339,     0.39439,      0.3954,      0.3964,      0.3974,      0.3984,      0.3994,      0.4004,      0.4014,      0.4024,      0.4034,      0.4044,     0.40541,     0.40641,     0.40741,\n",
       "           0.40841,     0.40941,     0.41041,     0.41141,     0.41241,     0.41341,     0.41441,     0.41542,     0.41642,     0.41742,     0.41842,     0.41942,     0.42042,     0.42142,     0.42242,     0.42342,     0.42442,     0.42543,     0.42643,     0.42743,     0.42843,     0.42943,     0.43043,     0.43143,\n",
       "           0.43243,     0.43343,     0.43443,     0.43544,     0.43644,     0.43744,     0.43844,     0.43944,     0.44044,     0.44144,     0.44244,     0.44344,     0.44444,     0.44545,     0.44645,     0.44745,     0.44845,     0.44945,     0.45045,     0.45145,     0.45245,     0.45345,     0.45445,     0.45546,\n",
       "           0.45646,     0.45746,     0.45846,     0.45946,     0.46046,     0.46146,     0.46246,     0.46346,     0.46446,     0.46547,     0.46647,     0.46747,     0.46847,     0.46947,     0.47047,     0.47147,     0.47247,     0.47347,     0.47447,     0.47548,     0.47648,     0.47748,     0.47848,     0.47948,\n",
       "           0.48048,     0.48148,     0.48248,     0.48348,     0.48448,     0.48549,     0.48649,     0.48749,     0.48849,     0.48949,     0.49049,     0.49149,     0.49249,     0.49349,     0.49449,      0.4955,      0.4965,      0.4975,      0.4985,      0.4995,      0.5005,      0.5015,      0.5025,      0.5035,\n",
       "            0.5045,     0.50551,     0.50651,     0.50751,     0.50851,     0.50951,     0.51051,     0.51151,     0.51251,     0.51351,     0.51451,     0.51552,     0.51652,     0.51752,     0.51852,     0.51952,     0.52052,     0.52152,     0.52252,     0.52352,     0.52452,     0.52553,     0.52653,     0.52753,\n",
       "           0.52853,     0.52953,     0.53053,     0.53153,     0.53253,     0.53353,     0.53453,     0.53554,     0.53654,     0.53754,     0.53854,     0.53954,     0.54054,     0.54154,     0.54254,     0.54354,     0.54454,     0.54555,     0.54655,     0.54755,     0.54855,     0.54955,     0.55055,     0.55155,\n",
       "           0.55255,     0.55355,     0.55455,     0.55556,     0.55656,     0.55756,     0.55856,     0.55956,     0.56056,     0.56156,     0.56256,     0.56356,     0.56456,     0.56557,     0.56657,     0.56757,     0.56857,     0.56957,     0.57057,     0.57157,     0.57257,     0.57357,     0.57457,     0.57558,\n",
       "           0.57658,     0.57758,     0.57858,     0.57958,     0.58058,     0.58158,     0.58258,     0.58358,     0.58458,     0.58559,     0.58659,     0.58759,     0.58859,     0.58959,     0.59059,     0.59159,     0.59259,     0.59359,     0.59459,      0.5956,      0.5966,      0.5976,      0.5986,      0.5996,\n",
       "            0.6006,      0.6016,      0.6026,      0.6036,      0.6046,     0.60561,     0.60661,     0.60761,     0.60861,     0.60961,     0.61061,     0.61161,     0.61261,     0.61361,     0.61461,     0.61562,     0.61662,     0.61762,     0.61862,     0.61962,     0.62062,     0.62162,     0.62262,     0.62362,\n",
       "           0.62462,     0.62563,     0.62663,     0.62763,     0.62863,     0.62963,     0.63063,     0.63163,     0.63263,     0.63363,     0.63463,     0.63564,     0.63664,     0.63764,     0.63864,     0.63964,     0.64064,     0.64164,     0.64264,     0.64364,     0.64464,     0.64565,     0.64665,     0.64765,\n",
       "           0.64865,     0.64965,     0.65065,     0.65165,     0.65265,     0.65365,     0.65465,     0.65566,     0.65666,     0.65766,     0.65866,     0.65966,     0.66066,     0.66166,     0.66266,     0.66366,     0.66466,     0.66567,     0.66667,     0.66767,     0.66867,     0.66967,     0.67067,     0.67167,\n",
       "           0.67267,     0.67367,     0.67467,     0.67568,     0.67668,     0.67768,     0.67868,     0.67968,     0.68068,     0.68168,     0.68268,     0.68368,     0.68468,     0.68569,     0.68669,     0.68769,     0.68869,     0.68969,     0.69069,     0.69169,     0.69269,     0.69369,     0.69469,      0.6957,\n",
       "            0.6967,      0.6977,      0.6987,      0.6997,      0.7007,      0.7017,      0.7027,      0.7037,      0.7047,     0.70571,     0.70671,     0.70771,     0.70871,     0.70971,     0.71071,     0.71171,     0.71271,     0.71371,     0.71471,     0.71572,     0.71672,     0.71772,     0.71872,     0.71972,\n",
       "           0.72072,     0.72172,     0.72272,     0.72372,     0.72472,     0.72573,     0.72673,     0.72773,     0.72873,     0.72973,     0.73073,     0.73173,     0.73273,     0.73373,     0.73473,     0.73574,     0.73674,     0.73774,     0.73874,     0.73974,     0.74074,     0.74174,     0.74274,     0.74374,\n",
       "           0.74474,     0.74575,     0.74675,     0.74775,     0.74875,     0.74975,     0.75075,     0.75175,     0.75275,     0.75375,     0.75475,     0.75576,     0.75676,     0.75776,     0.75876,     0.75976,     0.76076,     0.76176,     0.76276,     0.76376,     0.76476,     0.76577,     0.76677,     0.76777,\n",
       "           0.76877,     0.76977,     0.77077,     0.77177,     0.77277,     0.77377,     0.77477,     0.77578,     0.77678,     0.77778,     0.77878,     0.77978,     0.78078,     0.78178,     0.78278,     0.78378,     0.78478,     0.78579,     0.78679,     0.78779,     0.78879,     0.78979,     0.79079,     0.79179,\n",
       "           0.79279,     0.79379,     0.79479,      0.7958,      0.7968,      0.7978,      0.7988,      0.7998,      0.8008,      0.8018,      0.8028,      0.8038,      0.8048,     0.80581,     0.80681,     0.80781,     0.80881,     0.80981,     0.81081,     0.81181,     0.81281,     0.81381,     0.81481,     0.81582,\n",
       "           0.81682,     0.81782,     0.81882,     0.81982,     0.82082,     0.82182,     0.82282,     0.82382,     0.82482,     0.82583,     0.82683,     0.82783,     0.82883,     0.82983,     0.83083,     0.83183,     0.83283,     0.83383,     0.83483,     0.83584,     0.83684,     0.83784,     0.83884,     0.83984,\n",
       "           0.84084,     0.84184,     0.84284,     0.84384,     0.84484,     0.84585,     0.84685,     0.84785,     0.84885,     0.84985,     0.85085,     0.85185,     0.85285,     0.85385,     0.85485,     0.85586,     0.85686,     0.85786,     0.85886,     0.85986,     0.86086,     0.86186,     0.86286,     0.86386,\n",
       "           0.86486,     0.86587,     0.86687,     0.86787,     0.86887,     0.86987,     0.87087,     0.87187,     0.87287,     0.87387,     0.87487,     0.87588,     0.87688,     0.87788,     0.87888,     0.87988,     0.88088,     0.88188,     0.88288,     0.88388,     0.88488,     0.88589,     0.88689,     0.88789,\n",
       "           0.88889,     0.88989,     0.89089,     0.89189,     0.89289,     0.89389,     0.89489,      0.8959,      0.8969,      0.8979,      0.8989,      0.8999,      0.9009,      0.9019,      0.9029,      0.9039,      0.9049,     0.90591,     0.90691,     0.90791,     0.90891,     0.90991,     0.91091,     0.91191,\n",
       "           0.91291,     0.91391,     0.91491,     0.91592,     0.91692,     0.91792,     0.91892,     0.91992,     0.92092,     0.92192,     0.92292,     0.92392,     0.92492,     0.92593,     0.92693,     0.92793,     0.92893,     0.92993,     0.93093,     0.93193,     0.93293,     0.93393,     0.93493,     0.93594,\n",
       "           0.93694,     0.93794,     0.93894,     0.93994,     0.94094,     0.94194,     0.94294,     0.94394,     0.94494,     0.94595,     0.94695,     0.94795,     0.94895,     0.94995,     0.95095,     0.95195,     0.95295,     0.95395,     0.95495,     0.95596,     0.95696,     0.95796,     0.95896,     0.95996,\n",
       "           0.96096,     0.96196,     0.96296,     0.96396,     0.96496,     0.96597,     0.96697,     0.96797,     0.96897,     0.96997,     0.97097,     0.97197,     0.97297,     0.97397,     0.97497,     0.97598,     0.97698,     0.97798,     0.97898,     0.97998,     0.98098,     0.98198,     0.98298,     0.98398,\n",
       "           0.98498,     0.98599,     0.98699,     0.98799,     0.98899,     0.98999,     0.99099,     0.99199,     0.99299,     0.99399,     0.99499,       0.996,       0.997,       0.998,       0.999,           1]), array([[    0.77557,     0.77557,     0.77557,     0.77557,     0.77557,     0.77557,     0.77557,     0.77557,     0.77557,     0.77557,     0.77557,     0.77557,     0.77557,     0.77557,     0.77557,     0.77557,     0.77557,     0.77557,     0.77557,     0.77557,     0.77557,     0.77557,     0.77557,\n",
       "            0.77557,     0.77557,     0.77557,     0.77557,     0.77557,     0.77557,     0.77557,     0.77557,     0.77557,     0.77557,     0.77557,     0.77557,     0.77557,     0.77557,     0.77557,     0.77557,     0.77557,     0.77557,     0.77557,     0.77557,     0.77557,     0.77557,     0.77557,\n",
       "            0.77557,     0.77557,     0.77557,     0.77557,     0.77557,     0.77557,     0.77557,     0.77557,     0.77557,     0.77557,     0.77557,     0.77557,     0.77557,     0.77557,     0.77557,     0.77557,     0.77557,     0.77557,     0.77557,     0.77557,     0.77557,     0.77557,     0.77557,\n",
       "            0.77557,     0.77557,     0.77557,     0.77557,     0.77557,     0.77557,     0.77557,     0.77557,     0.77557,     0.77557,     0.77557,     0.77557,     0.77557,     0.77557,     0.77557,     0.77557,     0.77557,     0.77557,     0.77557,     0.77557,     0.77557,     0.77557,     0.77557,\n",
       "            0.77557,     0.77557,     0.77557,     0.77557,     0.77557,     0.77557,     0.77557,     0.77557,     0.77557,     0.77557,     0.77557,     0.77557,     0.77557,     0.77557,     0.77557,     0.77557,     0.77557,     0.77557,     0.77557,     0.77557,     0.77557,     0.77557,     0.77557,\n",
       "            0.77557,     0.77557,     0.77557,     0.77557,     0.77557,     0.77557,     0.77557,     0.77557,     0.77557,     0.77557,     0.77557,     0.77557,     0.77557,     0.77557,     0.77557,     0.77557,     0.77557,     0.77557,     0.77557,     0.77557,     0.77557,     0.77557,     0.77557,\n",
       "            0.77557,     0.77557,     0.77557,     0.77557,     0.77557,     0.77557,     0.77557,     0.77557,     0.77557,     0.77557,     0.77557,     0.77557,     0.77557,     0.77557,     0.77557,     0.77557,     0.77557,     0.77557,     0.77557,     0.77557,     0.77557,     0.77557,     0.77557,\n",
       "            0.77557,     0.77557,     0.77557,     0.77557,     0.77557,     0.77557,     0.77557,     0.77557,     0.77557,     0.77557,     0.77557,     0.77557,     0.77557,     0.77557,     0.77557,     0.77557,     0.77557,     0.77557,     0.77557,     0.77557,     0.77557,     0.77557,     0.77557,\n",
       "            0.77557,     0.77557,     0.77557,     0.77557,     0.77557,     0.77557,     0.77557,     0.77557,     0.77557,     0.77557,     0.77557,     0.77557,     0.77557,     0.77557,     0.77557,     0.77557,     0.77557,     0.77557,     0.77557,     0.77557,     0.77557,     0.77557,     0.77557,\n",
       "            0.77557,     0.77557,     0.77557,     0.77557,     0.77557,     0.77557,     0.77557,     0.77557,     0.77557,     0.77557,     0.77557,     0.77557,     0.77557,     0.77557,     0.77557,     0.77557,     0.77557,     0.77557,     0.77557,     0.77557,     0.77557,     0.77557,     0.77557,\n",
       "            0.77557,     0.77557,     0.77557,     0.77557,     0.77557,     0.77557,     0.77557,     0.77557,     0.77557,     0.77557,     0.77557,     0.77557,     0.77557,     0.77557,     0.77557,     0.77557,     0.77557,     0.77557,     0.77557,     0.77557,     0.77557,     0.77557,     0.77557,\n",
       "            0.77557,     0.77557,     0.77557,     0.77557,     0.77557,     0.77557,     0.77557,     0.77557,     0.77557,     0.77557,     0.77557,     0.77557,     0.77557,     0.77557,     0.77557,     0.77557,     0.77557,     0.77557,     0.77557,     0.77557,     0.77557,     0.77557,     0.77557,\n",
       "            0.77557,     0.77557,     0.77557,     0.77557,     0.77557,     0.77557,     0.77557,     0.77557,     0.77557,     0.77557,     0.77557,     0.77557,     0.77557,     0.77557,     0.77557,     0.77557,     0.77557,     0.77557,     0.77557,     0.77557,     0.77557,     0.77557,     0.77557,\n",
       "            0.77557,     0.77557,     0.77557,     0.77557,     0.77557,     0.77557,     0.77557,     0.77557,     0.77557,     0.77557,     0.77557,     0.77557,     0.77557,     0.77557,     0.77557,     0.77557,     0.77557,     0.77557,     0.77557,     0.77557,     0.77557,     0.77557,     0.77557,\n",
       "            0.77557,     0.77557,     0.77557,     0.77557,     0.77557,     0.77557,     0.77557,     0.77557,     0.77557,     0.77557,     0.77557,     0.77557,     0.77557,     0.77557,     0.77557,     0.77557,     0.77557,     0.77557,     0.77557,     0.77557,     0.77557,     0.77557,     0.77557,\n",
       "            0.77557,     0.77557,     0.77557,     0.77557,     0.77557,     0.77557,     0.77557,     0.77557,     0.77557,     0.77557,     0.77557,     0.77557,     0.77557,     0.77557,     0.77557,     0.77557,     0.77557,     0.77557,     0.77557,     0.77557,     0.77557,     0.77557,     0.77557,\n",
       "            0.77557,     0.77557,     0.77557,     0.77557,     0.77557,     0.77557,     0.77557,     0.77557,     0.77557,     0.77557,     0.77557,     0.77557,     0.77557,     0.77557,     0.77557,     0.77557,     0.77557,     0.77557,     0.77557,     0.77557,     0.77557,     0.77557,     0.77557,\n",
       "            0.77557,     0.77557,     0.77557,     0.77557,     0.77557,     0.77557,     0.77557,     0.77557,     0.77557,     0.77548,     0.77527,     0.77505,     0.77529,     0.77613,     0.77697,     0.77666,     0.77712,     0.77759,     0.77805,     0.77852,     0.77827,     0.77751,     0.77689,\n",
       "            0.77793,     0.77981,     0.78028,     0.78161,      0.7837,     0.78679,     0.78785,     0.78959,     0.78957,     0.79395,      0.7946,     0.79526,     0.79591,     0.79624,      0.7959,     0.79665,     0.79759,     0.79985,     0.79961,     0.79936,     0.79873,     0.79859,     0.79846,\n",
       "            0.79833,     0.79819,     0.79901,     0.80053,     0.80554,     0.80528,     0.80502,     0.80457,     0.80353,     0.80564,     0.80527,     0.80503,     0.80489,     0.80475,     0.80461,     0.80444,     0.80414,     0.80449,     0.80596,     0.80686,     0.80775,     0.80833,     0.80783,\n",
       "            0.80871,     0.80964,     0.81043,     0.81019,     0.80996,     0.80966,      0.8093,      0.8103,     0.81178,     0.81204,     0.81346,     0.81343,     0.81482,     0.81721,     0.81939,     0.82043,     0.82014,     0.81991,     0.81932,     0.82106,     0.82268,     0.82285,     0.82214,\n",
       "            0.82136,     0.82384,      0.8232,     0.82301,     0.82281,     0.82425,     0.83153,     0.83106,     0.83261,     0.83476,      0.8367,     0.84061,      0.8448,     0.84575,     0.84711,     0.84746,     0.84726,     0.84706,     0.84703,     0.84944,      0.8491,     0.84884,     0.84859,\n",
       "            0.84884,     0.85045,     0.85008,     0.84834,     0.84774,     0.84734,     0.84603,     0.85245,     0.86263,     0.86434,     0.86581,     0.86543,     0.86512,     0.86486,     0.86454,     0.86403,     0.86293,     0.86268,       0.862,     0.86116,     0.86079,     0.86058,     0.86038,\n",
       "            0.86018,     0.86892,     0.87403,     0.87438,     0.87418,     0.87399,      0.8732,     0.87664,     0.87613,     0.87565,     0.87409,     0.87302,     0.87208,     0.87189,     0.87169,      0.8708,     0.87008,     0.86915,     0.87257,     0.87079,     0.87015,      0.8697,     0.86909,\n",
       "            0.87203,     0.87742,     0.88016,     0.88386,     0.88589,     0.88544,     0.88604,     0.88821,     0.88804,     0.88787,     0.88734,     0.88685,     0.88605,     0.88908,      0.8917,     0.89449,     0.89409,     0.89389,     0.89369,     0.89334,     0.89778,     0.89717,     0.89634,\n",
       "            0.89543,     0.89424,     0.89343,     0.89276,     0.89195,     0.89176,     0.89157,     0.89098,     0.88952,     0.88924,     0.88897,      0.8887,     0.88843,      0.8888,     0.89095,     0.89311,      0.8917,     0.89131,     0.89101,     0.89608,      0.8956,     0.89876,     0.90026,\n",
       "            0.89932,     0.89796,     0.90297,     0.90162,     0.90096,     0.90047,     0.90008,     0.89982,     0.89959,     0.89936,     0.89778,     0.89573,     0.89522,     0.89416,     0.89367,     0.89335,     0.89306,     0.89927,     0.89908,     0.89888,     0.89868,      0.8981,     0.89665,\n",
       "            0.89592,     0.89542,      0.8948,     0.89333,     0.89219,     0.89122,     0.89727,     0.90434,     0.90993,     0.90752,     0.90713,     0.90664,     0.90713,     0.91167,     0.91713,     0.92099,     0.92476,     0.92719,     0.92695,     0.92672,      0.9261,     0.92526,       0.925,\n",
       "            0.92477,     0.92453,     0.92365,      0.9233,     0.92297,     0.92269,      0.9224,     0.92116,     0.92003,     0.91968,     0.91936,     0.91891,     0.91823,      0.9166,     0.92057,     0.92455,      0.9246,     0.92306,     0.92067,     0.93066,     0.92886,     0.92763,     0.92601,\n",
       "            0.92413,     0.92261,     0.92179,     0.92089,     0.92054,     0.92019,     0.91937,     0.91775,      0.9188,     0.92431,     0.92954,     0.92876,     0.92781,     0.92526,     0.92498,      0.9247,     0.92441,     0.92761,     0.93622,      0.9362,     0.93544,     0.93491,     0.93441,\n",
       "            0.93423,     0.93405,     0.93386,     0.93368,      0.9335,      0.9331,     0.93077,      0.9395,     0.94543,     0.94479,     0.94417,     0.94355,     0.94308,     0.94266,     0.94216,     0.94124,      0.9409,      0.9406,     0.94031,     0.94001,     0.93649,     0.93528,     0.93452,\n",
       "            0.93401,     0.93351,     0.94078,     0.95203,     0.95394,     0.95275,      0.9513,     0.95037,     0.94942,     0.94862,     0.94828,     0.94794,     0.94759,     0.94671,     0.95757,     0.97202,     0.97125,     0.97066,     0.96904,     0.96702,     0.96566,     0.96294,      0.9621,\n",
       "            0.96123,     0.96029,     0.95936,     0.95845,     0.95657,      0.9539,     0.95157,     0.95064,     0.94934,     0.94735,     0.94686,     0.94638,      0.9459,     0.94541,     0.94493,     0.94445,     0.94381,     0.94318,     0.94254,     0.94191,     0.94127,     0.94079,     0.94033,\n",
       "            0.93988,     0.93942,     0.93896,     0.93851,     0.93805,     0.93759,     0.93594,     0.95555,     0.97516,     0.99477,           1,           1,           1,           1,           1,           1,           1,           1,           1,           1,           1,           1,           1,\n",
       "                  1,           1,           1,           1,           1,           1,           1,           1,           1,           1,           1,           1,           1,           1,           1,           1,           1,           1,           1,           1,           1,           1,           1,\n",
       "                  1,           1,           1,           1,           1,           1,           1,           1,           1,           1,           1,           1,           1,           1,           1,           1,           1,           1,           1,           1,           1,           1,           1,\n",
       "                  1,           1,           1,           1,           1,           1,           1,           1,           1,           1,           1,           1,           1,           1,           1,           1,           1,           1,           1,           1,           1,           1,           1,\n",
       "                  1,           1,           1,           1,           1,           1,           1,           1,           1,           1,           1,           1,           1,           1,           1,           1,           1,           1,           1,           1,           1,           1,           1,\n",
       "                  1,           1,           1,           1,           1,           1,           1,           1,           1,           1,           1,           1,           1,           1,           1,           1,           1,           1,           1,           1,           1,           1,           1,\n",
       "                  1,           1,           1,           1,           1,           1,           1,           1,           1,           1,           1,           1,           1,           1,           1,           1,           1,           1,           1,           1,           1,           1,           1,\n",
       "                  1,           1,           1,           1,           1,           1,           1,           1,           1,           1,           1,           1,           1,           1,           1,           1,           1,           1,           1,           1,           1,           1,           1,\n",
       "                  1,           1,           1,           1,           1,           1,           1,           1,           1,           1,           1,           1,           1,           1,           1,           1,           1,           1,           1,           1,           1,           1,           1,\n",
       "                  1,           1,           1,           1,           1,           1,           1,           1,           1,           1,           1,           1,           1,           1,           1,           1,           1,           1,           1,           1,           1,           1,           1,\n",
       "                  1,           1,           1,           1,           1,           1,           1,           1,           1,           1,           1]]), 'Confidence', 'Precision'], [array([          0,    0.001001,    0.002002,    0.003003,    0.004004,    0.005005,    0.006006,    0.007007,    0.008008,    0.009009,     0.01001,    0.011011,    0.012012,    0.013013,    0.014014,    0.015015,    0.016016,    0.017017,    0.018018,    0.019019,     0.02002,    0.021021,    0.022022,    0.023023,\n",
       "          0.024024,    0.025025,    0.026026,    0.027027,    0.028028,    0.029029,     0.03003,    0.031031,    0.032032,    0.033033,    0.034034,    0.035035,    0.036036,    0.037037,    0.038038,    0.039039,     0.04004,    0.041041,    0.042042,    0.043043,    0.044044,    0.045045,    0.046046,    0.047047,\n",
       "          0.048048,    0.049049,     0.05005,    0.051051,    0.052052,    0.053053,    0.054054,    0.055055,    0.056056,    0.057057,    0.058058,    0.059059,     0.06006,    0.061061,    0.062062,    0.063063,    0.064064,    0.065065,    0.066066,    0.067067,    0.068068,    0.069069,     0.07007,    0.071071,\n",
       "          0.072072,    0.073073,    0.074074,    0.075075,    0.076076,    0.077077,    0.078078,    0.079079,     0.08008,    0.081081,    0.082082,    0.083083,    0.084084,    0.085085,    0.086086,    0.087087,    0.088088,    0.089089,     0.09009,    0.091091,    0.092092,    0.093093,    0.094094,    0.095095,\n",
       "          0.096096,    0.097097,    0.098098,    0.099099,      0.1001,      0.1011,      0.1021,      0.1031,      0.1041,     0.10511,     0.10611,     0.10711,     0.10811,     0.10911,     0.11011,     0.11111,     0.11211,     0.11311,     0.11411,     0.11512,     0.11612,     0.11712,     0.11812,     0.11912,\n",
       "           0.12012,     0.12112,     0.12212,     0.12312,     0.12412,     0.12513,     0.12613,     0.12713,     0.12813,     0.12913,     0.13013,     0.13113,     0.13213,     0.13313,     0.13413,     0.13514,     0.13614,     0.13714,     0.13814,     0.13914,     0.14014,     0.14114,     0.14214,     0.14314,\n",
       "           0.14414,     0.14515,     0.14615,     0.14715,     0.14815,     0.14915,     0.15015,     0.15115,     0.15215,     0.15315,     0.15415,     0.15516,     0.15616,     0.15716,     0.15816,     0.15916,     0.16016,     0.16116,     0.16216,     0.16316,     0.16416,     0.16517,     0.16617,     0.16717,\n",
       "           0.16817,     0.16917,     0.17017,     0.17117,     0.17217,     0.17317,     0.17417,     0.17518,     0.17618,     0.17718,     0.17818,     0.17918,     0.18018,     0.18118,     0.18218,     0.18318,     0.18418,     0.18519,     0.18619,     0.18719,     0.18819,     0.18919,     0.19019,     0.19119,\n",
       "           0.19219,     0.19319,     0.19419,      0.1952,      0.1962,      0.1972,      0.1982,      0.1992,      0.2002,      0.2012,      0.2022,      0.2032,      0.2042,     0.20521,     0.20621,     0.20721,     0.20821,     0.20921,     0.21021,     0.21121,     0.21221,     0.21321,     0.21421,     0.21522,\n",
       "           0.21622,     0.21722,     0.21822,     0.21922,     0.22022,     0.22122,     0.22222,     0.22322,     0.22422,     0.22523,     0.22623,     0.22723,     0.22823,     0.22923,     0.23023,     0.23123,     0.23223,     0.23323,     0.23423,     0.23524,     0.23624,     0.23724,     0.23824,     0.23924,\n",
       "           0.24024,     0.24124,     0.24224,     0.24324,     0.24424,     0.24525,     0.24625,     0.24725,     0.24825,     0.24925,     0.25025,     0.25125,     0.25225,     0.25325,     0.25425,     0.25526,     0.25626,     0.25726,     0.25826,     0.25926,     0.26026,     0.26126,     0.26226,     0.26326,\n",
       "           0.26426,     0.26527,     0.26627,     0.26727,     0.26827,     0.26927,     0.27027,     0.27127,     0.27227,     0.27327,     0.27427,     0.27528,     0.27628,     0.27728,     0.27828,     0.27928,     0.28028,     0.28128,     0.28228,     0.28328,     0.28428,     0.28529,     0.28629,     0.28729,\n",
       "           0.28829,     0.28929,     0.29029,     0.29129,     0.29229,     0.29329,     0.29429,      0.2953,      0.2963,      0.2973,      0.2983,      0.2993,      0.3003,      0.3013,      0.3023,      0.3033,      0.3043,     0.30531,     0.30631,     0.30731,     0.30831,     0.30931,     0.31031,     0.31131,\n",
       "           0.31231,     0.31331,     0.31431,     0.31532,     0.31632,     0.31732,     0.31832,     0.31932,     0.32032,     0.32132,     0.32232,     0.32332,     0.32432,     0.32533,     0.32633,     0.32733,     0.32833,     0.32933,     0.33033,     0.33133,     0.33233,     0.33333,     0.33433,     0.33534,\n",
       "           0.33634,     0.33734,     0.33834,     0.33934,     0.34034,     0.34134,     0.34234,     0.34334,     0.34434,     0.34535,     0.34635,     0.34735,     0.34835,     0.34935,     0.35035,     0.35135,     0.35235,     0.35335,     0.35435,     0.35536,     0.35636,     0.35736,     0.35836,     0.35936,\n",
       "           0.36036,     0.36136,     0.36236,     0.36336,     0.36436,     0.36537,     0.36637,     0.36737,     0.36837,     0.36937,     0.37037,     0.37137,     0.37237,     0.37337,     0.37437,     0.37538,     0.37638,     0.37738,     0.37838,     0.37938,     0.38038,     0.38138,     0.38238,     0.38338,\n",
       "           0.38438,     0.38539,     0.38639,     0.38739,     0.38839,     0.38939,     0.39039,     0.39139,     0.39239,     0.39339,     0.39439,      0.3954,      0.3964,      0.3974,      0.3984,      0.3994,      0.4004,      0.4014,      0.4024,      0.4034,      0.4044,     0.40541,     0.40641,     0.40741,\n",
       "           0.40841,     0.40941,     0.41041,     0.41141,     0.41241,     0.41341,     0.41441,     0.41542,     0.41642,     0.41742,     0.41842,     0.41942,     0.42042,     0.42142,     0.42242,     0.42342,     0.42442,     0.42543,     0.42643,     0.42743,     0.42843,     0.42943,     0.43043,     0.43143,\n",
       "           0.43243,     0.43343,     0.43443,     0.43544,     0.43644,     0.43744,     0.43844,     0.43944,     0.44044,     0.44144,     0.44244,     0.44344,     0.44444,     0.44545,     0.44645,     0.44745,     0.44845,     0.44945,     0.45045,     0.45145,     0.45245,     0.45345,     0.45445,     0.45546,\n",
       "           0.45646,     0.45746,     0.45846,     0.45946,     0.46046,     0.46146,     0.46246,     0.46346,     0.46446,     0.46547,     0.46647,     0.46747,     0.46847,     0.46947,     0.47047,     0.47147,     0.47247,     0.47347,     0.47447,     0.47548,     0.47648,     0.47748,     0.47848,     0.47948,\n",
       "           0.48048,     0.48148,     0.48248,     0.48348,     0.48448,     0.48549,     0.48649,     0.48749,     0.48849,     0.48949,     0.49049,     0.49149,     0.49249,     0.49349,     0.49449,      0.4955,      0.4965,      0.4975,      0.4985,      0.4995,      0.5005,      0.5015,      0.5025,      0.5035,\n",
       "            0.5045,     0.50551,     0.50651,     0.50751,     0.50851,     0.50951,     0.51051,     0.51151,     0.51251,     0.51351,     0.51451,     0.51552,     0.51652,     0.51752,     0.51852,     0.51952,     0.52052,     0.52152,     0.52252,     0.52352,     0.52452,     0.52553,     0.52653,     0.52753,\n",
       "           0.52853,     0.52953,     0.53053,     0.53153,     0.53253,     0.53353,     0.53453,     0.53554,     0.53654,     0.53754,     0.53854,     0.53954,     0.54054,     0.54154,     0.54254,     0.54354,     0.54454,     0.54555,     0.54655,     0.54755,     0.54855,     0.54955,     0.55055,     0.55155,\n",
       "           0.55255,     0.55355,     0.55455,     0.55556,     0.55656,     0.55756,     0.55856,     0.55956,     0.56056,     0.56156,     0.56256,     0.56356,     0.56456,     0.56557,     0.56657,     0.56757,     0.56857,     0.56957,     0.57057,     0.57157,     0.57257,     0.57357,     0.57457,     0.57558,\n",
       "           0.57658,     0.57758,     0.57858,     0.57958,     0.58058,     0.58158,     0.58258,     0.58358,     0.58458,     0.58559,     0.58659,     0.58759,     0.58859,     0.58959,     0.59059,     0.59159,     0.59259,     0.59359,     0.59459,      0.5956,      0.5966,      0.5976,      0.5986,      0.5996,\n",
       "            0.6006,      0.6016,      0.6026,      0.6036,      0.6046,     0.60561,     0.60661,     0.60761,     0.60861,     0.60961,     0.61061,     0.61161,     0.61261,     0.61361,     0.61461,     0.61562,     0.61662,     0.61762,     0.61862,     0.61962,     0.62062,     0.62162,     0.62262,     0.62362,\n",
       "           0.62462,     0.62563,     0.62663,     0.62763,     0.62863,     0.62963,     0.63063,     0.63163,     0.63263,     0.63363,     0.63463,     0.63564,     0.63664,     0.63764,     0.63864,     0.63964,     0.64064,     0.64164,     0.64264,     0.64364,     0.64464,     0.64565,     0.64665,     0.64765,\n",
       "           0.64865,     0.64965,     0.65065,     0.65165,     0.65265,     0.65365,     0.65465,     0.65566,     0.65666,     0.65766,     0.65866,     0.65966,     0.66066,     0.66166,     0.66266,     0.66366,     0.66466,     0.66567,     0.66667,     0.66767,     0.66867,     0.66967,     0.67067,     0.67167,\n",
       "           0.67267,     0.67367,     0.67467,     0.67568,     0.67668,     0.67768,     0.67868,     0.67968,     0.68068,     0.68168,     0.68268,     0.68368,     0.68468,     0.68569,     0.68669,     0.68769,     0.68869,     0.68969,     0.69069,     0.69169,     0.69269,     0.69369,     0.69469,      0.6957,\n",
       "            0.6967,      0.6977,      0.6987,      0.6997,      0.7007,      0.7017,      0.7027,      0.7037,      0.7047,     0.70571,     0.70671,     0.70771,     0.70871,     0.70971,     0.71071,     0.71171,     0.71271,     0.71371,     0.71471,     0.71572,     0.71672,     0.71772,     0.71872,     0.71972,\n",
       "           0.72072,     0.72172,     0.72272,     0.72372,     0.72472,     0.72573,     0.72673,     0.72773,     0.72873,     0.72973,     0.73073,     0.73173,     0.73273,     0.73373,     0.73473,     0.73574,     0.73674,     0.73774,     0.73874,     0.73974,     0.74074,     0.74174,     0.74274,     0.74374,\n",
       "           0.74474,     0.74575,     0.74675,     0.74775,     0.74875,     0.74975,     0.75075,     0.75175,     0.75275,     0.75375,     0.75475,     0.75576,     0.75676,     0.75776,     0.75876,     0.75976,     0.76076,     0.76176,     0.76276,     0.76376,     0.76476,     0.76577,     0.76677,     0.76777,\n",
       "           0.76877,     0.76977,     0.77077,     0.77177,     0.77277,     0.77377,     0.77477,     0.77578,     0.77678,     0.77778,     0.77878,     0.77978,     0.78078,     0.78178,     0.78278,     0.78378,     0.78478,     0.78579,     0.78679,     0.78779,     0.78879,     0.78979,     0.79079,     0.79179,\n",
       "           0.79279,     0.79379,     0.79479,      0.7958,      0.7968,      0.7978,      0.7988,      0.7998,      0.8008,      0.8018,      0.8028,      0.8038,      0.8048,     0.80581,     0.80681,     0.80781,     0.80881,     0.80981,     0.81081,     0.81181,     0.81281,     0.81381,     0.81481,     0.81582,\n",
       "           0.81682,     0.81782,     0.81882,     0.81982,     0.82082,     0.82182,     0.82282,     0.82382,     0.82482,     0.82583,     0.82683,     0.82783,     0.82883,     0.82983,     0.83083,     0.83183,     0.83283,     0.83383,     0.83483,     0.83584,     0.83684,     0.83784,     0.83884,     0.83984,\n",
       "           0.84084,     0.84184,     0.84284,     0.84384,     0.84484,     0.84585,     0.84685,     0.84785,     0.84885,     0.84985,     0.85085,     0.85185,     0.85285,     0.85385,     0.85485,     0.85586,     0.85686,     0.85786,     0.85886,     0.85986,     0.86086,     0.86186,     0.86286,     0.86386,\n",
       "           0.86486,     0.86587,     0.86687,     0.86787,     0.86887,     0.86987,     0.87087,     0.87187,     0.87287,     0.87387,     0.87487,     0.87588,     0.87688,     0.87788,     0.87888,     0.87988,     0.88088,     0.88188,     0.88288,     0.88388,     0.88488,     0.88589,     0.88689,     0.88789,\n",
       "           0.88889,     0.88989,     0.89089,     0.89189,     0.89289,     0.89389,     0.89489,      0.8959,      0.8969,      0.8979,      0.8989,      0.8999,      0.9009,      0.9019,      0.9029,      0.9039,      0.9049,     0.90591,     0.90691,     0.90791,     0.90891,     0.90991,     0.91091,     0.91191,\n",
       "           0.91291,     0.91391,     0.91491,     0.91592,     0.91692,     0.91792,     0.91892,     0.91992,     0.92092,     0.92192,     0.92292,     0.92392,     0.92492,     0.92593,     0.92693,     0.92793,     0.92893,     0.92993,     0.93093,     0.93193,     0.93293,     0.93393,     0.93493,     0.93594,\n",
       "           0.93694,     0.93794,     0.93894,     0.93994,     0.94094,     0.94194,     0.94294,     0.94394,     0.94494,     0.94595,     0.94695,     0.94795,     0.94895,     0.94995,     0.95095,     0.95195,     0.95295,     0.95395,     0.95495,     0.95596,     0.95696,     0.95796,     0.95896,     0.95996,\n",
       "           0.96096,     0.96196,     0.96296,     0.96396,     0.96496,     0.96597,     0.96697,     0.96797,     0.96897,     0.96997,     0.97097,     0.97197,     0.97297,     0.97397,     0.97497,     0.97598,     0.97698,     0.97798,     0.97898,     0.97998,     0.98098,     0.98198,     0.98298,     0.98398,\n",
       "           0.98498,     0.98599,     0.98699,     0.98799,     0.98899,     0.98999,     0.99099,     0.99199,     0.99299,     0.99399,     0.99499,       0.996,       0.997,       0.998,       0.999,           1]), array([[    0.42457,     0.42457,     0.42457,     0.42457,     0.42457,     0.42457,     0.42457,     0.42457,     0.42457,     0.42457,     0.42457,     0.42457,     0.42457,     0.42457,     0.42457,     0.42457,     0.42457,     0.42457,     0.42457,     0.42457,     0.42457,     0.42457,     0.42457,\n",
       "            0.42457,     0.42457,     0.42457,     0.42457,     0.42457,     0.42457,     0.42457,     0.42457,     0.42457,     0.42457,     0.42457,     0.42457,     0.42457,     0.42457,     0.42457,     0.42457,     0.42457,     0.42457,     0.42457,     0.42457,     0.42457,     0.42457,     0.42457,\n",
       "            0.42457,     0.42457,     0.42457,     0.42457,     0.42457,     0.42457,     0.42457,     0.42457,     0.42457,     0.42457,     0.42457,     0.42457,     0.42457,     0.42457,     0.42457,     0.42457,     0.42457,     0.42457,     0.42457,     0.42457,     0.42457,     0.42457,     0.42457,\n",
       "            0.42457,     0.42457,     0.42457,     0.42457,     0.42457,     0.42457,     0.42457,     0.42457,     0.42457,     0.42457,     0.42457,     0.42457,     0.42457,     0.42457,     0.42457,     0.42457,     0.42457,     0.42457,     0.42457,     0.42457,     0.42457,     0.42457,     0.42457,\n",
       "            0.42457,     0.42457,     0.42457,     0.42457,     0.42457,     0.42457,     0.42457,     0.42457,     0.42457,     0.42457,     0.42457,     0.42457,     0.42457,     0.42457,     0.42457,     0.42457,     0.42457,     0.42457,     0.42457,     0.42457,     0.42457,     0.42457,     0.42457,\n",
       "            0.42457,     0.42457,     0.42457,     0.42457,     0.42457,     0.42457,     0.42457,     0.42457,     0.42457,     0.42457,     0.42457,     0.42457,     0.42457,     0.42457,     0.42457,     0.42457,     0.42457,     0.42457,     0.42457,     0.42457,     0.42457,     0.42457,     0.42457,\n",
       "            0.42457,     0.42457,     0.42457,     0.42457,     0.42457,     0.42457,     0.42457,     0.42457,     0.42457,     0.42457,     0.42457,     0.42457,     0.42457,     0.42457,     0.42457,     0.42457,     0.42457,     0.42457,     0.42457,     0.42457,     0.42457,     0.42457,     0.42457,\n",
       "            0.42457,     0.42457,     0.42457,     0.42457,     0.42457,     0.42457,     0.42457,     0.42457,     0.42457,     0.42457,     0.42457,     0.42457,     0.42457,     0.42457,     0.42457,     0.42457,     0.42457,     0.42457,     0.42457,     0.42457,     0.42457,     0.42457,     0.42457,\n",
       "            0.42457,     0.42457,     0.42457,     0.42457,     0.42457,     0.42457,     0.42457,     0.42457,     0.42457,     0.42457,     0.42457,     0.42457,     0.42457,     0.42457,     0.42457,     0.42457,     0.42457,     0.42457,     0.42457,     0.42457,     0.42457,     0.42457,     0.42457,\n",
       "            0.42457,     0.42457,     0.42457,     0.42457,     0.42457,     0.42457,     0.42457,     0.42457,     0.42457,     0.42457,     0.42457,     0.42457,     0.42457,     0.42457,     0.42457,     0.42457,     0.42457,     0.42457,     0.42457,     0.42457,     0.42457,     0.42457,     0.42457,\n",
       "            0.42457,     0.42457,     0.42457,     0.42457,     0.42457,     0.42457,     0.42457,     0.42457,     0.42457,     0.42457,     0.42457,     0.42457,     0.42457,     0.42457,     0.42457,     0.42457,     0.42457,     0.42457,     0.42457,     0.42457,     0.42457,     0.42457,     0.42457,\n",
       "            0.42457,     0.42457,     0.42457,     0.42457,     0.42457,     0.42457,     0.42457,     0.42457,     0.42457,     0.42457,     0.42457,     0.42457,     0.42457,     0.42457,     0.42457,     0.42457,     0.42457,     0.42457,     0.42457,     0.42457,     0.42457,     0.42457,     0.42457,\n",
       "            0.42457,     0.42457,     0.42457,     0.42457,     0.42457,     0.42457,     0.42457,     0.42457,     0.42457,     0.42457,     0.42457,     0.42457,     0.42457,     0.42457,     0.42457,     0.42457,     0.42457,     0.42457,     0.42457,     0.42457,     0.42457,     0.42457,     0.42457,\n",
       "            0.42457,     0.42457,     0.42457,     0.42457,     0.42457,     0.42457,     0.42457,     0.42457,     0.42457,     0.42457,     0.42457,     0.42457,     0.42457,     0.42457,     0.42457,     0.42457,     0.42457,     0.42457,     0.42457,     0.42457,     0.42457,     0.42457,     0.42457,\n",
       "            0.42457,     0.42457,     0.42457,     0.42457,     0.42457,     0.42457,     0.42457,     0.42457,     0.42457,     0.42457,     0.42457,     0.42457,     0.42457,     0.42457,     0.42457,     0.42457,     0.42457,     0.42457,     0.42457,     0.42457,     0.42457,     0.42457,     0.42457,\n",
       "            0.42457,     0.42457,     0.42457,     0.42457,     0.42457,     0.42457,     0.42457,     0.42457,     0.42457,     0.42457,     0.42457,     0.42457,     0.42457,     0.42457,     0.42457,     0.42457,     0.42457,     0.42457,     0.42457,     0.42457,     0.42457,     0.42457,     0.42457,\n",
       "            0.42457,     0.42457,     0.42457,     0.42457,     0.42457,     0.42457,     0.42457,     0.42457,     0.42457,     0.42457,     0.42457,     0.42457,     0.42457,     0.42457,     0.42457,     0.42457,     0.42457,     0.42457,     0.42457,     0.42457,     0.42457,     0.42457,     0.42457,\n",
       "            0.42457,     0.42457,     0.42457,     0.42457,     0.42457,     0.42457,     0.42457,     0.42457,     0.42457,     0.42437,     0.42384,     0.42332,     0.42302,     0.42302,     0.42302,     0.42146,     0.42146,     0.42146,     0.42146,     0.42146,     0.42032,     0.41849,     0.41699,\n",
       "             0.4168,      0.4168,     0.41422,     0.41369,     0.41058,     0.41058,     0.41007,     0.40853,     0.40747,     0.40747,     0.40747,     0.40747,     0.40747,     0.40719,     0.40634,     0.40591,     0.40446,     0.40397,     0.40338,     0.40275,     0.40116,     0.40083,      0.4005,\n",
       "            0.40016,     0.39983,     0.39969,     0.39969,     0.39943,     0.39877,     0.39809,     0.39697,     0.39434,     0.39324,     0.39231,     0.39171,     0.39136,     0.39101,     0.39066,     0.39024,      0.3895,      0.3888,     0.38725,     0.38725,     0.38725,     0.38697,     0.38574,\n",
       "            0.38569,     0.38569,     0.38562,     0.38503,     0.38444,     0.38371,     0.38281,     0.38258,     0.38258,     0.38103,     0.38103,      0.3797,     0.37947,     0.37947,     0.37792,      0.3766,     0.37585,     0.37527,     0.37378,     0.37014,     0.37014,     0.36842,     0.36664,\n",
       "            0.36467,     0.36365,     0.36207,     0.36158,      0.3611,     0.36081,     0.36078,     0.35958,     0.35925,     0.35925,     0.35925,     0.35614,     0.35614,     0.35459,     0.35459,     0.35424,      0.3537,     0.35316,     0.35148,     0.35097,     0.35005,     0.34934,     0.34867,\n",
       "            0.34681,     0.34493,     0.34392,     0.33929,      0.3377,     0.33665,     0.33281,     0.33281,     0.33126,     0.33126,     0.33113,     0.33004,     0.32919,     0.32845,     0.32755,     0.32612,     0.32311,     0.32242,     0.32058,     0.31832,     0.31734,     0.31678,     0.31626,\n",
       "            0.31574,     0.31571,     0.31571,     0.31392,     0.31336,     0.31281,     0.31057,     0.30946,       0.308,     0.30665,     0.30231,     0.29938,     0.29688,     0.29636,     0.29584,     0.29351,     0.29164,     0.28925,     0.28771,     0.28299,     0.28138,     0.28027,     0.27876,\n",
       "            0.27838,     0.27838,     0.27838,     0.27838,     0.27771,     0.27648,     0.27527,     0.27186,     0.27139,     0.27092,     0.26948,     0.26816,     0.26594,     0.26594,     0.26439,     0.26371,     0.26257,     0.26203,     0.26148,     0.26052,     0.25952,     0.25781,     0.25551,\n",
       "            0.25302,     0.24986,     0.24774,       0.246,     0.24393,     0.24345,     0.24296,     0.24151,      0.2379,     0.23725,     0.23659,     0.23594,     0.23531,     0.23484,     0.23484,     0.23484,     0.23049,     0.22955,     0.22885,     0.22798,     0.22551,     0.22551,      0.2246,\n",
       "            0.22227,     0.21897,     0.21711,     0.21379,     0.21222,     0.21105,     0.21014,     0.20953,     0.20901,     0.20848,     0.20489,      0.2004,     0.19931,     0.19709,     0.19606,     0.19542,     0.19482,     0.19439,     0.19397,     0.19354,     0.19312,     0.19189,     0.18891,\n",
       "            0.18742,     0.18642,      0.1852,     0.18235,     0.18018,     0.17838,     0.17418,     0.17418,     0.17283,     0.16788,     0.16711,     0.16614,     0.16174,     0.16052,     0.16019,     0.15863,     0.15863,     0.15845,     0.15789,     0.15733,     0.15592,     0.15402,     0.15346,\n",
       "            0.15294,     0.15242,     0.15051,     0.14976,     0.14908,     0.14849,      0.1479,     0.14537,     0.14313,     0.14247,     0.14184,       0.141,     0.13971,      0.1353,      0.1353,      0.1353,     0.13349,     0.13062,     0.12634,     0.12525,     0.12183,      0.1196,     0.11678,\n",
       "            0.11366,     0.11125,     0.10998,     0.10863,     0.10811,     0.10758,     0.10641,     0.10411,     0.10264,     0.10264,     0.10259,     0.10139,    0.099942,    0.096265,    0.095878,    0.095491,    0.095104,    0.094868,    0.094868,    0.091291,    0.090139,    0.089354,    0.088621,\n",
       "           0.088363,    0.088106,    0.087848,     0.08759,    0.087332,    0.086765,    0.083642,    0.082426,    0.080835,    0.079855,    0.078903,    0.077986,    0.077308,    0.076707,    0.075997,    0.074739,    0.074285,    0.073892,    0.073499,    0.073107,    0.068801,    0.067436,    0.066595,\n",
       "           0.066049,    0.065504,    0.065319,    0.065319,    0.064425,    0.062723,    0.060755,    0.059575,    0.058396,    0.057428,    0.057034,    0.056641,    0.056248,    0.055271,    0.054432,    0.054037,    0.052544,    0.051459,    0.048688,    0.045618,    0.043744,    0.040408,    0.039497,\n",
       "           0.038572,    0.037616,     0.03673,    0.035874,    0.034253,    0.032193,    0.030576,    0.029965,    0.029161,    0.027983,    0.027726,    0.027469,    0.027212,    0.026955,    0.026698,    0.026441,    0.026138,    0.025836,    0.025534,    0.025231,    0.024929,    0.024719,    0.024526,\n",
       "           0.024333,     0.02414,    0.023947,    0.023754,    0.023561,    0.023368,    0.021773,    0.021773,    0.021773,    0.021773,    0.021529,    0.021196,    0.020864,    0.020531,    0.020198,    0.019865,    0.019532,    0.019199,    0.018866,     0.01857,    0.018334,    0.018097,    0.017861,\n",
       "           0.017624,    0.017388,    0.017151,    0.016367,    0.015525,    0.015261,    0.014998,    0.014734,    0.014471,    0.014208,    0.013954,    0.013739,    0.013524,    0.013309,    0.013094,    0.012879,    0.012665,     0.01245,    0.010698,    0.010436,    0.010175,   0.0099125,   0.0096506,\n",
       "          0.0093886,   0.0088796,   0.0083014,   0.0077728,   0.0077375,   0.0077022,   0.0076669,   0.0076316,   0.0075962,   0.0075609,   0.0075256,   0.0074903,    0.007455,   0.0074197,   0.0073843,    0.007349,   0.0073137,   0.0072784,   0.0072431,   0.0072078,   0.0071724,   0.0071371,   0.0071018,\n",
       "          0.0070665,   0.0070312,   0.0069959,   0.0069606,   0.0069252,   0.0068899,   0.0068546,   0.0068193,    0.006784,   0.0067487,   0.0067133,    0.006678,   0.0066427,   0.0066074,   0.0065721,   0.0065368,   0.0065015,   0.0064661,   0.0064308,   0.0063955,   0.0063602,   0.0063249,   0.0062896,\n",
       "          0.0062542,   0.0061927,   0.0056743,   0.0051558,   0.0046473,   0.0043122,    0.003977,   0.0036419,   0.0033068,   0.0030669,   0.0029618,   0.0028567,   0.0027517,   0.0026466,   0.0025415,   0.0024364,   0.0023313,   0.0022262,   0.0021212,   0.0020161,    0.001911,   0.0018059,   0.0017008,\n",
       "          0.0015958,           0,           0,           0,           0,           0,           0,           0,           0,           0,           0,           0,           0,           0,           0,           0,           0,           0,           0,           0,           0,           0,           0,\n",
       "                  0,           0,           0,           0,           0,           0,           0,           0,           0,           0,           0,           0,           0,           0,           0,           0,           0,           0,           0,           0,           0,           0,           0,\n",
       "                  0,           0,           0,           0,           0,           0,           0,           0,           0,           0,           0,           0,           0,           0,           0,           0,           0,           0,           0,           0,           0,           0,           0,\n",
       "                  0,           0,           0,           0,           0,           0,           0,           0,           0,           0,           0,           0,           0,           0,           0,           0,           0,           0,           0,           0,           0,           0,           0,\n",
       "                  0,           0,           0,           0,           0,           0,           0,           0,           0,           0,           0,           0,           0,           0,           0,           0,           0,           0,           0,           0,           0,           0,           0,\n",
       "                  0,           0,           0,           0,           0,           0,           0,           0,           0,           0,           0]]), 'Confidence', 'Recall']]\n",
       "fitness: 0.3455304090215727\n",
       "keys: ['metrics/precision(B)', 'metrics/recall(B)', 'metrics/mAP50(B)', 'metrics/mAP50-95(B)']\n",
       "maps: array([    0.31675])\n",
       "names: {0: 'Acne'}\n",
       "plot: True\n",
       "results_dict: {'metrics/precision(B)': 0.7755681818181818, 'metrics/recall(B)': 0.42457231726283046, 'metrics/mAP50(B)': 0.6045723343676298, 'metrics/mAP50-95(B)': 0.31674797287201084, 'fitness': 0.3455304090215727}\n",
       "save_dir: PosixPath('runs/detect/train5')\n",
       "speed: {'preprocess': 0.37901316370282856, 'inference': 25.545597076416016, 'loss': 0.00014475413731166294, 'postprocess': 0.21276729447501047}\n",
       "task: 'detect'"
      ]
     },
     "execution_count": 5,
     "metadata": {},
     "output_type": "execute_result"
    }
   ],
   "source": [
    "model = YOLO(\"models/yolov8n.pt\")\n",
    "model.train(data=\"datasets/kaggle-acne/data.yaml\", epochs=100, imgsz=320, batch=4, conf=0.4, iou=0.3, nms=True, max_det=10, hsv_h=0.03, hsv_s=0.9, hsv_v=0.6)"
   ]
  },
  {
   "cell_type": "code",
   "execution_count": 9,
   "metadata": {},
   "outputs": [],
   "source": [
    "yolo_model_path = 'runs/detect/train5/weights/best.pt'\n",
    "yolo_model = YOLO(yolo_model_path)\n",
    "\n",
    "input_dir = 'datasets/kaggle-acne/train/images'\n",
    "output_dir = 'datasets/kaggle-acne/save_train/images'\n",
    "os.makedirs(output_dir, exist_ok=True)"
   ]
  },
  {
   "cell_type": "code",
   "execution_count": null,
   "metadata": {},
   "outputs": [
    {
     "name": "stdout",
     "output_type": "stream",
     "text": [
      "\n",
      "0: 320x320 5 Acnes, 22.8ms\n",
      "Speed: 1.4ms preprocess, 22.8ms inference, 0.3ms postprocess per image at shape (1, 3, 320, 320)\n",
      "\n",
      "0: 320x320 (no detections), 28.0ms\n",
      "Speed: 0.7ms preprocess, 28.0ms inference, 0.2ms postprocess per image at shape (1, 3, 320, 320)\n",
      "\n",
      "0: 320x320 4 Acnes, 22.0ms\n",
      "Speed: 0.6ms preprocess, 22.0ms inference, 0.7ms postprocess per image at shape (1, 3, 320, 320)\n",
      "\n",
      "0: 320x320 18 Acnes, 28.1ms\n",
      "Speed: 1.0ms preprocess, 28.1ms inference, 0.4ms postprocess per image at shape (1, 3, 320, 320)\n",
      "\n",
      "0: 320x320 13 Acnes, 23.7ms\n",
      "Speed: 0.7ms preprocess, 23.7ms inference, 0.4ms postprocess per image at shape (1, 3, 320, 320)\n",
      "\n",
      "0: 320x320 5 Acnes, 18.4ms\n",
      "Speed: 0.8ms preprocess, 18.4ms inference, 0.3ms postprocess per image at shape (1, 3, 320, 320)\n",
      "\n",
      "0: 320x320 (no detections), 21.2ms\n",
      "Speed: 1.0ms preprocess, 21.2ms inference, 0.2ms postprocess per image at shape (1, 3, 320, 320)\n",
      "\n",
      "0: 320x320 11 Acnes, 20.1ms\n",
      "Speed: 0.7ms preprocess, 20.1ms inference, 0.3ms postprocess per image at shape (1, 3, 320, 320)\n",
      "\n",
      "0: 320x320 1 Acne, 21.0ms\n",
      "Speed: 0.7ms preprocess, 21.0ms inference, 0.3ms postprocess per image at shape (1, 3, 320, 320)\n",
      "\n",
      "0: 320x320 11 Acnes, 23.9ms\n",
      "Speed: 0.7ms preprocess, 23.9ms inference, 0.3ms postprocess per image at shape (1, 3, 320, 320)\n",
      "\n",
      "0: 320x320 4 Acnes, 19.1ms\n",
      "Speed: 0.8ms preprocess, 19.1ms inference, 0.3ms postprocess per image at shape (1, 3, 320, 320)\n",
      "\n",
      "0: 320x320 7 Acnes, 19.5ms\n",
      "Speed: 0.7ms preprocess, 19.5ms inference, 0.3ms postprocess per image at shape (1, 3, 320, 320)\n",
      "\n",
      "0: 320x320 6 Acnes, 19.1ms\n",
      "Speed: 0.8ms preprocess, 19.1ms inference, 0.3ms postprocess per image at shape (1, 3, 320, 320)\n",
      "\n",
      "0: 320x320 11 Acnes, 21.1ms\n",
      "Speed: 0.8ms preprocess, 21.1ms inference, 0.3ms postprocess per image at shape (1, 3, 320, 320)\n",
      "\n",
      "0: 320x320 11 Acnes, 21.3ms\n",
      "Speed: 0.6ms preprocess, 21.3ms inference, 0.3ms postprocess per image at shape (1, 3, 320, 320)\n",
      "\n",
      "0: 320x320 10 Acnes, 21.2ms\n",
      "Speed: 0.6ms preprocess, 21.2ms inference, 0.3ms postprocess per image at shape (1, 3, 320, 320)\n",
      "\n",
      "0: 320x320 22 Acnes, 22.0ms\n",
      "Speed: 0.9ms preprocess, 22.0ms inference, 0.3ms postprocess per image at shape (1, 3, 320, 320)\n",
      "\n",
      "0: 320x320 13 Acnes, 18.7ms\n",
      "Speed: 0.7ms preprocess, 18.7ms inference, 0.3ms postprocess per image at shape (1, 3, 320, 320)\n",
      "\n",
      "0: 320x320 1 Acne, 20.3ms\n",
      "Speed: 0.6ms preprocess, 20.3ms inference, 0.3ms postprocess per image at shape (1, 3, 320, 320)\n",
      "\n",
      "0: 320x320 5 Acnes, 22.6ms\n",
      "Speed: 0.6ms preprocess, 22.6ms inference, 0.3ms postprocess per image at shape (1, 3, 320, 320)\n",
      "\n",
      "0: 320x320 16 Acnes, 22.5ms\n",
      "Speed: 0.7ms preprocess, 22.5ms inference, 0.4ms postprocess per image at shape (1, 3, 320, 320)\n",
      "\n",
      "0: 320x320 4 Acnes, 27.6ms\n",
      "Speed: 0.6ms preprocess, 27.6ms inference, 0.5ms postprocess per image at shape (1, 3, 320, 320)\n",
      "\n",
      "0: 320x320 9 Acnes, 18.7ms\n",
      "Speed: 0.7ms preprocess, 18.7ms inference, 0.3ms postprocess per image at shape (1, 3, 320, 320)\n",
      "\n",
      "0: 320x320 6 Acnes, 16.7ms\n",
      "Speed: 0.6ms preprocess, 16.7ms inference, 0.4ms postprocess per image at shape (1, 3, 320, 320)\n",
      "\n",
      "0: 320x320 5 Acnes, 19.2ms\n",
      "Speed: 0.6ms preprocess, 19.2ms inference, 0.3ms postprocess per image at shape (1, 3, 320, 320)\n",
      "\n",
      "0: 320x320 4 Acnes, 21.9ms\n",
      "Speed: 0.6ms preprocess, 21.9ms inference, 0.8ms postprocess per image at shape (1, 3, 320, 320)\n",
      "\n",
      "0: 320x320 4 Acnes, 16.6ms\n",
      "Speed: 0.7ms preprocess, 16.6ms inference, 0.4ms postprocess per image at shape (1, 3, 320, 320)\n",
      "\n",
      "0: 320x320 (no detections), 21.9ms\n",
      "Speed: 0.7ms preprocess, 21.9ms inference, 0.4ms postprocess per image at shape (1, 3, 320, 320)\n",
      "\n",
      "0: 320x320 7 Acnes, 18.9ms\n",
      "Speed: 0.6ms preprocess, 18.9ms inference, 0.3ms postprocess per image at shape (1, 3, 320, 320)\n",
      "\n",
      "0: 320x320 2 Acnes, 19.0ms\n",
      "Speed: 0.6ms preprocess, 19.0ms inference, 0.9ms postprocess per image at shape (1, 3, 320, 320)\n",
      "\n",
      "0: 320x320 18 Acnes, 22.1ms\n",
      "Speed: 0.6ms preprocess, 22.1ms inference, 0.4ms postprocess per image at shape (1, 3, 320, 320)\n",
      "\n",
      "0: 320x320 4 Acnes, 35.4ms\n",
      "Speed: 0.8ms preprocess, 35.4ms inference, 0.4ms postprocess per image at shape (1, 3, 320, 320)\n",
      "\n",
      "0: 320x320 12 Acnes, 18.9ms\n",
      "Speed: 0.6ms preprocess, 18.9ms inference, 0.3ms postprocess per image at shape (1, 3, 320, 320)\n",
      "\n",
      "0: 320x320 2 Acnes, 26.1ms\n",
      "Speed: 0.7ms preprocess, 26.1ms inference, 0.3ms postprocess per image at shape (1, 3, 320, 320)\n",
      "\n",
      "0: 320x320 6 Acnes, 23.0ms\n",
      "Speed: 0.7ms preprocess, 23.0ms inference, 0.3ms postprocess per image at shape (1, 3, 320, 320)\n",
      "\n",
      "0: 320x320 10 Acnes, 27.0ms\n",
      "Speed: 1.0ms preprocess, 27.0ms inference, 0.3ms postprocess per image at shape (1, 3, 320, 320)\n",
      "\n",
      "0: 320x320 4 Acnes, 25.7ms\n",
      "Speed: 0.8ms preprocess, 25.7ms inference, 0.3ms postprocess per image at shape (1, 3, 320, 320)\n",
      "\n",
      "0: 320x320 7 Acnes, 22.1ms\n",
      "Speed: 0.9ms preprocess, 22.1ms inference, 0.3ms postprocess per image at shape (1, 3, 320, 320)\n",
      "\n",
      "0: 320x320 22 Acnes, 22.7ms\n",
      "Speed: 1.3ms preprocess, 22.7ms inference, 0.3ms postprocess per image at shape (1, 3, 320, 320)\n",
      "\n",
      "0: 320x320 6 Acnes, 23.7ms\n",
      "Speed: 0.8ms preprocess, 23.7ms inference, 0.4ms postprocess per image at shape (1, 3, 320, 320)\n",
      "\n",
      "0: 320x320 31 Acnes, 19.9ms\n",
      "Speed: 0.6ms preprocess, 19.9ms inference, 0.4ms postprocess per image at shape (1, 3, 320, 320)\n",
      "\n",
      "0: 320x320 9 Acnes, 23.2ms\n",
      "Speed: 0.7ms preprocess, 23.2ms inference, 0.3ms postprocess per image at shape (1, 3, 320, 320)\n",
      "\n",
      "0: 320x320 9 Acnes, 24.2ms\n",
      "Speed: 0.8ms preprocess, 24.2ms inference, 0.3ms postprocess per image at shape (1, 3, 320, 320)\n",
      "\n",
      "0: 320x320 6 Acnes, 25.1ms\n",
      "Speed: 0.8ms preprocess, 25.1ms inference, 0.5ms postprocess per image at shape (1, 3, 320, 320)\n",
      "\n",
      "0: 320x320 18 Acnes, 20.0ms\n",
      "Speed: 0.6ms preprocess, 20.0ms inference, 0.4ms postprocess per image at shape (1, 3, 320, 320)\n",
      "\n",
      "0: 320x320 31 Acnes, 18.5ms\n",
      "Speed: 0.8ms preprocess, 18.5ms inference, 0.3ms postprocess per image at shape (1, 3, 320, 320)\n",
      "\n",
      "0: 320x320 1 Acne, 20.8ms\n",
      "Speed: 1.0ms preprocess, 20.8ms inference, 0.3ms postprocess per image at shape (1, 3, 320, 320)\n",
      "\n",
      "0: 320x320 16 Acnes, 18.2ms\n",
      "Speed: 0.7ms preprocess, 18.2ms inference, 0.3ms postprocess per image at shape (1, 3, 320, 320)\n",
      "\n",
      "0: 320x320 1 Acne, 19.7ms\n",
      "Speed: 0.8ms preprocess, 19.7ms inference, 0.4ms postprocess per image at shape (1, 3, 320, 320)\n",
      "\n",
      "0: 320x320 2 Acnes, 17.5ms\n",
      "Speed: 0.6ms preprocess, 17.5ms inference, 0.3ms postprocess per image at shape (1, 3, 320, 320)\n",
      "\n",
      "0: 320x320 3 Acnes, 18.6ms\n",
      "Speed: 0.8ms preprocess, 18.6ms inference, 0.3ms postprocess per image at shape (1, 3, 320, 320)\n",
      "\n",
      "0: 320x320 5 Acnes, 18.6ms\n",
      "Speed: 0.7ms preprocess, 18.6ms inference, 0.3ms postprocess per image at shape (1, 3, 320, 320)\n",
      "\n",
      "0: 320x320 10 Acnes, 18.3ms\n",
      "Speed: 0.8ms preprocess, 18.3ms inference, 0.3ms postprocess per image at shape (1, 3, 320, 320)\n",
      "\n",
      "0: 320x320 6 Acnes, 19.4ms\n",
      "Speed: 0.8ms preprocess, 19.4ms inference, 0.3ms postprocess per image at shape (1, 3, 320, 320)\n",
      "\n",
      "0: 320x320 2 Acnes, 24.9ms\n",
      "Speed: 0.6ms preprocess, 24.9ms inference, 0.3ms postprocess per image at shape (1, 3, 320, 320)\n",
      "\n",
      "0: 320x320 1 Acne, 18.1ms\n",
      "Speed: 0.8ms preprocess, 18.1ms inference, 0.3ms postprocess per image at shape (1, 3, 320, 320)\n",
      "\n",
      "0: 320x320 2 Acnes, 19.0ms\n",
      "Speed: 0.7ms preprocess, 19.0ms inference, 0.3ms postprocess per image at shape (1, 3, 320, 320)\n",
      "\n",
      "0: 320x320 3 Acnes, 17.4ms\n",
      "Speed: 0.7ms preprocess, 17.4ms inference, 0.3ms postprocess per image at shape (1, 3, 320, 320)\n",
      "\n",
      "0: 320x320 6 Acnes, 18.3ms\n",
      "Speed: 0.7ms preprocess, 18.3ms inference, 0.3ms postprocess per image at shape (1, 3, 320, 320)\n",
      "\n",
      "0: 320x320 1 Acne, 20.1ms\n",
      "Speed: 0.7ms preprocess, 20.1ms inference, 0.3ms postprocess per image at shape (1, 3, 320, 320)\n",
      "\n",
      "0: 320x320 2 Acnes, 18.3ms\n",
      "Speed: 0.7ms preprocess, 18.3ms inference, 0.3ms postprocess per image at shape (1, 3, 320, 320)\n",
      "\n",
      "0: 320x320 10 Acnes, 20.4ms\n",
      "Speed: 0.6ms preprocess, 20.4ms inference, 0.6ms postprocess per image at shape (1, 3, 320, 320)\n",
      "\n",
      "0: 320x320 8 Acnes, 20.5ms\n",
      "Speed: 0.7ms preprocess, 20.5ms inference, 0.4ms postprocess per image at shape (1, 3, 320, 320)\n",
      "\n",
      "0: 320x320 17 Acnes, 18.9ms\n",
      "Speed: 0.8ms preprocess, 18.9ms inference, 0.3ms postprocess per image at shape (1, 3, 320, 320)\n",
      "\n",
      "0: 320x320 1 Acne, 20.7ms\n",
      "Speed: 1.2ms preprocess, 20.7ms inference, 0.3ms postprocess per image at shape (1, 3, 320, 320)\n",
      "\n",
      "0: 320x320 24 Acnes, 18.9ms\n",
      "Speed: 0.7ms preprocess, 18.9ms inference, 0.3ms postprocess per image at shape (1, 3, 320, 320)\n",
      "\n",
      "0: 320x320 5 Acnes, 20.4ms\n",
      "Speed: 0.6ms preprocess, 20.4ms inference, 0.4ms postprocess per image at shape (1, 3, 320, 320)\n",
      "\n",
      "0: 320x320 3 Acnes, 19.5ms\n",
      "Speed: 0.5ms preprocess, 19.5ms inference, 0.3ms postprocess per image at shape (1, 3, 320, 320)\n",
      "\n",
      "0: 320x320 3 Acnes, 21.5ms\n",
      "Speed: 1.1ms preprocess, 21.5ms inference, 0.3ms postprocess per image at shape (1, 3, 320, 320)\n",
      "\n",
      "0: 320x320 2 Acnes, 26.8ms\n",
      "Speed: 1.5ms preprocess, 26.8ms inference, 0.4ms postprocess per image at shape (1, 3, 320, 320)\n",
      "\n",
      "0: 320x320 19 Acnes, 32.1ms\n",
      "Speed: 1.7ms preprocess, 32.1ms inference, 0.4ms postprocess per image at shape (1, 3, 320, 320)\n",
      "\n",
      "0: 320x320 6 Acnes, 33.8ms\n",
      "Speed: 1.3ms preprocess, 33.8ms inference, 0.7ms postprocess per image at shape (1, 3, 320, 320)\n",
      "\n",
      "0: 320x320 1 Acne, 27.1ms\n",
      "Speed: 1.0ms preprocess, 27.1ms inference, 0.3ms postprocess per image at shape (1, 3, 320, 320)\n",
      "\n",
      "0: 320x320 3 Acnes, 21.5ms\n",
      "Speed: 1.0ms preprocess, 21.5ms inference, 0.3ms postprocess per image at shape (1, 3, 320, 320)\n",
      "\n",
      "0: 320x320 4 Acnes, 22.7ms\n",
      "Speed: 0.5ms preprocess, 22.7ms inference, 0.3ms postprocess per image at shape (1, 3, 320, 320)\n",
      "\n",
      "0: 320x320 2 Acnes, 23.5ms\n",
      "Speed: 0.6ms preprocess, 23.5ms inference, 0.3ms postprocess per image at shape (1, 3, 320, 320)\n",
      "\n",
      "0: 320x320 11 Acnes, 22.1ms\n",
      "Speed: 0.6ms preprocess, 22.1ms inference, 0.6ms postprocess per image at shape (1, 3, 320, 320)\n",
      "\n",
      "0: 320x320 3 Acnes, 22.6ms\n",
      "Speed: 0.8ms preprocess, 22.6ms inference, 0.4ms postprocess per image at shape (1, 3, 320, 320)\n",
      "\n",
      "0: 320x320 2 Acnes, 27.8ms\n",
      "Speed: 0.7ms preprocess, 27.8ms inference, 0.4ms postprocess per image at shape (1, 3, 320, 320)\n",
      "\n",
      "0: 320x320 7 Acnes, 21.5ms\n",
      "Speed: 0.8ms preprocess, 21.5ms inference, 0.3ms postprocess per image at shape (1, 3, 320, 320)\n",
      "\n",
      "0: 320x320 1 Acne, 21.5ms\n",
      "Speed: 0.8ms preprocess, 21.5ms inference, 0.3ms postprocess per image at shape (1, 3, 320, 320)\n",
      "\n",
      "0: 320x320 9 Acnes, 23.1ms\n",
      "Speed: 0.6ms preprocess, 23.1ms inference, 0.4ms postprocess per image at shape (1, 3, 320, 320)\n",
      "\n",
      "0: 320x320 (no detections), 18.2ms\n",
      "Speed: 0.8ms preprocess, 18.2ms inference, 0.2ms postprocess per image at shape (1, 3, 320, 320)\n",
      "\n",
      "0: 320x320 16 Acnes, 20.6ms\n",
      "Speed: 0.9ms preprocess, 20.6ms inference, 0.5ms postprocess per image at shape (1, 3, 320, 320)\n",
      "\n",
      "0: 320x320 6 Acnes, 19.9ms\n",
      "Speed: 0.6ms preprocess, 19.9ms inference, 0.3ms postprocess per image at shape (1, 3, 320, 320)\n",
      "\n",
      "0: 320x320 4 Acnes, 32.3ms\n",
      "Speed: 0.7ms preprocess, 32.3ms inference, 0.3ms postprocess per image at shape (1, 3, 320, 320)\n",
      "\n",
      "0: 320x320 1 Acne, 17.8ms\n",
      "Speed: 0.7ms preprocess, 17.8ms inference, 0.3ms postprocess per image at shape (1, 3, 320, 320)\n",
      "\n",
      "0: 320x320 11 Acnes, 22.5ms\n",
      "Speed: 0.8ms preprocess, 22.5ms inference, 0.3ms postprocess per image at shape (1, 3, 320, 320)\n",
      "\n",
      "0: 320x320 1 Acne, 22.2ms\n",
      "Speed: 0.7ms preprocess, 22.2ms inference, 0.3ms postprocess per image at shape (1, 3, 320, 320)\n",
      "\n",
      "0: 320x320 8 Acnes, 21.6ms\n",
      "Speed: 0.7ms preprocess, 21.6ms inference, 0.3ms postprocess per image at shape (1, 3, 320, 320)\n",
      "\n",
      "0: 320x320 4 Acnes, 19.2ms\n",
      "Speed: 0.6ms preprocess, 19.2ms inference, 0.3ms postprocess per image at shape (1, 3, 320, 320)\n",
      "\n",
      "0: 320x320 1 Acne, 22.4ms\n",
      "Speed: 0.8ms preprocess, 22.4ms inference, 0.3ms postprocess per image at shape (1, 3, 320, 320)\n",
      "\n",
      "0: 320x320 7 Acnes, 19.1ms\n",
      "Speed: 0.6ms preprocess, 19.1ms inference, 0.8ms postprocess per image at shape (1, 3, 320, 320)\n",
      "\n",
      "0: 320x320 1 Acne, 21.0ms\n",
      "Speed: 0.7ms preprocess, 21.0ms inference, 0.3ms postprocess per image at shape (1, 3, 320, 320)\n",
      "\n",
      "0: 320x320 9 Acnes, 20.6ms\n",
      "Speed: 0.9ms preprocess, 20.6ms inference, 0.4ms postprocess per image at shape (1, 3, 320, 320)\n",
      "\n",
      "0: 320x320 9 Acnes, 18.1ms\n",
      "Speed: 0.6ms preprocess, 18.1ms inference, 0.3ms postprocess per image at shape (1, 3, 320, 320)\n",
      "\n",
      "0: 320x320 13 Acnes, 20.6ms\n",
      "Speed: 0.8ms preprocess, 20.6ms inference, 0.3ms postprocess per image at shape (1, 3, 320, 320)\n",
      "\n",
      "0: 320x320 3 Acnes, 21.5ms\n",
      "Speed: 0.6ms preprocess, 21.5ms inference, 0.4ms postprocess per image at shape (1, 3, 320, 320)\n",
      "\n",
      "0: 320x320 6 Acnes, 24.1ms\n",
      "Speed: 0.9ms preprocess, 24.1ms inference, 0.3ms postprocess per image at shape (1, 3, 320, 320)\n",
      "\n",
      "0: 320x320 2 Acnes, 24.3ms\n",
      "Speed: 0.8ms preprocess, 24.3ms inference, 0.3ms postprocess per image at shape (1, 3, 320, 320)\n",
      "\n",
      "0: 320x320 3 Acnes, 23.6ms\n",
      "Speed: 0.7ms preprocess, 23.6ms inference, 0.6ms postprocess per image at shape (1, 3, 320, 320)\n",
      "\n",
      "0: 320x320 14 Acnes, 26.0ms\n",
      "Speed: 0.6ms preprocess, 26.0ms inference, 0.6ms postprocess per image at shape (1, 3, 320, 320)\n",
      "\n",
      "0: 320x320 25 Acnes, 62.8ms\n",
      "Speed: 1.2ms preprocess, 62.8ms inference, 0.7ms postprocess per image at shape (1, 3, 320, 320)\n",
      "\n",
      "0: 320x320 13 Acnes, 23.0ms\n",
      "Speed: 2.2ms preprocess, 23.0ms inference, 0.3ms postprocess per image at shape (1, 3, 320, 320)\n",
      "\n",
      "0: 320x320 2 Acnes, 18.9ms\n",
      "Speed: 0.6ms preprocess, 18.9ms inference, 0.3ms postprocess per image at shape (1, 3, 320, 320)\n",
      "\n",
      "0: 320x320 1 Acne, 21.2ms\n",
      "Speed: 0.8ms preprocess, 21.2ms inference, 0.3ms postprocess per image at shape (1, 3, 320, 320)\n",
      "\n",
      "0: 320x320 8 Acnes, 18.2ms\n",
      "Speed: 0.7ms preprocess, 18.2ms inference, 0.5ms postprocess per image at shape (1, 3, 320, 320)\n",
      "\n",
      "0: 320x320 1 Acne, 22.6ms\n",
      "Speed: 0.6ms preprocess, 22.6ms inference, 0.3ms postprocess per image at shape (1, 3, 320, 320)\n",
      "\n",
      "0: 320x320 16 Acnes, 20.8ms\n",
      "Speed: 0.7ms preprocess, 20.8ms inference, 0.3ms postprocess per image at shape (1, 3, 320, 320)\n",
      "\n",
      "0: 320x320 2 Acnes, 23.7ms\n",
      "Speed: 0.5ms preprocess, 23.7ms inference, 0.5ms postprocess per image at shape (1, 3, 320, 320)\n",
      "\n",
      "0: 320x320 3 Acnes, 19.4ms\n",
      "Speed: 0.7ms preprocess, 19.4ms inference, 0.3ms postprocess per image at shape (1, 3, 320, 320)\n",
      "\n",
      "0: 320x320 1 Acne, 19.1ms\n",
      "Speed: 0.8ms preprocess, 19.1ms inference, 0.4ms postprocess per image at shape (1, 3, 320, 320)\n",
      "\n",
      "0: 320x320 3 Acnes, 19.6ms\n",
      "Speed: 0.8ms preprocess, 19.6ms inference, 0.4ms postprocess per image at shape (1, 3, 320, 320)\n",
      "\n",
      "0: 320x320 5 Acnes, 19.4ms\n",
      "Speed: 0.6ms preprocess, 19.4ms inference, 0.3ms postprocess per image at shape (1, 3, 320, 320)\n",
      "\n",
      "0: 320x320 4 Acnes, 21.5ms\n",
      "Speed: 0.8ms preprocess, 21.5ms inference, 0.3ms postprocess per image at shape (1, 3, 320, 320)\n",
      "\n",
      "0: 320x320 4 Acnes, 23.5ms\n",
      "Speed: 0.7ms preprocess, 23.5ms inference, 0.4ms postprocess per image at shape (1, 3, 320, 320)\n",
      "\n",
      "0: 320x320 4 Acnes, 25.9ms\n",
      "Speed: 0.9ms preprocess, 25.9ms inference, 0.8ms postprocess per image at shape (1, 3, 320, 320)\n",
      "\n",
      "0: 320x320 9 Acnes, 21.3ms\n",
      "Speed: 0.6ms preprocess, 21.3ms inference, 0.6ms postprocess per image at shape (1, 3, 320, 320)\n",
      "\n",
      "0: 320x320 22 Acnes, 21.5ms\n",
      "Speed: 0.7ms preprocess, 21.5ms inference, 0.4ms postprocess per image at shape (1, 3, 320, 320)\n",
      "\n",
      "0: 320x320 4 Acnes, 24.8ms\n",
      "Speed: 0.8ms preprocess, 24.8ms inference, 0.3ms postprocess per image at shape (1, 3, 320, 320)\n",
      "\n",
      "0: 320x320 36 Acnes, 22.4ms\n",
      "Speed: 0.7ms preprocess, 22.4ms inference, 0.3ms postprocess per image at shape (1, 3, 320, 320)\n",
      "\n",
      "0: 320x320 8 Acnes, 20.3ms\n",
      "Speed: 0.8ms preprocess, 20.3ms inference, 0.5ms postprocess per image at shape (1, 3, 320, 320)\n",
      "\n",
      "0: 320x320 25 Acnes, 18.7ms\n",
      "Speed: 0.6ms preprocess, 18.7ms inference, 0.3ms postprocess per image at shape (1, 3, 320, 320)\n",
      "\n",
      "0: 320x320 2 Acnes, 18.3ms\n",
      "Speed: 0.7ms preprocess, 18.3ms inference, 0.4ms postprocess per image at shape (1, 3, 320, 320)\n",
      "\n",
      "0: 320x320 4 Acnes, 22.8ms\n",
      "Speed: 0.7ms preprocess, 22.8ms inference, 0.3ms postprocess per image at shape (1, 3, 320, 320)\n",
      "\n",
      "0: 320x320 9 Acnes, 21.7ms\n",
      "Speed: 0.9ms preprocess, 21.7ms inference, 0.3ms postprocess per image at shape (1, 3, 320, 320)\n",
      "\n",
      "0: 320x320 (no detections), 23.0ms\n",
      "Speed: 0.8ms preprocess, 23.0ms inference, 0.4ms postprocess per image at shape (1, 3, 320, 320)\n",
      "\n",
      "0: 320x320 12 Acnes, 23.7ms\n",
      "Speed: 0.9ms preprocess, 23.7ms inference, 0.3ms postprocess per image at shape (1, 3, 320, 320)\n",
      "\n",
      "0: 320x320 9 Acnes, 20.3ms\n",
      "Speed: 0.6ms preprocess, 20.3ms inference, 0.4ms postprocess per image at shape (1, 3, 320, 320)\n",
      "\n",
      "0: 320x320 1 Acne, 25.0ms\n",
      "Speed: 0.7ms preprocess, 25.0ms inference, 0.3ms postprocess per image at shape (1, 3, 320, 320)\n",
      "\n",
      "0: 320x320 3 Acnes, 21.1ms\n",
      "Speed: 0.9ms preprocess, 21.1ms inference, 0.3ms postprocess per image at shape (1, 3, 320, 320)\n",
      "\n",
      "0: 320x320 7 Acnes, 21.9ms\n",
      "Speed: 0.7ms preprocess, 21.9ms inference, 0.3ms postprocess per image at shape (1, 3, 320, 320)\n",
      "\n",
      "0: 320x320 5 Acnes, 22.3ms\n",
      "Speed: 0.7ms preprocess, 22.3ms inference, 0.3ms postprocess per image at shape (1, 3, 320, 320)\n",
      "\n",
      "0: 320x320 2 Acnes, 22.8ms\n",
      "Speed: 0.9ms preprocess, 22.8ms inference, 0.4ms postprocess per image at shape (1, 3, 320, 320)\n",
      "\n",
      "0: 320x320 4 Acnes, 21.0ms\n",
      "Speed: 0.8ms preprocess, 21.0ms inference, 0.3ms postprocess per image at shape (1, 3, 320, 320)\n",
      "\n",
      "0: 320x320 17 Acnes, 22.1ms\n",
      "Speed: 0.9ms preprocess, 22.1ms inference, 0.7ms postprocess per image at shape (1, 3, 320, 320)\n",
      "\n",
      "0: 320x320 10 Acnes, 21.3ms\n",
      "Speed: 0.9ms preprocess, 21.3ms inference, 0.3ms postprocess per image at shape (1, 3, 320, 320)\n",
      "\n",
      "0: 320x320 8 Acnes, 20.7ms\n",
      "Speed: 0.7ms preprocess, 20.7ms inference, 0.3ms postprocess per image at shape (1, 3, 320, 320)\n",
      "\n",
      "0: 320x320 1 Acne, 19.4ms\n",
      "Speed: 0.7ms preprocess, 19.4ms inference, 0.3ms postprocess per image at shape (1, 3, 320, 320)\n",
      "\n",
      "0: 320x320 4 Acnes, 21.5ms\n",
      "Speed: 0.8ms preprocess, 21.5ms inference, 0.3ms postprocess per image at shape (1, 3, 320, 320)\n",
      "\n",
      "0: 320x320 3 Acnes, 20.1ms\n",
      "Speed: 0.7ms preprocess, 20.1ms inference, 0.3ms postprocess per image at shape (1, 3, 320, 320)\n",
      "\n",
      "0: 320x320 24 Acnes, 19.3ms\n",
      "Speed: 0.7ms preprocess, 19.3ms inference, 0.3ms postprocess per image at shape (1, 3, 320, 320)\n",
      "\n",
      "0: 320x320 2 Acnes, 25.0ms\n",
      "Speed: 0.6ms preprocess, 25.0ms inference, 0.5ms postprocess per image at shape (1, 3, 320, 320)\n",
      "\n",
      "0: 320x320 1 Acne, 33.3ms\n",
      "Speed: 1.1ms preprocess, 33.3ms inference, 0.9ms postprocess per image at shape (1, 3, 320, 320)\n",
      "\n",
      "0: 320x320 2 Acnes, 27.6ms\n",
      "Speed: 1.0ms preprocess, 27.6ms inference, 0.3ms postprocess per image at shape (1, 3, 320, 320)\n",
      "\n",
      "0: 320x320 5 Acnes, 20.9ms\n",
      "Speed: 0.7ms preprocess, 20.9ms inference, 0.3ms postprocess per image at shape (1, 3, 320, 320)\n",
      "\n",
      "0: 320x320 11 Acnes, 22.3ms\n",
      "Speed: 0.8ms preprocess, 22.3ms inference, 0.3ms postprocess per image at shape (1, 3, 320, 320)\n",
      "\n",
      "0: 320x320 (no detections), 22.4ms\n",
      "Speed: 0.7ms preprocess, 22.4ms inference, 0.2ms postprocess per image at shape (1, 3, 320, 320)\n",
      "\n",
      "0: 320x320 8 Acnes, 23.4ms\n",
      "Speed: 0.9ms preprocess, 23.4ms inference, 0.3ms postprocess per image at shape (1, 3, 320, 320)\n",
      "\n",
      "0: 320x320 3 Acnes, 21.7ms\n",
      "Speed: 0.6ms preprocess, 21.7ms inference, 0.3ms postprocess per image at shape (1, 3, 320, 320)\n",
      "\n",
      "0: 320x320 5 Acnes, 20.3ms\n",
      "Speed: 0.8ms preprocess, 20.3ms inference, 0.3ms postprocess per image at shape (1, 3, 320, 320)\n",
      "\n",
      "0: 320x320 1 Acne, 20.9ms\n",
      "Speed: 0.7ms preprocess, 20.9ms inference, 0.3ms postprocess per image at shape (1, 3, 320, 320)\n",
      "\n",
      "0: 320x320 17 Acnes, 21.7ms\n",
      "Speed: 0.8ms preprocess, 21.7ms inference, 0.4ms postprocess per image at shape (1, 3, 320, 320)\n",
      "\n",
      "0: 320x320 4 Acnes, 21.3ms\n",
      "Speed: 0.7ms preprocess, 21.3ms inference, 0.3ms postprocess per image at shape (1, 3, 320, 320)\n",
      "\n",
      "0: 320x320 9 Acnes, 20.3ms\n",
      "Speed: 0.6ms preprocess, 20.3ms inference, 0.3ms postprocess per image at shape (1, 3, 320, 320)\n",
      "\n",
      "0: 320x320 1 Acne, 23.1ms\n",
      "Speed: 0.6ms preprocess, 23.1ms inference, 0.3ms postprocess per image at shape (1, 3, 320, 320)\n",
      "\n",
      "0: 320x320 9 Acnes, 23.5ms\n",
      "Speed: 0.7ms preprocess, 23.5ms inference, 0.3ms postprocess per image at shape (1, 3, 320, 320)\n",
      "\n",
      "0: 320x320 5 Acnes, 21.7ms\n",
      "Speed: 0.8ms preprocess, 21.7ms inference, 0.3ms postprocess per image at shape (1, 3, 320, 320)\n",
      "\n",
      "0: 320x320 6 Acnes, 23.5ms\n",
      "Speed: 0.7ms preprocess, 23.5ms inference, 0.3ms postprocess per image at shape (1, 3, 320, 320)\n",
      "\n",
      "0: 320x320 13 Acnes, 23.4ms\n",
      "Speed: 0.8ms preprocess, 23.4ms inference, 0.4ms postprocess per image at shape (1, 3, 320, 320)\n",
      "\n",
      "0: 320x320 10 Acnes, 18.6ms\n",
      "Speed: 0.6ms preprocess, 18.6ms inference, 0.3ms postprocess per image at shape (1, 3, 320, 320)\n",
      "\n",
      "0: 320x320 6 Acnes, 23.9ms\n",
      "Speed: 0.6ms preprocess, 23.9ms inference, 0.3ms postprocess per image at shape (1, 3, 320, 320)\n",
      "\n",
      "0: 320x320 8 Acnes, 19.9ms\n",
      "Speed: 0.6ms preprocess, 19.9ms inference, 0.3ms postprocess per image at shape (1, 3, 320, 320)\n",
      "\n",
      "0: 320x320 9 Acnes, 23.5ms\n",
      "Speed: 0.8ms preprocess, 23.5ms inference, 0.3ms postprocess per image at shape (1, 3, 320, 320)\n",
      "\n",
      "0: 320x320 13 Acnes, 21.2ms\n",
      "Speed: 1.0ms preprocess, 21.2ms inference, 0.3ms postprocess per image at shape (1, 3, 320, 320)\n",
      "\n",
      "0: 320x320 14 Acnes, 22.3ms\n",
      "Speed: 0.7ms preprocess, 22.3ms inference, 0.5ms postprocess per image at shape (1, 3, 320, 320)\n",
      "\n",
      "0: 320x320 10 Acnes, 31.5ms\n",
      "Speed: 0.8ms preprocess, 31.5ms inference, 0.3ms postprocess per image at shape (1, 3, 320, 320)\n",
      "\n",
      "0: 320x320 4 Acnes, 22.4ms\n",
      "Speed: 0.8ms preprocess, 22.4ms inference, 0.3ms postprocess per image at shape (1, 3, 320, 320)\n",
      "\n",
      "0: 320x320 5 Acnes, 20.1ms\n",
      "Speed: 0.9ms preprocess, 20.1ms inference, 0.3ms postprocess per image at shape (1, 3, 320, 320)\n",
      "\n",
      "0: 320x320 2 Acnes, 24.1ms\n",
      "Speed: 0.7ms preprocess, 24.1ms inference, 0.3ms postprocess per image at shape (1, 3, 320, 320)\n",
      "\n",
      "0: 320x320 2 Acnes, 22.1ms\n",
      "Speed: 0.6ms preprocess, 22.1ms inference, 0.4ms postprocess per image at shape (1, 3, 320, 320)\n",
      "\n",
      "0: 320x320 3 Acnes, 18.6ms\n",
      "Speed: 0.7ms preprocess, 18.6ms inference, 0.6ms postprocess per image at shape (1, 3, 320, 320)\n",
      "\n",
      "0: 320x320 7 Acnes, 20.6ms\n",
      "Speed: 0.6ms preprocess, 20.6ms inference, 0.3ms postprocess per image at shape (1, 3, 320, 320)\n",
      "\n",
      "0: 320x320 8 Acnes, 17.6ms\n",
      "Speed: 0.7ms preprocess, 17.6ms inference, 0.3ms postprocess per image at shape (1, 3, 320, 320)\n",
      "\n",
      "0: 320x320 1 Acne, 21.9ms\n",
      "Speed: 0.7ms preprocess, 21.9ms inference, 0.3ms postprocess per image at shape (1, 3, 320, 320)\n",
      "\n",
      "0: 320x320 4 Acnes, 20.1ms\n",
      "Speed: 0.8ms preprocess, 20.1ms inference, 0.3ms postprocess per image at shape (1, 3, 320, 320)\n",
      "\n",
      "0: 320x320 1 Acne, 20.1ms\n",
      "Speed: 0.6ms preprocess, 20.1ms inference, 0.4ms postprocess per image at shape (1, 3, 320, 320)\n",
      "\n",
      "0: 320x320 2 Acnes, 19.9ms\n",
      "Speed: 0.6ms preprocess, 19.9ms inference, 0.4ms postprocess per image at shape (1, 3, 320, 320)\n",
      "\n",
      "0: 320x320 7 Acnes, 21.7ms\n",
      "Speed: 0.8ms preprocess, 21.7ms inference, 0.3ms postprocess per image at shape (1, 3, 320, 320)\n",
      "\n",
      "0: 320x320 4 Acnes, 24.5ms\n",
      "Speed: 1.0ms preprocess, 24.5ms inference, 0.3ms postprocess per image at shape (1, 3, 320, 320)\n",
      "\n",
      "0: 320x320 10 Acnes, 21.9ms\n",
      "Speed: 1.4ms preprocess, 21.9ms inference, 0.3ms postprocess per image at shape (1, 3, 320, 320)\n",
      "\n",
      "0: 320x320 3 Acnes, 20.9ms\n",
      "Speed: 0.7ms preprocess, 20.9ms inference, 0.3ms postprocess per image at shape (1, 3, 320, 320)\n",
      "\n",
      "0: 320x320 13 Acnes, 20.5ms\n",
      "Speed: 0.6ms preprocess, 20.5ms inference, 0.3ms postprocess per image at shape (1, 3, 320, 320)\n",
      "\n",
      "0: 320x320 (no detections), 21.3ms\n",
      "Speed: 0.9ms preprocess, 21.3ms inference, 0.2ms postprocess per image at shape (1, 3, 320, 320)\n",
      "\n",
      "0: 320x320 5 Acnes, 21.2ms\n",
      "Speed: 0.6ms preprocess, 21.2ms inference, 0.3ms postprocess per image at shape (1, 3, 320, 320)\n",
      "\n",
      "0: 320x320 7 Acnes, 20.2ms\n",
      "Speed: 0.8ms preprocess, 20.2ms inference, 0.3ms postprocess per image at shape (1, 3, 320, 320)\n",
      "\n",
      "0: 320x320 6 Acnes, 22.5ms\n",
      "Speed: 0.7ms preprocess, 22.5ms inference, 0.3ms postprocess per image at shape (1, 3, 320, 320)\n",
      "\n",
      "0: 320x320 5 Acnes, 19.8ms\n",
      "Speed: 0.6ms preprocess, 19.8ms inference, 0.7ms postprocess per image at shape (1, 3, 320, 320)\n",
      "\n",
      "0: 320x320 6 Acnes, 19.1ms\n",
      "Speed: 0.7ms preprocess, 19.1ms inference, 0.3ms postprocess per image at shape (1, 3, 320, 320)\n",
      "\n",
      "0: 320x320 4 Acnes, 20.2ms\n",
      "Speed: 0.7ms preprocess, 20.2ms inference, 0.4ms postprocess per image at shape (1, 3, 320, 320)\n",
      "\n",
      "0: 320x320 24 Acnes, 20.9ms\n",
      "Speed: 0.8ms preprocess, 20.9ms inference, 0.5ms postprocess per image at shape (1, 3, 320, 320)\n",
      "\n",
      "0: 320x320 32 Acnes, 19.6ms\n",
      "Speed: 0.6ms preprocess, 19.6ms inference, 0.4ms postprocess per image at shape (1, 3, 320, 320)\n",
      "\n",
      "0: 320x320 9 Acnes, 22.8ms\n",
      "Speed: 0.7ms preprocess, 22.8ms inference, 0.3ms postprocess per image at shape (1, 3, 320, 320)\n",
      "\n",
      "0: 320x320 2 Acnes, 22.5ms\n",
      "Speed: 0.7ms preprocess, 22.5ms inference, 0.4ms postprocess per image at shape (1, 3, 320, 320)\n",
      "\n",
      "0: 320x320 2 Acnes, 22.5ms\n",
      "Speed: 0.7ms preprocess, 22.5ms inference, 0.3ms postprocess per image at shape (1, 3, 320, 320)\n",
      "\n",
      "0: 320x320 3 Acnes, 25.0ms\n",
      "Speed: 1.1ms preprocess, 25.0ms inference, 0.3ms postprocess per image at shape (1, 3, 320, 320)\n",
      "\n",
      "0: 320x320 8 Acnes, 22.2ms\n",
      "Speed: 0.6ms preprocess, 22.2ms inference, 0.4ms postprocess per image at shape (1, 3, 320, 320)\n",
      "\n",
      "0: 320x320 7 Acnes, 23.0ms\n",
      "Speed: 0.7ms preprocess, 23.0ms inference, 0.3ms postprocess per image at shape (1, 3, 320, 320)\n",
      "\n",
      "0: 320x320 7 Acnes, 23.9ms\n",
      "Speed: 0.7ms preprocess, 23.9ms inference, 0.3ms postprocess per image at shape (1, 3, 320, 320)\n",
      "\n",
      "0: 320x320 2 Acnes, 20.3ms\n",
      "Speed: 0.7ms preprocess, 20.3ms inference, 0.3ms postprocess per image at shape (1, 3, 320, 320)\n",
      "\n",
      "0: 320x320 11 Acnes, 24.0ms\n",
      "Speed: 0.7ms preprocess, 24.0ms inference, 0.3ms postprocess per image at shape (1, 3, 320, 320)\n",
      "\n",
      "0: 320x320 7 Acnes, 32.8ms\n",
      "Speed: 1.1ms preprocess, 32.8ms inference, 0.5ms postprocess per image at shape (1, 3, 320, 320)\n",
      "\n",
      "0: 320x320 5 Acnes, 28.6ms\n",
      "Speed: 2.1ms preprocess, 28.6ms inference, 0.6ms postprocess per image at shape (1, 3, 320, 320)\n",
      "\n",
      "0: 320x320 4 Acnes, 20.2ms\n",
      "Speed: 0.7ms preprocess, 20.2ms inference, 0.3ms postprocess per image at shape (1, 3, 320, 320)\n",
      "\n",
      "0: 320x320 2 Acnes, 19.3ms\n",
      "Speed: 0.6ms preprocess, 19.3ms inference, 0.3ms postprocess per image at shape (1, 3, 320, 320)\n",
      "\n",
      "0: 320x320 6 Acnes, 18.3ms\n",
      "Speed: 0.6ms preprocess, 18.3ms inference, 0.3ms postprocess per image at shape (1, 3, 320, 320)\n",
      "\n",
      "0: 320x320 16 Acnes, 20.9ms\n",
      "Speed: 0.7ms preprocess, 20.9ms inference, 0.3ms postprocess per image at shape (1, 3, 320, 320)\n",
      "\n",
      "0: 320x320 8 Acnes, 20.0ms\n",
      "Speed: 0.6ms preprocess, 20.0ms inference, 0.3ms postprocess per image at shape (1, 3, 320, 320)\n",
      "\n",
      "0: 320x320 10 Acnes, 18.7ms\n",
      "Speed: 0.7ms preprocess, 18.7ms inference, 0.3ms postprocess per image at shape (1, 3, 320, 320)\n",
      "\n",
      "0: 320x320 7 Acnes, 18.9ms\n",
      "Speed: 0.7ms preprocess, 18.9ms inference, 0.4ms postprocess per image at shape (1, 3, 320, 320)\n",
      "\n",
      "0: 320x320 11 Acnes, 20.9ms\n",
      "Speed: 0.7ms preprocess, 20.9ms inference, 0.3ms postprocess per image at shape (1, 3, 320, 320)\n",
      "\n",
      "0: 320x320 4 Acnes, 19.1ms\n",
      "Speed: 0.8ms preprocess, 19.1ms inference, 0.3ms postprocess per image at shape (1, 3, 320, 320)\n",
      "\n",
      "0: 320x320 4 Acnes, 18.4ms\n",
      "Speed: 0.7ms preprocess, 18.4ms inference, 0.3ms postprocess per image at shape (1, 3, 320, 320)\n",
      "\n",
      "0: 320x320 2 Acnes, 22.0ms\n",
      "Speed: 0.6ms preprocess, 22.0ms inference, 0.3ms postprocess per image at shape (1, 3, 320, 320)\n",
      "\n",
      "0: 320x320 2 Acnes, 19.7ms\n",
      "Speed: 0.7ms preprocess, 19.7ms inference, 0.4ms postprocess per image at shape (1, 3, 320, 320)\n",
      "\n",
      "0: 320x320 1 Acne, 21.8ms\n",
      "Speed: 0.6ms preprocess, 21.8ms inference, 0.3ms postprocess per image at shape (1, 3, 320, 320)\n",
      "\n",
      "0: 320x320 5 Acnes, 26.4ms\n",
      "Speed: 0.9ms preprocess, 26.4ms inference, 0.4ms postprocess per image at shape (1, 3, 320, 320)\n",
      "\n",
      "0: 320x320 10 Acnes, 21.2ms\n",
      "Speed: 0.7ms preprocess, 21.2ms inference, 0.3ms postprocess per image at shape (1, 3, 320, 320)\n",
      "\n",
      "0: 320x320 1 Acne, 20.6ms\n",
      "Speed: 0.7ms preprocess, 20.6ms inference, 0.3ms postprocess per image at shape (1, 3, 320, 320)\n",
      "\n",
      "0: 320x320 1 Acne, 22.0ms\n",
      "Speed: 0.6ms preprocess, 22.0ms inference, 0.3ms postprocess per image at shape (1, 3, 320, 320)\n",
      "\n",
      "0: 320x320 5 Acnes, 25.7ms\n",
      "Speed: 0.7ms preprocess, 25.7ms inference, 0.3ms postprocess per image at shape (1, 3, 320, 320)\n",
      "\n",
      "0: 320x320 8 Acnes, 21.5ms\n",
      "Speed: 0.6ms preprocess, 21.5ms inference, 0.3ms postprocess per image at shape (1, 3, 320, 320)\n",
      "\n",
      "0: 320x320 3 Acnes, 19.9ms\n",
      "Speed: 0.8ms preprocess, 19.9ms inference, 0.3ms postprocess per image at shape (1, 3, 320, 320)\n",
      "\n",
      "0: 320x320 10 Acnes, 22.0ms\n",
      "Speed: 0.7ms preprocess, 22.0ms inference, 0.3ms postprocess per image at shape (1, 3, 320, 320)\n",
      "\n",
      "0: 320x320 4 Acnes, 35.2ms\n",
      "Speed: 0.9ms preprocess, 35.2ms inference, 0.3ms postprocess per image at shape (1, 3, 320, 320)\n",
      "\n",
      "0: 320x320 7 Acnes, 23.9ms\n",
      "Speed: 0.7ms preprocess, 23.9ms inference, 0.6ms postprocess per image at shape (1, 3, 320, 320)\n",
      "\n",
      "0: 320x320 9 Acnes, 20.0ms\n",
      "Speed: 0.9ms preprocess, 20.0ms inference, 0.4ms postprocess per image at shape (1, 3, 320, 320)\n",
      "\n",
      "0: 320x320 2 Acnes, 70.5ms\n",
      "Speed: 0.9ms preprocess, 70.5ms inference, 0.3ms postprocess per image at shape (1, 3, 320, 320)\n",
      "\n",
      "0: 320x320 17 Acnes, 20.0ms\n",
      "Speed: 0.6ms preprocess, 20.0ms inference, 0.4ms postprocess per image at shape (1, 3, 320, 320)\n",
      "\n",
      "0: 320x320 6 Acnes, 21.7ms\n",
      "Speed: 0.7ms preprocess, 21.7ms inference, 0.3ms postprocess per image at shape (1, 3, 320, 320)\n",
      "\n",
      "0: 320x320 5 Acnes, 22.3ms\n",
      "Speed: 0.7ms preprocess, 22.3ms inference, 0.3ms postprocess per image at shape (1, 3, 320, 320)\n",
      "\n",
      "0: 320x320 2 Acnes, 22.8ms\n",
      "Speed: 0.9ms preprocess, 22.8ms inference, 0.3ms postprocess per image at shape (1, 3, 320, 320)\n",
      "\n",
      "0: 320x320 (no detections), 25.1ms\n",
      "Speed: 0.7ms preprocess, 25.1ms inference, 0.3ms postprocess per image at shape (1, 3, 320, 320)\n",
      "\n",
      "0: 320x320 3 Acnes, 20.7ms\n",
      "Speed: 0.6ms preprocess, 20.7ms inference, 0.3ms postprocess per image at shape (1, 3, 320, 320)\n",
      "\n",
      "0: 320x320 12 Acnes, 21.4ms\n",
      "Speed: 0.7ms preprocess, 21.4ms inference, 0.3ms postprocess per image at shape (1, 3, 320, 320)\n",
      "\n",
      "0: 320x320 8 Acnes, 20.0ms\n",
      "Speed: 0.6ms preprocess, 20.0ms inference, 0.3ms postprocess per image at shape (1, 3, 320, 320)\n",
      "\n",
      "0: 320x320 9 Acnes, 21.4ms\n",
      "Speed: 0.9ms preprocess, 21.4ms inference, 0.3ms postprocess per image at shape (1, 3, 320, 320)\n",
      "\n",
      "0: 320x320 6 Acnes, 18.9ms\n",
      "Speed: 0.6ms preprocess, 18.9ms inference, 0.3ms postprocess per image at shape (1, 3, 320, 320)\n",
      "\n",
      "0: 320x320 13 Acnes, 20.6ms\n",
      "Speed: 0.7ms preprocess, 20.6ms inference, 0.3ms postprocess per image at shape (1, 3, 320, 320)\n",
      "\n",
      "0: 320x320 23 Acnes, 23.5ms\n",
      "Speed: 0.6ms preprocess, 23.5ms inference, 0.4ms postprocess per image at shape (1, 3, 320, 320)\n",
      "\n",
      "0: 320x320 10 Acnes, 21.0ms\n",
      "Speed: 0.7ms preprocess, 21.0ms inference, 0.3ms postprocess per image at shape (1, 3, 320, 320)\n",
      "\n",
      "0: 320x320 11 Acnes, 19.8ms\n",
      "Speed: 0.8ms preprocess, 19.8ms inference, 0.6ms postprocess per image at shape (1, 3, 320, 320)\n",
      "\n",
      "0: 320x320 6 Acnes, 20.2ms\n",
      "Speed: 0.6ms preprocess, 20.2ms inference, 0.3ms postprocess per image at shape (1, 3, 320, 320)\n",
      "\n",
      "0: 320x320 1 Acne, 20.9ms\n",
      "Speed: 0.8ms preprocess, 20.9ms inference, 0.3ms postprocess per image at shape (1, 3, 320, 320)\n",
      "\n",
      "0: 320x320 18 Acnes, 22.2ms\n",
      "Speed: 0.8ms preprocess, 22.2ms inference, 0.3ms postprocess per image at shape (1, 3, 320, 320)\n",
      "\n",
      "0: 320x320 2 Acnes, 21.0ms\n",
      "Speed: 0.8ms preprocess, 21.0ms inference, 0.4ms postprocess per image at shape (1, 3, 320, 320)\n",
      "\n",
      "0: 320x320 3 Acnes, 22.1ms\n",
      "Speed: 0.7ms preprocess, 22.1ms inference, 0.3ms postprocess per image at shape (1, 3, 320, 320)\n",
      "\n",
      "0: 320x320 3 Acnes, 22.5ms\n",
      "Speed: 0.9ms preprocess, 22.5ms inference, 0.3ms postprocess per image at shape (1, 3, 320, 320)\n",
      "\n",
      "0: 320x320 5 Acnes, 22.2ms\n",
      "Speed: 0.7ms preprocess, 22.2ms inference, 0.3ms postprocess per image at shape (1, 3, 320, 320)\n",
      "\n",
      "0: 320x320 7 Acnes, 21.2ms\n",
      "Speed: 0.6ms preprocess, 21.2ms inference, 0.4ms postprocess per image at shape (1, 3, 320, 320)\n",
      "\n",
      "0: 320x320 8 Acnes, 21.1ms\n",
      "Speed: 0.8ms preprocess, 21.1ms inference, 0.3ms postprocess per image at shape (1, 3, 320, 320)\n",
      "\n",
      "0: 320x320 4 Acnes, 20.3ms\n",
      "Speed: 1.0ms preprocess, 20.3ms inference, 0.3ms postprocess per image at shape (1, 3, 320, 320)\n",
      "\n",
      "0: 320x320 4 Acnes, 21.1ms\n",
      "Speed: 1.0ms preprocess, 21.1ms inference, 0.3ms postprocess per image at shape (1, 3, 320, 320)\n",
      "\n",
      "0: 320x320 2 Acnes, 20.3ms\n",
      "Speed: 0.6ms preprocess, 20.3ms inference, 0.3ms postprocess per image at shape (1, 3, 320, 320)\n",
      "\n",
      "0: 320x320 4 Acnes, 20.8ms\n",
      "Speed: 0.7ms preprocess, 20.8ms inference, 0.3ms postprocess per image at shape (1, 3, 320, 320)\n",
      "\n",
      "0: 320x320 7 Acnes, 19.9ms\n",
      "Speed: 0.8ms preprocess, 19.9ms inference, 0.3ms postprocess per image at shape (1, 3, 320, 320)\n",
      "\n",
      "0: 320x320 9 Acnes, 19.5ms\n",
      "Speed: 0.5ms preprocess, 19.5ms inference, 0.3ms postprocess per image at shape (1, 3, 320, 320)\n",
      "\n",
      "0: 320x320 31 Acnes, 24.4ms\n",
      "Speed: 0.5ms preprocess, 24.4ms inference, 0.4ms postprocess per image at shape (1, 3, 320, 320)\n",
      "\n",
      "0: 320x320 4 Acnes, 34.0ms\n",
      "Speed: 0.8ms preprocess, 34.0ms inference, 1.3ms postprocess per image at shape (1, 3, 320, 320)\n",
      "\n",
      "0: 320x320 6 Acnes, 28.0ms\n",
      "Speed: 0.8ms preprocess, 28.0ms inference, 0.8ms postprocess per image at shape (1, 3, 320, 320)\n",
      "\n",
      "0: 320x320 20 Acnes, 21.7ms\n",
      "Speed: 0.6ms preprocess, 21.7ms inference, 0.3ms postprocess per image at shape (1, 3, 320, 320)\n",
      "\n",
      "0: 320x320 3 Acnes, 20.0ms\n",
      "Speed: 0.7ms preprocess, 20.0ms inference, 0.3ms postprocess per image at shape (1, 3, 320, 320)\n",
      "\n",
      "0: 320x320 11 Acnes, 19.8ms\n",
      "Speed: 0.8ms preprocess, 19.8ms inference, 0.4ms postprocess per image at shape (1, 3, 320, 320)\n",
      "\n",
      "0: 320x320 14 Acnes, 20.3ms\n",
      "Speed: 0.8ms preprocess, 20.3ms inference, 0.3ms postprocess per image at shape (1, 3, 320, 320)\n",
      "\n",
      "0: 320x320 7 Acnes, 21.5ms\n",
      "Speed: 0.7ms preprocess, 21.5ms inference, 0.3ms postprocess per image at shape (1, 3, 320, 320)\n",
      "\n",
      "0: 320x320 4 Acnes, 19.3ms\n",
      "Speed: 0.6ms preprocess, 19.3ms inference, 0.3ms postprocess per image at shape (1, 3, 320, 320)\n",
      "\n",
      "0: 320x320 9 Acnes, 22.1ms\n",
      "Speed: 0.9ms preprocess, 22.1ms inference, 0.3ms postprocess per image at shape (1, 3, 320, 320)\n",
      "\n",
      "0: 320x320 4 Acnes, 28.0ms\n",
      "Speed: 1.0ms preprocess, 28.0ms inference, 0.4ms postprocess per image at shape (1, 3, 320, 320)\n",
      "\n",
      "0: 320x320 (no detections), 22.6ms\n",
      "Speed: 0.8ms preprocess, 22.6ms inference, 0.4ms postprocess per image at shape (1, 3, 320, 320)\n",
      "\n",
      "0: 320x320 26 Acnes, 22.7ms\n",
      "Speed: 0.7ms preprocess, 22.7ms inference, 0.3ms postprocess per image at shape (1, 3, 320, 320)\n",
      "\n",
      "0: 320x320 4 Acnes, 19.4ms\n",
      "Speed: 0.8ms preprocess, 19.4ms inference, 0.3ms postprocess per image at shape (1, 3, 320, 320)\n",
      "\n",
      "0: 320x320 7 Acnes, 20.2ms\n",
      "Speed: 0.6ms preprocess, 20.2ms inference, 0.3ms postprocess per image at shape (1, 3, 320, 320)\n",
      "\n",
      "0: 320x320 3 Acnes, 21.3ms\n",
      "Speed: 0.8ms preprocess, 21.3ms inference, 0.3ms postprocess per image at shape (1, 3, 320, 320)\n",
      "\n",
      "0: 320x320 2 Acnes, 37.5ms\n",
      "Speed: 0.8ms preprocess, 37.5ms inference, 0.6ms postprocess per image at shape (1, 3, 320, 320)\n",
      "\n",
      "0: 320x320 30 Acnes, 22.2ms\n",
      "Speed: 0.8ms preprocess, 22.2ms inference, 0.3ms postprocess per image at shape (1, 3, 320, 320)\n",
      "\n",
      "0: 320x320 4 Acnes, 21.6ms\n",
      "Speed: 0.9ms preprocess, 21.6ms inference, 0.3ms postprocess per image at shape (1, 3, 320, 320)\n",
      "\n",
      "0: 320x320 13 Acnes, 21.0ms\n",
      "Speed: 0.8ms preprocess, 21.0ms inference, 0.3ms postprocess per image at shape (1, 3, 320, 320)\n",
      "\n",
      "0: 320x320 14 Acnes, 34.4ms\n",
      "Speed: 0.7ms preprocess, 34.4ms inference, 0.7ms postprocess per image at shape (1, 3, 320, 320)\n",
      "\n",
      "0: 320x320 5 Acnes, 24.0ms\n",
      "Speed: 0.6ms preprocess, 24.0ms inference, 0.3ms postprocess per image at shape (1, 3, 320, 320)\n",
      "\n",
      "0: 320x320 7 Acnes, 22.8ms\n",
      "Speed: 0.8ms preprocess, 22.8ms inference, 0.3ms postprocess per image at shape (1, 3, 320, 320)\n",
      "\n",
      "0: 320x320 23 Acnes, 23.9ms\n",
      "Speed: 0.8ms preprocess, 23.9ms inference, 0.5ms postprocess per image at shape (1, 3, 320, 320)\n",
      "\n",
      "0: 320x320 12 Acnes, 22.7ms\n",
      "Speed: 0.8ms preprocess, 22.7ms inference, 0.3ms postprocess per image at shape (1, 3, 320, 320)\n",
      "\n",
      "0: 320x320 9 Acnes, 21.8ms\n",
      "Speed: 0.7ms preprocess, 21.8ms inference, 0.3ms postprocess per image at shape (1, 3, 320, 320)\n",
      "\n",
      "0: 320x320 12 Acnes, 24.0ms\n",
      "Speed: 0.6ms preprocess, 24.0ms inference, 0.7ms postprocess per image at shape (1, 3, 320, 320)\n",
      "\n",
      "0: 320x320 38 Acnes, 30.6ms\n",
      "Speed: 1.1ms preprocess, 30.6ms inference, 0.4ms postprocess per image at shape (1, 3, 320, 320)\n",
      "\n",
      "0: 320x320 7 Acnes, 26.3ms\n",
      "Speed: 0.8ms preprocess, 26.3ms inference, 0.3ms postprocess per image at shape (1, 3, 320, 320)\n",
      "\n",
      "0: 320x320 6 Acnes, 20.1ms\n",
      "Speed: 0.9ms preprocess, 20.1ms inference, 0.3ms postprocess per image at shape (1, 3, 320, 320)\n",
      "\n",
      "0: 320x320 5 Acnes, 21.9ms\n",
      "Speed: 0.6ms preprocess, 21.9ms inference, 0.3ms postprocess per image at shape (1, 3, 320, 320)\n",
      "\n",
      "0: 320x320 9 Acnes, 18.0ms\n",
      "Speed: 0.8ms preprocess, 18.0ms inference, 0.3ms postprocess per image at shape (1, 3, 320, 320)\n",
      "\n",
      "0: 320x320 16 Acnes, 20.3ms\n",
      "Speed: 0.6ms preprocess, 20.3ms inference, 0.3ms postprocess per image at shape (1, 3, 320, 320)\n",
      "\n",
      "0: 320x320 12 Acnes, 21.0ms\n",
      "Speed: 0.8ms preprocess, 21.0ms inference, 0.4ms postprocess per image at shape (1, 3, 320, 320)\n",
      "\n",
      "0: 320x320 4 Acnes, 20.9ms\n",
      "Speed: 0.7ms preprocess, 20.9ms inference, 0.4ms postprocess per image at shape (1, 3, 320, 320)\n",
      "\n",
      "0: 320x320 3 Acnes, 18.6ms\n",
      "Speed: 0.6ms preprocess, 18.6ms inference, 0.6ms postprocess per image at shape (1, 3, 320, 320)\n",
      "\n",
      "0: 320x320 4 Acnes, 21.2ms\n",
      "Speed: 0.7ms preprocess, 21.2ms inference, 0.4ms postprocess per image at shape (1, 3, 320, 320)\n",
      "\n",
      "0: 320x320 3 Acnes, 19.9ms\n",
      "Speed: 0.7ms preprocess, 19.9ms inference, 0.3ms postprocess per image at shape (1, 3, 320, 320)\n",
      "\n",
      "0: 320x320 1 Acne, 22.5ms\n",
      "Speed: 1.0ms preprocess, 22.5ms inference, 0.3ms postprocess per image at shape (1, 3, 320, 320)\n",
      "\n",
      "0: 320x320 11 Acnes, 19.1ms\n",
      "Speed: 0.7ms preprocess, 19.1ms inference, 0.3ms postprocess per image at shape (1, 3, 320, 320)\n",
      "\n",
      "0: 320x320 3 Acnes, 17.9ms\n",
      "Speed: 0.6ms preprocess, 17.9ms inference, 0.4ms postprocess per image at shape (1, 3, 320, 320)\n",
      "\n",
      "0: 320x320 7 Acnes, 24.9ms\n",
      "Speed: 0.9ms preprocess, 24.9ms inference, 0.3ms postprocess per image at shape (1, 3, 320, 320)\n",
      "\n",
      "0: 320x320 8 Acnes, 19.1ms\n",
      "Speed: 0.7ms preprocess, 19.1ms inference, 0.3ms postprocess per image at shape (1, 3, 320, 320)\n",
      "\n",
      "0: 320x320 2 Acnes, 19.8ms\n",
      "Speed: 0.7ms preprocess, 19.8ms inference, 0.3ms postprocess per image at shape (1, 3, 320, 320)\n",
      "\n",
      "0: 320x320 16 Acnes, 22.1ms\n",
      "Speed: 0.6ms preprocess, 22.1ms inference, 0.3ms postprocess per image at shape (1, 3, 320, 320)\n",
      "\n",
      "0: 320x320 9 Acnes, 22.5ms\n",
      "Speed: 1.1ms preprocess, 22.5ms inference, 0.5ms postprocess per image at shape (1, 3, 320, 320)\n",
      "\n",
      "0: 320x320 15 Acnes, 23.7ms\n",
      "Speed: 0.8ms preprocess, 23.7ms inference, 0.3ms postprocess per image at shape (1, 3, 320, 320)\n",
      "\n",
      "0: 320x320 8 Acnes, 21.1ms\n",
      "Speed: 0.8ms preprocess, 21.1ms inference, 0.5ms postprocess per image at shape (1, 3, 320, 320)\n",
      "\n",
      "0: 320x320 2 Acnes, 22.0ms\n",
      "Speed: 0.9ms preprocess, 22.0ms inference, 0.3ms postprocess per image at shape (1, 3, 320, 320)\n",
      "\n",
      "0: 320x320 6 Acnes, 22.6ms\n",
      "Speed: 0.7ms preprocess, 22.6ms inference, 0.3ms postprocess per image at shape (1, 3, 320, 320)\n",
      "\n",
      "0: 320x320 8 Acnes, 20.2ms\n",
      "Speed: 0.6ms preprocess, 20.2ms inference, 0.4ms postprocess per image at shape (1, 3, 320, 320)\n",
      "\n",
      "0: 320x320 8 Acnes, 20.6ms\n",
      "Speed: 0.9ms preprocess, 20.6ms inference, 0.3ms postprocess per image at shape (1, 3, 320, 320)\n",
      "\n",
      "0: 320x320 1 Acne, 19.3ms\n",
      "Speed: 0.6ms preprocess, 19.3ms inference, 0.4ms postprocess per image at shape (1, 3, 320, 320)\n",
      "\n",
      "0: 320x320 5 Acnes, 20.7ms\n",
      "Speed: 0.7ms preprocess, 20.7ms inference, 0.4ms postprocess per image at shape (1, 3, 320, 320)\n",
      "\n",
      "0: 320x320 6 Acnes, 23.1ms\n",
      "Speed: 0.7ms preprocess, 23.1ms inference, 0.3ms postprocess per image at shape (1, 3, 320, 320)\n",
      "\n",
      "0: 320x320 4 Acnes, 21.1ms\n",
      "Speed: 0.5ms preprocess, 21.1ms inference, 0.3ms postprocess per image at shape (1, 3, 320, 320)\n",
      "\n",
      "0: 320x320 1 Acne, 24.4ms\n",
      "Speed: 0.6ms preprocess, 24.4ms inference, 0.3ms postprocess per image at shape (1, 3, 320, 320)\n",
      "\n",
      "0: 320x320 40 Acnes, 22.2ms\n",
      "Speed: 0.9ms preprocess, 22.2ms inference, 0.3ms postprocess per image at shape (1, 3, 320, 320)\n",
      "\n",
      "0: 320x320 15 Acnes, 21.5ms\n",
      "Speed: 0.7ms preprocess, 21.5ms inference, 0.3ms postprocess per image at shape (1, 3, 320, 320)\n",
      "\n",
      "0: 320x320 13 Acnes, 24.2ms\n",
      "Speed: 0.6ms preprocess, 24.2ms inference, 0.3ms postprocess per image at shape (1, 3, 320, 320)\n",
      "\n",
      "0: 320x320 9 Acnes, 22.6ms\n",
      "Speed: 0.7ms preprocess, 22.6ms inference, 0.3ms postprocess per image at shape (1, 3, 320, 320)\n",
      "\n",
      "0: 320x320 17 Acnes, 20.1ms\n",
      "Speed: 0.9ms preprocess, 20.1ms inference, 0.3ms postprocess per image at shape (1, 3, 320, 320)\n",
      "\n",
      "0: 320x320 17 Acnes, 23.4ms\n",
      "Speed: 0.8ms preprocess, 23.4ms inference, 0.5ms postprocess per image at shape (1, 3, 320, 320)\n",
      "\n",
      "0: 320x320 2 Acnes, 20.8ms\n",
      "Speed: 0.9ms preprocess, 20.8ms inference, 0.3ms postprocess per image at shape (1, 3, 320, 320)\n",
      "\n",
      "0: 320x320 19 Acnes, 21.3ms\n",
      "Speed: 1.1ms preprocess, 21.3ms inference, 0.4ms postprocess per image at shape (1, 3, 320, 320)\n",
      "\n",
      "0: 320x320 5 Acnes, 35.5ms\n",
      "Speed: 0.8ms preprocess, 35.5ms inference, 0.5ms postprocess per image at shape (1, 3, 320, 320)\n",
      "\n",
      "0: 320x320 4 Acnes, 22.9ms\n",
      "Speed: 0.6ms preprocess, 22.9ms inference, 0.3ms postprocess per image at shape (1, 3, 320, 320)\n",
      "\n",
      "0: 320x320 10 Acnes, 24.5ms\n",
      "Speed: 0.9ms preprocess, 24.5ms inference, 0.3ms postprocess per image at shape (1, 3, 320, 320)\n",
      "\n",
      "0: 320x320 2 Acnes, 19.5ms\n",
      "Speed: 0.8ms preprocess, 19.5ms inference, 0.3ms postprocess per image at shape (1, 3, 320, 320)\n",
      "\n",
      "0: 320x320 1 Acne, 59.8ms\n",
      "Speed: 0.8ms preprocess, 59.8ms inference, 0.4ms postprocess per image at shape (1, 3, 320, 320)\n",
      "\n",
      "0: 320x320 4 Acnes, 29.2ms\n",
      "Speed: 5.5ms preprocess, 29.2ms inference, 0.7ms postprocess per image at shape (1, 3, 320, 320)\n",
      "\n",
      "0: 320x320 12 Acnes, 29.0ms\n",
      "Speed: 0.9ms preprocess, 29.0ms inference, 0.5ms postprocess per image at shape (1, 3, 320, 320)\n",
      "\n",
      "0: 320x320 14 Acnes, 26.8ms\n",
      "Speed: 0.6ms preprocess, 26.8ms inference, 0.3ms postprocess per image at shape (1, 3, 320, 320)\n",
      "\n",
      "0: 320x320 (no detections), 21.0ms\n",
      "Speed: 0.6ms preprocess, 21.0ms inference, 0.2ms postprocess per image at shape (1, 3, 320, 320)\n",
      "\n",
      "0: 320x320 13 Acnes, 16.6ms\n",
      "Speed: 0.7ms preprocess, 16.6ms inference, 0.4ms postprocess per image at shape (1, 3, 320, 320)\n",
      "\n",
      "0: 320x320 2 Acnes, 17.4ms\n",
      "Speed: 0.8ms preprocess, 17.4ms inference, 0.3ms postprocess per image at shape (1, 3, 320, 320)\n",
      "\n",
      "0: 320x320 10 Acnes, 17.4ms\n",
      "Speed: 0.6ms preprocess, 17.4ms inference, 0.3ms postprocess per image at shape (1, 3, 320, 320)\n",
      "\n",
      "0: 320x320 3 Acnes, 18.1ms\n",
      "Speed: 0.7ms preprocess, 18.1ms inference, 0.3ms postprocess per image at shape (1, 3, 320, 320)\n",
      "\n",
      "0: 320x320 7 Acnes, 16.9ms\n",
      "Speed: 0.7ms preprocess, 16.9ms inference, 0.5ms postprocess per image at shape (1, 3, 320, 320)\n",
      "\n",
      "0: 320x320 15 Acnes, 18.9ms\n",
      "Speed: 0.9ms preprocess, 18.9ms inference, 0.3ms postprocess per image at shape (1, 3, 320, 320)\n",
      "\n",
      "0: 320x320 7 Acnes, 23.2ms\n",
      "Speed: 0.8ms preprocess, 23.2ms inference, 0.3ms postprocess per image at shape (1, 3, 320, 320)\n",
      "\n",
      "0: 320x320 8 Acnes, 19.7ms\n",
      "Speed: 1.1ms preprocess, 19.7ms inference, 0.3ms postprocess per image at shape (1, 3, 320, 320)\n",
      "\n",
      "0: 320x320 2 Acnes, 19.3ms\n",
      "Speed: 0.6ms preprocess, 19.3ms inference, 0.3ms postprocess per image at shape (1, 3, 320, 320)\n",
      "\n",
      "0: 320x320 11 Acnes, 19.9ms\n",
      "Speed: 0.7ms preprocess, 19.9ms inference, 0.3ms postprocess per image at shape (1, 3, 320, 320)\n",
      "\n",
      "0: 320x320 11 Acnes, 19.1ms\n",
      "Speed: 0.7ms preprocess, 19.1ms inference, 0.3ms postprocess per image at shape (1, 3, 320, 320)\n",
      "\n",
      "0: 320x320 2 Acnes, 17.8ms\n",
      "Speed: 0.7ms preprocess, 17.8ms inference, 0.3ms postprocess per image at shape (1, 3, 320, 320)\n",
      "\n",
      "0: 320x320 22 Acnes, 19.1ms\n",
      "Speed: 0.8ms preprocess, 19.1ms inference, 0.3ms postprocess per image at shape (1, 3, 320, 320)\n",
      "\n",
      "0: 320x320 1 Acne, 18.1ms\n",
      "Speed: 0.6ms preprocess, 18.1ms inference, 0.3ms postprocess per image at shape (1, 3, 320, 320)\n",
      "\n",
      "0: 320x320 3 Acnes, 19.8ms\n",
      "Speed: 0.8ms preprocess, 19.8ms inference, 0.4ms postprocess per image at shape (1, 3, 320, 320)\n",
      "\n",
      "0: 320x320 9 Acnes, 19.5ms\n",
      "Speed: 0.8ms preprocess, 19.5ms inference, 0.4ms postprocess per image at shape (1, 3, 320, 320)\n",
      "\n",
      "0: 320x320 (no detections), 18.5ms\n",
      "Speed: 1.1ms preprocess, 18.5ms inference, 0.2ms postprocess per image at shape (1, 3, 320, 320)\n",
      "\n",
      "0: 320x320 6 Acnes, 18.6ms\n",
      "Speed: 0.8ms preprocess, 18.6ms inference, 0.3ms postprocess per image at shape (1, 3, 320, 320)\n",
      "\n",
      "0: 320x320 3 Acnes, 20.8ms\n",
      "Speed: 0.6ms preprocess, 20.8ms inference, 0.3ms postprocess per image at shape (1, 3, 320, 320)\n",
      "\n",
      "0: 320x320 17 Acnes, 18.1ms\n",
      "Speed: 0.6ms preprocess, 18.1ms inference, 0.3ms postprocess per image at shape (1, 3, 320, 320)\n",
      "\n",
      "0: 320x320 (no detections), 17.3ms\n",
      "Speed: 0.9ms preprocess, 17.3ms inference, 0.2ms postprocess per image at shape (1, 3, 320, 320)\n",
      "\n",
      "0: 320x320 (no detections), 22.0ms\n",
      "Speed: 0.5ms preprocess, 22.0ms inference, 0.2ms postprocess per image at shape (1, 3, 320, 320)\n",
      "\n",
      "0: 320x320 9 Acnes, 29.3ms\n",
      "Speed: 0.7ms preprocess, 29.3ms inference, 0.7ms postprocess per image at shape (1, 3, 320, 320)\n",
      "\n",
      "0: 320x320 3 Acnes, 21.9ms\n",
      "Speed: 1.5ms preprocess, 21.9ms inference, 0.3ms postprocess per image at shape (1, 3, 320, 320)\n",
      "\n",
      "0: 320x320 3 Acnes, 21.5ms\n",
      "Speed: 0.7ms preprocess, 21.5ms inference, 0.3ms postprocess per image at shape (1, 3, 320, 320)\n",
      "\n",
      "0: 320x320 8 Acnes, 22.3ms\n",
      "Speed: 0.7ms preprocess, 22.3ms inference, 0.3ms postprocess per image at shape (1, 3, 320, 320)\n",
      "\n",
      "0: 320x320 3 Acnes, 20.9ms\n",
      "Speed: 0.9ms preprocess, 20.9ms inference, 0.3ms postprocess per image at shape (1, 3, 320, 320)\n",
      "\n",
      "0: 320x320 2 Acnes, 18.4ms\n",
      "Speed: 0.7ms preprocess, 18.4ms inference, 0.4ms postprocess per image at shape (1, 3, 320, 320)\n",
      "\n",
      "0: 320x320 4 Acnes, 21.4ms\n",
      "Speed: 2.9ms preprocess, 21.4ms inference, 0.3ms postprocess per image at shape (1, 3, 320, 320)\n",
      "\n",
      "0: 320x320 7 Acnes, 19.5ms\n",
      "Speed: 0.7ms preprocess, 19.5ms inference, 0.3ms postprocess per image at shape (1, 3, 320, 320)\n",
      "\n",
      "0: 320x320 3 Acnes, 33.2ms\n",
      "Speed: 0.7ms preprocess, 33.2ms inference, 0.3ms postprocess per image at shape (1, 3, 320, 320)\n",
      "\n",
      "0: 320x320 2 Acnes, 21.2ms\n",
      "Speed: 0.8ms preprocess, 21.2ms inference, 0.3ms postprocess per image at shape (1, 3, 320, 320)\n",
      "\n",
      "0: 320x320 19 Acnes, 20.1ms\n",
      "Speed: 0.7ms preprocess, 20.1ms inference, 0.3ms postprocess per image at shape (1, 3, 320, 320)\n",
      "\n",
      "0: 320x320 2 Acnes, 18.4ms\n",
      "Speed: 0.9ms preprocess, 18.4ms inference, 0.3ms postprocess per image at shape (1, 3, 320, 320)\n",
      "\n",
      "0: 320x320 16 Acnes, 18.1ms\n",
      "Speed: 0.9ms preprocess, 18.1ms inference, 0.3ms postprocess per image at shape (1, 3, 320, 320)\n",
      "\n",
      "0: 320x320 2 Acnes, 16.4ms\n",
      "Speed: 0.7ms preprocess, 16.4ms inference, 0.3ms postprocess per image at shape (1, 3, 320, 320)\n",
      "\n",
      "0: 320x320 7 Acnes, 16.9ms\n",
      "Speed: 0.7ms preprocess, 16.9ms inference, 0.3ms postprocess per image at shape (1, 3, 320, 320)\n",
      "\n",
      "0: 320x320 2 Acnes, 20.8ms\n",
      "Speed: 0.8ms preprocess, 20.8ms inference, 0.3ms postprocess per image at shape (1, 3, 320, 320)\n",
      "\n",
      "0: 320x320 18 Acnes, 19.4ms\n",
      "Speed: 0.9ms preprocess, 19.4ms inference, 0.3ms postprocess per image at shape (1, 3, 320, 320)\n",
      "\n",
      "0: 320x320 5 Acnes, 18.1ms\n",
      "Speed: 1.0ms preprocess, 18.1ms inference, 0.4ms postprocess per image at shape (1, 3, 320, 320)\n",
      "\n",
      "0: 320x320 8 Acnes, 17.7ms\n",
      "Speed: 0.7ms preprocess, 17.7ms inference, 0.3ms postprocess per image at shape (1, 3, 320, 320)\n",
      "\n",
      "0: 320x320 2 Acnes, 17.9ms\n",
      "Speed: 0.6ms preprocess, 17.9ms inference, 0.3ms postprocess per image at shape (1, 3, 320, 320)\n",
      "\n",
      "0: 320x320 4 Acnes, 19.3ms\n",
      "Speed: 0.7ms preprocess, 19.3ms inference, 0.3ms postprocess per image at shape (1, 3, 320, 320)\n",
      "\n",
      "0: 320x320 3 Acnes, 19.2ms\n",
      "Speed: 0.8ms preprocess, 19.2ms inference, 0.3ms postprocess per image at shape (1, 3, 320, 320)\n",
      "\n",
      "0: 320x320 7 Acnes, 17.6ms\n",
      "Speed: 0.8ms preprocess, 17.6ms inference, 0.3ms postprocess per image at shape (1, 3, 320, 320)\n",
      "\n",
      "0: 320x320 29 Acnes, 17.3ms\n",
      "Speed: 0.7ms preprocess, 17.3ms inference, 0.3ms postprocess per image at shape (1, 3, 320, 320)\n",
      "\n",
      "0: 320x320 11 Acnes, 18.7ms\n",
      "Speed: 0.9ms preprocess, 18.7ms inference, 0.3ms postprocess per image at shape (1, 3, 320, 320)\n",
      "\n",
      "0: 320x320 11 Acnes, 18.5ms\n",
      "Speed: 0.6ms preprocess, 18.5ms inference, 0.3ms postprocess per image at shape (1, 3, 320, 320)\n",
      "\n",
      "0: 320x320 3 Acnes, 19.4ms\n",
      "Speed: 1.0ms preprocess, 19.4ms inference, 0.4ms postprocess per image at shape (1, 3, 320, 320)\n",
      "\n",
      "0: 320x320 10 Acnes, 18.9ms\n",
      "Speed: 0.7ms preprocess, 18.9ms inference, 0.4ms postprocess per image at shape (1, 3, 320, 320)\n",
      "\n",
      "0: 320x320 11 Acnes, 18.6ms\n",
      "Speed: 0.9ms preprocess, 18.6ms inference, 0.4ms postprocess per image at shape (1, 3, 320, 320)\n",
      "\n",
      "0: 320x320 1 Acne, 16.8ms\n",
      "Speed: 0.6ms preprocess, 16.8ms inference, 0.3ms postprocess per image at shape (1, 3, 320, 320)\n",
      "\n",
      "0: 320x320 8 Acnes, 18.1ms\n",
      "Speed: 0.6ms preprocess, 18.1ms inference, 0.3ms postprocess per image at shape (1, 3, 320, 320)\n",
      "\n",
      "0: 320x320 9 Acnes, 17.7ms\n",
      "Speed: 0.8ms preprocess, 17.7ms inference, 0.4ms postprocess per image at shape (1, 3, 320, 320)\n",
      "\n",
      "0: 320x320 2 Acnes, 17.8ms\n",
      "Speed: 0.8ms preprocess, 17.8ms inference, 0.3ms postprocess per image at shape (1, 3, 320, 320)\n",
      "\n",
      "0: 320x320 13 Acnes, 17.5ms\n",
      "Speed: 0.8ms preprocess, 17.5ms inference, 0.3ms postprocess per image at shape (1, 3, 320, 320)\n",
      "\n",
      "0: 320x320 9 Acnes, 19.0ms\n",
      "Speed: 0.6ms preprocess, 19.0ms inference, 0.4ms postprocess per image at shape (1, 3, 320, 320)\n",
      "\n",
      "0: 320x320 (no detections), 17.1ms\n",
      "Speed: 1.0ms preprocess, 17.1ms inference, 0.2ms postprocess per image at shape (1, 3, 320, 320)\n",
      "\n",
      "0: 320x320 6 Acnes, 18.1ms\n",
      "Speed: 0.6ms preprocess, 18.1ms inference, 0.4ms postprocess per image at shape (1, 3, 320, 320)\n",
      "\n",
      "0: 320x320 7 Acnes, 22.6ms\n",
      "Speed: 0.8ms preprocess, 22.6ms inference, 0.3ms postprocess per image at shape (1, 3, 320, 320)\n",
      "\n",
      "0: 320x320 1 Acne, 20.2ms\n",
      "Speed: 1.1ms preprocess, 20.2ms inference, 0.3ms postprocess per image at shape (1, 3, 320, 320)\n",
      "\n",
      "0: 320x320 4 Acnes, 18.7ms\n",
      "Speed: 0.8ms preprocess, 18.7ms inference, 0.3ms postprocess per image at shape (1, 3, 320, 320)\n",
      "\n",
      "0: 320x320 2 Acnes, 18.9ms\n",
      "Speed: 0.7ms preprocess, 18.9ms inference, 0.3ms postprocess per image at shape (1, 3, 320, 320)\n",
      "\n",
      "0: 320x320 3 Acnes, 19.6ms\n",
      "Speed: 1.1ms preprocess, 19.6ms inference, 0.4ms postprocess per image at shape (1, 3, 320, 320)\n",
      "\n",
      "0: 320x320 4 Acnes, 19.1ms\n",
      "Speed: 0.9ms preprocess, 19.1ms inference, 0.3ms postprocess per image at shape (1, 3, 320, 320)\n",
      "\n",
      "0: 320x320 12 Acnes, 19.2ms\n",
      "Speed: 0.8ms preprocess, 19.2ms inference, 0.3ms postprocess per image at shape (1, 3, 320, 320)\n",
      "\n",
      "0: 320x320 10 Acnes, 31.0ms\n",
      "Speed: 0.6ms preprocess, 31.0ms inference, 0.3ms postprocess per image at shape (1, 3, 320, 320)\n",
      "\n",
      "0: 320x320 1 Acne, 18.3ms\n",
      "Speed: 0.8ms preprocess, 18.3ms inference, 0.3ms postprocess per image at shape (1, 3, 320, 320)\n",
      "\n",
      "0: 320x320 8 Acnes, 19.9ms\n",
      "Speed: 0.7ms preprocess, 19.9ms inference, 0.4ms postprocess per image at shape (1, 3, 320, 320)\n",
      "\n",
      "0: 320x320 3 Acnes, 18.4ms\n",
      "Speed: 0.7ms preprocess, 18.4ms inference, 0.3ms postprocess per image at shape (1, 3, 320, 320)\n",
      "\n",
      "0: 320x320 3 Acnes, 18.5ms\n",
      "Speed: 0.6ms preprocess, 18.5ms inference, 0.3ms postprocess per image at shape (1, 3, 320, 320)\n",
      "\n",
      "0: 320x320 (no detections), 18.2ms\n",
      "Speed: 0.9ms preprocess, 18.2ms inference, 0.2ms postprocess per image at shape (1, 3, 320, 320)\n",
      "\n",
      "0: 320x320 2 Acnes, 23.8ms\n",
      "Speed: 0.7ms preprocess, 23.8ms inference, 0.5ms postprocess per image at shape (1, 3, 320, 320)\n",
      "\n",
      "0: 320x320 (no detections), 26.2ms\n",
      "Speed: 0.8ms preprocess, 26.2ms inference, 0.2ms postprocess per image at shape (1, 3, 320, 320)\n",
      "\n",
      "0: 320x320 3 Acnes, 31.5ms\n",
      "Speed: 1.1ms preprocess, 31.5ms inference, 0.3ms postprocess per image at shape (1, 3, 320, 320)\n",
      "\n",
      "0: 320x320 9 Acnes, 17.3ms\n",
      "Speed: 0.6ms preprocess, 17.3ms inference, 0.3ms postprocess per image at shape (1, 3, 320, 320)\n",
      "\n",
      "0: 320x320 1 Acne, 17.5ms\n",
      "Speed: 0.7ms preprocess, 17.5ms inference, 0.3ms postprocess per image at shape (1, 3, 320, 320)\n",
      "\n",
      "0: 320x320 3 Acnes, 17.4ms\n",
      "Speed: 0.5ms preprocess, 17.4ms inference, 0.3ms postprocess per image at shape (1, 3, 320, 320)\n",
      "\n",
      "0: 320x320 11 Acnes, 17.0ms\n",
      "Speed: 0.6ms preprocess, 17.0ms inference, 0.3ms postprocess per image at shape (1, 3, 320, 320)\n",
      "\n",
      "0: 320x320 4 Acnes, 17.0ms\n",
      "Speed: 0.8ms preprocess, 17.0ms inference, 0.3ms postprocess per image at shape (1, 3, 320, 320)\n",
      "\n",
      "0: 320x320 5 Acnes, 17.4ms\n",
      "Speed: 0.7ms preprocess, 17.4ms inference, 0.4ms postprocess per image at shape (1, 3, 320, 320)\n",
      "\n",
      "0: 320x320 21 Acnes, 19.5ms\n",
      "Speed: 0.6ms preprocess, 19.5ms inference, 0.3ms postprocess per image at shape (1, 3, 320, 320)\n",
      "\n",
      "0: 320x320 7 Acnes, 17.8ms\n",
      "Speed: 0.7ms preprocess, 17.8ms inference, 0.3ms postprocess per image at shape (1, 3, 320, 320)\n",
      "\n",
      "0: 320x320 8 Acnes, 17.8ms\n",
      "Speed: 0.7ms preprocess, 17.8ms inference, 0.4ms postprocess per image at shape (1, 3, 320, 320)\n",
      "\n",
      "0: 320x320 (no detections), 17.1ms\n",
      "Speed: 0.6ms preprocess, 17.1ms inference, 0.2ms postprocess per image at shape (1, 3, 320, 320)\n",
      "\n",
      "0: 320x320 23 Acnes, 17.4ms\n",
      "Speed: 0.8ms preprocess, 17.4ms inference, 0.3ms postprocess per image at shape (1, 3, 320, 320)\n",
      "\n",
      "0: 320x320 6 Acnes, 18.3ms\n",
      "Speed: 1.0ms preprocess, 18.3ms inference, 0.3ms postprocess per image at shape (1, 3, 320, 320)\n",
      "\n",
      "0: 320x320 3 Acnes, 19.1ms\n",
      "Speed: 0.7ms preprocess, 19.1ms inference, 0.3ms postprocess per image at shape (1, 3, 320, 320)\n",
      "\n",
      "0: 320x320 4 Acnes, 18.6ms\n",
      "Speed: 0.7ms preprocess, 18.6ms inference, 0.3ms postprocess per image at shape (1, 3, 320, 320)\n",
      "\n",
      "0: 320x320 6 Acnes, 18.0ms\n",
      "Speed: 0.9ms preprocess, 18.0ms inference, 0.3ms postprocess per image at shape (1, 3, 320, 320)\n",
      "\n",
      "0: 320x320 26 Acnes, 18.2ms\n",
      "Speed: 0.6ms preprocess, 18.2ms inference, 0.3ms postprocess per image at shape (1, 3, 320, 320)\n",
      "\n",
      "0: 320x320 18 Acnes, 18.8ms\n",
      "Speed: 0.7ms preprocess, 18.8ms inference, 0.3ms postprocess per image at shape (1, 3, 320, 320)\n",
      "\n",
      "0: 320x320 (no detections), 24.5ms\n",
      "Speed: 0.8ms preprocess, 24.5ms inference, 0.2ms postprocess per image at shape (1, 3, 320, 320)\n",
      "\n",
      "0: 320x320 8 Acnes, 20.3ms\n",
      "Speed: 0.7ms preprocess, 20.3ms inference, 0.3ms postprocess per image at shape (1, 3, 320, 320)\n",
      "\n",
      "0: 320x320 4 Acnes, 23.4ms\n",
      "Speed: 1.0ms preprocess, 23.4ms inference, 0.3ms postprocess per image at shape (1, 3, 320, 320)\n",
      "\n",
      "0: 320x320 (no detections), 23.9ms\n",
      "Speed: 0.6ms preprocess, 23.9ms inference, 0.2ms postprocess per image at shape (1, 3, 320, 320)\n",
      "\n",
      "0: 320x320 9 Acnes, 20.9ms\n",
      "Speed: 0.8ms preprocess, 20.9ms inference, 0.3ms postprocess per image at shape (1, 3, 320, 320)\n",
      "\n",
      "0: 320x320 3 Acnes, 25.5ms\n",
      "Speed: 1.0ms preprocess, 25.5ms inference, 0.4ms postprocess per image at shape (1, 3, 320, 320)\n",
      "\n",
      "0: 320x320 4 Acnes, 32.0ms\n",
      "Speed: 0.8ms preprocess, 32.0ms inference, 0.5ms postprocess per image at shape (1, 3, 320, 320)\n",
      "\n",
      "0: 320x320 11 Acnes, 20.8ms\n",
      "Speed: 0.6ms preprocess, 20.8ms inference, 0.3ms postprocess per image at shape (1, 3, 320, 320)\n",
      "\n",
      "0: 320x320 4 Acnes, 22.9ms\n",
      "Speed: 1.0ms preprocess, 22.9ms inference, 0.3ms postprocess per image at shape (1, 3, 320, 320)\n",
      "\n",
      "0: 320x320 7 Acnes, 24.7ms\n",
      "Speed: 0.6ms preprocess, 24.7ms inference, 0.4ms postprocess per image at shape (1, 3, 320, 320)\n",
      "\n",
      "0: 320x320 18 Acnes, 20.4ms\n",
      "Speed: 0.6ms preprocess, 20.4ms inference, 0.3ms postprocess per image at shape (1, 3, 320, 320)\n",
      "\n",
      "0: 320x320 11 Acnes, 21.3ms\n",
      "Speed: 0.7ms preprocess, 21.3ms inference, 0.3ms postprocess per image at shape (1, 3, 320, 320)\n",
      "\n",
      "0: 320x320 4 Acnes, 18.5ms\n",
      "Speed: 0.6ms preprocess, 18.5ms inference, 0.3ms postprocess per image at shape (1, 3, 320, 320)\n",
      "\n",
      "0: 320x320 15 Acnes, 24.6ms\n",
      "Speed: 1.0ms preprocess, 24.6ms inference, 0.4ms postprocess per image at shape (1, 3, 320, 320)\n",
      "\n",
      "0: 320x320 9 Acnes, 22.5ms\n",
      "Speed: 0.8ms preprocess, 22.5ms inference, 0.3ms postprocess per image at shape (1, 3, 320, 320)\n",
      "\n",
      "0: 320x320 8 Acnes, 22.1ms\n",
      "Speed: 0.5ms preprocess, 22.1ms inference, 0.4ms postprocess per image at shape (1, 3, 320, 320)\n",
      "\n",
      "0: 320x320 16 Acnes, 23.5ms\n",
      "Speed: 0.7ms preprocess, 23.5ms inference, 0.3ms postprocess per image at shape (1, 3, 320, 320)\n",
      "\n",
      "0: 320x320 4 Acnes, 20.0ms\n",
      "Speed: 0.8ms preprocess, 20.0ms inference, 0.3ms postprocess per image at shape (1, 3, 320, 320)\n",
      "\n",
      "0: 320x320 4 Acnes, 18.2ms\n",
      "Speed: 0.7ms preprocess, 18.2ms inference, 0.3ms postprocess per image at shape (1, 3, 320, 320)\n",
      "\n",
      "0: 320x320 4 Acnes, 20.0ms\n",
      "Speed: 0.6ms preprocess, 20.0ms inference, 0.3ms postprocess per image at shape (1, 3, 320, 320)\n",
      "\n",
      "0: 320x320 13 Acnes, 20.9ms\n",
      "Speed: 0.7ms preprocess, 20.9ms inference, 0.4ms postprocess per image at shape (1, 3, 320, 320)\n",
      "\n",
      "0: 320x320 9 Acnes, 20.4ms\n",
      "Speed: 0.7ms preprocess, 20.4ms inference, 0.3ms postprocess per image at shape (1, 3, 320, 320)\n",
      "\n",
      "0: 320x320 6 Acnes, 35.8ms\n",
      "Speed: 1.4ms preprocess, 35.8ms inference, 0.3ms postprocess per image at shape (1, 3, 320, 320)\n",
      "\n",
      "0: 320x320 7 Acnes, 23.2ms\n",
      "Speed: 0.6ms preprocess, 23.2ms inference, 0.3ms postprocess per image at shape (1, 3, 320, 320)\n",
      "\n",
      "0: 320x320 3 Acnes, 22.1ms\n",
      "Speed: 1.0ms preprocess, 22.1ms inference, 0.3ms postprocess per image at shape (1, 3, 320, 320)\n",
      "\n",
      "0: 320x320 5 Acnes, 22.0ms\n",
      "Speed: 1.1ms preprocess, 22.0ms inference, 0.3ms postprocess per image at shape (1, 3, 320, 320)\n",
      "\n",
      "0: 320x320 26 Acnes, 23.5ms\n",
      "Speed: 0.8ms preprocess, 23.5ms inference, 0.5ms postprocess per image at shape (1, 3, 320, 320)\n",
      "\n",
      "0: 320x320 11 Acnes, 22.3ms\n",
      "Speed: 0.6ms preprocess, 22.3ms inference, 0.3ms postprocess per image at shape (1, 3, 320, 320)\n",
      "\n",
      "0: 320x320 8 Acnes, 22.7ms\n",
      "Speed: 1.0ms preprocess, 22.7ms inference, 0.3ms postprocess per image at shape (1, 3, 320, 320)\n",
      "\n",
      "0: 320x320 3 Acnes, 23.6ms\n",
      "Speed: 0.8ms preprocess, 23.6ms inference, 0.3ms postprocess per image at shape (1, 3, 320, 320)\n",
      "\n",
      "0: 320x320 5 Acnes, 21.9ms\n",
      "Speed: 0.7ms preprocess, 21.9ms inference, 0.3ms postprocess per image at shape (1, 3, 320, 320)\n",
      "\n",
      "0: 320x320 7 Acnes, 24.1ms\n",
      "Speed: 0.9ms preprocess, 24.1ms inference, 0.3ms postprocess per image at shape (1, 3, 320, 320)\n",
      "\n",
      "0: 320x320 4 Acnes, 21.2ms\n",
      "Speed: 0.8ms preprocess, 21.2ms inference, 0.3ms postprocess per image at shape (1, 3, 320, 320)\n",
      "\n",
      "0: 320x320 7 Acnes, 21.4ms\n",
      "Speed: 0.7ms preprocess, 21.4ms inference, 0.7ms postprocess per image at shape (1, 3, 320, 320)\n",
      "\n",
      "0: 320x320 9 Acnes, 22.3ms\n",
      "Speed: 0.8ms preprocess, 22.3ms inference, 0.5ms postprocess per image at shape (1, 3, 320, 320)\n",
      "\n",
      "0: 320x320 4 Acnes, 24.6ms\n",
      "Speed: 0.6ms preprocess, 24.6ms inference, 0.3ms postprocess per image at shape (1, 3, 320, 320)\n",
      "\n",
      "0: 320x320 18 Acnes, 32.6ms\n",
      "Speed: 0.7ms preprocess, 32.6ms inference, 0.3ms postprocess per image at shape (1, 3, 320, 320)\n",
      "\n",
      "0: 320x320 11 Acnes, 21.5ms\n",
      "Speed: 1.0ms preprocess, 21.5ms inference, 0.4ms postprocess per image at shape (1, 3, 320, 320)\n",
      "\n",
      "0: 320x320 4 Acnes, 19.9ms\n",
      "Speed: 0.7ms preprocess, 19.9ms inference, 0.6ms postprocess per image at shape (1, 3, 320, 320)\n",
      "\n",
      "0: 320x320 6 Acnes, 20.5ms\n",
      "Speed: 0.5ms preprocess, 20.5ms inference, 0.4ms postprocess per image at shape (1, 3, 320, 320)\n",
      "\n",
      "0: 320x320 2 Acnes, 27.2ms\n",
      "Speed: 0.7ms preprocess, 27.2ms inference, 0.5ms postprocess per image at shape (1, 3, 320, 320)\n",
      "\n",
      "0: 320x320 5 Acnes, 25.7ms\n",
      "Speed: 0.7ms preprocess, 25.7ms inference, 0.3ms postprocess per image at shape (1, 3, 320, 320)\n",
      "\n",
      "0: 320x320 4 Acnes, 21.9ms\n",
      "Speed: 1.1ms preprocess, 21.9ms inference, 0.3ms postprocess per image at shape (1, 3, 320, 320)\n",
      "\n",
      "0: 320x320 1 Acne, 24.8ms\n",
      "Speed: 0.8ms preprocess, 24.8ms inference, 0.4ms postprocess per image at shape (1, 3, 320, 320)\n",
      "\n",
      "0: 320x320 9 Acnes, 24.0ms\n",
      "Speed: 0.8ms preprocess, 24.0ms inference, 0.5ms postprocess per image at shape (1, 3, 320, 320)\n",
      "\n",
      "0: 320x320 (no detections), 22.9ms\n",
      "Speed: 0.7ms preprocess, 22.9ms inference, 0.2ms postprocess per image at shape (1, 3, 320, 320)\n",
      "\n",
      "0: 320x320 4 Acnes, 20.5ms\n",
      "Speed: 0.6ms preprocess, 20.5ms inference, 0.4ms postprocess per image at shape (1, 3, 320, 320)\n",
      "\n",
      "0: 320x320 5 Acnes, 19.8ms\n",
      "Speed: 0.6ms preprocess, 19.8ms inference, 0.3ms postprocess per image at shape (1, 3, 320, 320)\n",
      "\n",
      "0: 320x320 10 Acnes, 19.9ms\n",
      "Speed: 0.8ms preprocess, 19.9ms inference, 0.4ms postprocess per image at shape (1, 3, 320, 320)\n",
      "\n",
      "0: 320x320 21 Acnes, 22.7ms\n",
      "Speed: 0.7ms preprocess, 22.7ms inference, 0.3ms postprocess per image at shape (1, 3, 320, 320)\n",
      "\n",
      "0: 320x320 13 Acnes, 22.6ms\n",
      "Speed: 0.6ms preprocess, 22.6ms inference, 0.4ms postprocess per image at shape (1, 3, 320, 320)\n",
      "\n",
      "0: 320x320 12 Acnes, 21.7ms\n",
      "Speed: 0.8ms preprocess, 21.7ms inference, 0.3ms postprocess per image at shape (1, 3, 320, 320)\n",
      "\n",
      "0: 320x320 6 Acnes, 23.7ms\n",
      "Speed: 0.8ms preprocess, 23.7ms inference, 0.3ms postprocess per image at shape (1, 3, 320, 320)\n",
      "\n",
      "0: 320x320 5 Acnes, 20.0ms\n",
      "Speed: 0.7ms preprocess, 20.0ms inference, 0.7ms postprocess per image at shape (1, 3, 320, 320)\n",
      "\n",
      "0: 320x320 8 Acnes, 23.1ms\n",
      "Speed: 0.8ms preprocess, 23.1ms inference, 0.3ms postprocess per image at shape (1, 3, 320, 320)\n",
      "\n",
      "0: 320x320 6 Acnes, 24.0ms\n",
      "Speed: 1.0ms preprocess, 24.0ms inference, 0.3ms postprocess per image at shape (1, 3, 320, 320)\n",
      "\n",
      "0: 320x320 11 Acnes, 23.4ms\n",
      "Speed: 0.8ms preprocess, 23.4ms inference, 0.3ms postprocess per image at shape (1, 3, 320, 320)\n",
      "\n",
      "0: 320x320 7 Acnes, 23.8ms\n",
      "Speed: 0.7ms preprocess, 23.8ms inference, 0.3ms postprocess per image at shape (1, 3, 320, 320)\n",
      "\n",
      "0: 320x320 9 Acnes, 22.1ms\n",
      "Speed: 1.0ms preprocess, 22.1ms inference, 0.3ms postprocess per image at shape (1, 3, 320, 320)\n",
      "\n",
      "0: 320x320 9 Acnes, 21.0ms\n",
      "Speed: 0.7ms preprocess, 21.0ms inference, 0.3ms postprocess per image at shape (1, 3, 320, 320)\n",
      "\n",
      "0: 320x320 17 Acnes, 23.5ms\n",
      "Speed: 0.7ms preprocess, 23.5ms inference, 0.4ms postprocess per image at shape (1, 3, 320, 320)\n",
      "\n",
      "0: 320x320 4 Acnes, 31.8ms\n",
      "Speed: 1.0ms preprocess, 31.8ms inference, 1.1ms postprocess per image at shape (1, 3, 320, 320)\n",
      "\n",
      "0: 320x320 5 Acnes, 22.0ms\n",
      "Speed: 1.4ms preprocess, 22.0ms inference, 0.4ms postprocess per image at shape (1, 3, 320, 320)\n",
      "\n",
      "0: 320x320 6 Acnes, 23.4ms\n",
      "Speed: 0.7ms preprocess, 23.4ms inference, 0.3ms postprocess per image at shape (1, 3, 320, 320)\n",
      "\n",
      "0: 320x320 10 Acnes, 20.1ms\n",
      "Speed: 0.6ms preprocess, 20.1ms inference, 0.3ms postprocess per image at shape (1, 3, 320, 320)\n",
      "\n",
      "0: 320x320 10 Acnes, 30.9ms\n",
      "Speed: 0.7ms preprocess, 30.9ms inference, 0.4ms postprocess per image at shape (1, 3, 320, 320)\n",
      "\n",
      "0: 320x320 4 Acnes, 19.0ms\n",
      "Speed: 0.7ms preprocess, 19.0ms inference, 0.3ms postprocess per image at shape (1, 3, 320, 320)\n",
      "\n",
      "0: 320x320 6 Acnes, 19.6ms\n",
      "Speed: 0.5ms preprocess, 19.6ms inference, 0.4ms postprocess per image at shape (1, 3, 320, 320)\n",
      "\n",
      "0: 320x320 16 Acnes, 21.7ms\n",
      "Speed: 0.9ms preprocess, 21.7ms inference, 0.4ms postprocess per image at shape (1, 3, 320, 320)\n",
      "\n",
      "0: 320x320 2 Acnes, 21.7ms\n",
      "Speed: 0.8ms preprocess, 21.7ms inference, 0.3ms postprocess per image at shape (1, 3, 320, 320)\n",
      "\n",
      "0: 320x320 6 Acnes, 18.6ms\n",
      "Speed: 0.7ms preprocess, 18.6ms inference, 0.3ms postprocess per image at shape (1, 3, 320, 320)\n",
      "\n",
      "0: 320x320 7 Acnes, 22.7ms\n",
      "Speed: 0.9ms preprocess, 22.7ms inference, 0.4ms postprocess per image at shape (1, 3, 320, 320)\n",
      "\n",
      "0: 320x320 14 Acnes, 23.7ms\n",
      "Speed: 0.6ms preprocess, 23.7ms inference, 0.3ms postprocess per image at shape (1, 3, 320, 320)\n",
      "\n",
      "0: 320x320 6 Acnes, 20.3ms\n",
      "Speed: 0.8ms preprocess, 20.3ms inference, 0.4ms postprocess per image at shape (1, 3, 320, 320)\n",
      "\n",
      "0: 320x320 4 Acnes, 22.2ms\n",
      "Speed: 0.8ms preprocess, 22.2ms inference, 0.3ms postprocess per image at shape (1, 3, 320, 320)\n",
      "\n",
      "0: 320x320 4 Acnes, 27.9ms\n",
      "Speed: 1.1ms preprocess, 27.9ms inference, 0.3ms postprocess per image at shape (1, 3, 320, 320)\n",
      "\n",
      "0: 320x320 3 Acnes, 20.2ms\n",
      "Speed: 0.8ms preprocess, 20.2ms inference, 0.4ms postprocess per image at shape (1, 3, 320, 320)\n",
      "\n",
      "0: 320x320 6 Acnes, 19.1ms\n",
      "Speed: 0.9ms preprocess, 19.1ms inference, 0.3ms postprocess per image at shape (1, 3, 320, 320)\n",
      "\n",
      "0: 320x320 4 Acnes, 21.8ms\n",
      "Speed: 0.6ms preprocess, 21.8ms inference, 0.3ms postprocess per image at shape (1, 3, 320, 320)\n",
      "\n",
      "0: 320x320 4 Acnes, 24.1ms\n",
      "Speed: 0.6ms preprocess, 24.1ms inference, 0.3ms postprocess per image at shape (1, 3, 320, 320)\n",
      "\n",
      "0: 320x320 6 Acnes, 19.6ms\n",
      "Speed: 0.8ms preprocess, 19.6ms inference, 0.3ms postprocess per image at shape (1, 3, 320, 320)\n",
      "\n",
      "0: 320x320 10 Acnes, 20.5ms\n",
      "Speed: 0.8ms preprocess, 20.5ms inference, 0.3ms postprocess per image at shape (1, 3, 320, 320)\n",
      "\n",
      "0: 320x320 8 Acnes, 21.4ms\n",
      "Speed: 0.7ms preprocess, 21.4ms inference, 0.5ms postprocess per image at shape (1, 3, 320, 320)\n",
      "\n",
      "0: 320x320 10 Acnes, 20.9ms\n",
      "Speed: 0.8ms preprocess, 20.9ms inference, 0.3ms postprocess per image at shape (1, 3, 320, 320)\n",
      "\n",
      "0: 320x320 8 Acnes, 25.4ms\n",
      "Speed: 0.7ms preprocess, 25.4ms inference, 0.4ms postprocess per image at shape (1, 3, 320, 320)\n",
      "\n",
      "0: 320x320 11 Acnes, 22.1ms\n",
      "Speed: 0.7ms preprocess, 22.1ms inference, 0.4ms postprocess per image at shape (1, 3, 320, 320)\n",
      "\n",
      "0: 320x320 13 Acnes, 21.0ms\n",
      "Speed: 0.6ms preprocess, 21.0ms inference, 0.3ms postprocess per image at shape (1, 3, 320, 320)\n",
      "\n",
      "0: 320x320 3 Acnes, 23.9ms\n",
      "Speed: 0.8ms preprocess, 23.9ms inference, 0.3ms postprocess per image at shape (1, 3, 320, 320)\n",
      "\n",
      "0: 320x320 7 Acnes, 22.2ms\n",
      "Speed: 0.8ms preprocess, 22.2ms inference, 0.3ms postprocess per image at shape (1, 3, 320, 320)\n",
      "\n",
      "0: 320x320 9 Acnes, 17.8ms\n",
      "Speed: 0.8ms preprocess, 17.8ms inference, 0.3ms postprocess per image at shape (1, 3, 320, 320)\n",
      "\n",
      "0: 320x320 4 Acnes, 19.7ms\n",
      "Speed: 0.6ms preprocess, 19.7ms inference, 0.4ms postprocess per image at shape (1, 3, 320, 320)\n",
      "\n",
      "0: 320x320 4 Acnes, 18.9ms\n",
      "Speed: 0.7ms preprocess, 18.9ms inference, 0.3ms postprocess per image at shape (1, 3, 320, 320)\n",
      "\n",
      "0: 320x320 2 Acnes, 18.6ms\n",
      "Speed: 0.7ms preprocess, 18.6ms inference, 0.3ms postprocess per image at shape (1, 3, 320, 320)\n",
      "\n",
      "0: 320x320 5 Acnes, 33.9ms\n",
      "Speed: 0.7ms preprocess, 33.9ms inference, 0.3ms postprocess per image at shape (1, 3, 320, 320)\n",
      "\n",
      "0: 320x320 12 Acnes, 20.5ms\n",
      "Speed: 0.6ms preprocess, 20.5ms inference, 0.6ms postprocess per image at shape (1, 3, 320, 320)\n",
      "\n",
      "0: 320x320 (no detections), 23.4ms\n",
      "Speed: 0.7ms preprocess, 23.4ms inference, 0.2ms postprocess per image at shape (1, 3, 320, 320)\n",
      "\n",
      "0: 320x320 3 Acnes, 22.3ms\n",
      "Speed: 1.1ms preprocess, 22.3ms inference, 0.3ms postprocess per image at shape (1, 3, 320, 320)\n",
      "\n",
      "0: 320x320 10 Acnes, 21.9ms\n",
      "Speed: 0.8ms preprocess, 21.9ms inference, 0.4ms postprocess per image at shape (1, 3, 320, 320)\n",
      "\n",
      "0: 320x320 2 Acnes, 24.2ms\n",
      "Speed: 0.6ms preprocess, 24.2ms inference, 0.3ms postprocess per image at shape (1, 3, 320, 320)\n",
      "\n",
      "0: 320x320 7 Acnes, 62.1ms\n",
      "Speed: 0.7ms preprocess, 62.1ms inference, 0.5ms postprocess per image at shape (1, 3, 320, 320)\n",
      "\n",
      "0: 320x320 6 Acnes, 21.7ms\n",
      "Speed: 1.3ms preprocess, 21.7ms inference, 0.3ms postprocess per image at shape (1, 3, 320, 320)\n",
      "\n",
      "0: 320x320 7 Acnes, 18.4ms\n",
      "Speed: 0.7ms preprocess, 18.4ms inference, 0.3ms postprocess per image at shape (1, 3, 320, 320)\n",
      "\n",
      "0: 320x320 4 Acnes, 23.4ms\n",
      "Speed: 0.9ms preprocess, 23.4ms inference, 0.3ms postprocess per image at shape (1, 3, 320, 320)\n",
      "\n",
      "0: 320x320 13 Acnes, 29.3ms\n",
      "Speed: 0.6ms preprocess, 29.3ms inference, 0.4ms postprocess per image at shape (1, 3, 320, 320)\n",
      "\n",
      "0: 320x320 2 Acnes, 30.1ms\n",
      "Speed: 0.8ms preprocess, 30.1ms inference, 0.6ms postprocess per image at shape (1, 3, 320, 320)\n",
      "\n",
      "0: 320x320 12 Acnes, 21.9ms\n",
      "Speed: 0.7ms preprocess, 21.9ms inference, 0.3ms postprocess per image at shape (1, 3, 320, 320)\n",
      "\n",
      "0: 320x320 5 Acnes, 19.2ms\n",
      "Speed: 0.9ms preprocess, 19.2ms inference, 0.4ms postprocess per image at shape (1, 3, 320, 320)\n",
      "\n",
      "0: 320x320 4 Acnes, 20.1ms\n",
      "Speed: 0.7ms preprocess, 20.1ms inference, 0.3ms postprocess per image at shape (1, 3, 320, 320)\n",
      "\n",
      "0: 320x320 2 Acnes, 21.1ms\n",
      "Speed: 0.6ms preprocess, 21.1ms inference, 0.5ms postprocess per image at shape (1, 3, 320, 320)\n",
      "\n",
      "0: 320x320 14 Acnes, 22.6ms\n",
      "Speed: 0.8ms preprocess, 22.6ms inference, 0.4ms postprocess per image at shape (1, 3, 320, 320)\n",
      "\n",
      "0: 320x320 13 Acnes, 19.5ms\n",
      "Speed: 0.7ms preprocess, 19.5ms inference, 0.3ms postprocess per image at shape (1, 3, 320, 320)\n",
      "\n",
      "0: 320x320 6 Acnes, 25.9ms\n",
      "Speed: 0.7ms preprocess, 25.9ms inference, 0.5ms postprocess per image at shape (1, 3, 320, 320)\n",
      "\n",
      "0: 320x320 19 Acnes, 36.7ms\n",
      "Speed: 1.2ms preprocess, 36.7ms inference, 0.6ms postprocess per image at shape (1, 3, 320, 320)\n",
      "\n",
      "0: 320x320 4 Acnes, 25.3ms\n",
      "Speed: 0.8ms preprocess, 25.3ms inference, 0.7ms postprocess per image at shape (1, 3, 320, 320)\n",
      "\n",
      "0: 320x320 3 Acnes, 19.7ms\n",
      "Speed: 0.7ms preprocess, 19.7ms inference, 0.3ms postprocess per image at shape (1, 3, 320, 320)\n",
      "\n",
      "0: 320x320 3 Acnes, 22.3ms\n",
      "Speed: 0.7ms preprocess, 22.3ms inference, 0.3ms postprocess per image at shape (1, 3, 320, 320)\n",
      "\n",
      "0: 320x320 9 Acnes, 19.7ms\n",
      "Speed: 0.8ms preprocess, 19.7ms inference, 0.3ms postprocess per image at shape (1, 3, 320, 320)\n",
      "\n",
      "0: 320x320 8 Acnes, 20.6ms\n",
      "Speed: 1.0ms preprocess, 20.6ms inference, 0.3ms postprocess per image at shape (1, 3, 320, 320)\n",
      "\n",
      "0: 320x320 (no detections), 25.2ms\n",
      "Speed: 0.7ms preprocess, 25.2ms inference, 0.2ms postprocess per image at shape (1, 3, 320, 320)\n",
      "\n",
      "0: 320x320 22 Acnes, 46.9ms\n",
      "Speed: 0.8ms preprocess, 46.9ms inference, 0.3ms postprocess per image at shape (1, 3, 320, 320)\n",
      "\n",
      "0: 320x320 1 Acne, 18.2ms\n",
      "Speed: 0.9ms preprocess, 18.2ms inference, 0.3ms postprocess per image at shape (1, 3, 320, 320)\n",
      "\n",
      "0: 320x320 (no detections), 19.3ms\n",
      "Speed: 0.8ms preprocess, 19.3ms inference, 0.2ms postprocess per image at shape (1, 3, 320, 320)\n",
      "\n",
      "0: 320x320 13 Acnes, 20.3ms\n",
      "Speed: 0.7ms preprocess, 20.3ms inference, 0.3ms postprocess per image at shape (1, 3, 320, 320)\n",
      "\n",
      "0: 320x320 31 Acnes, 19.7ms\n",
      "Speed: 0.7ms preprocess, 19.7ms inference, 0.3ms postprocess per image at shape (1, 3, 320, 320)\n",
      "\n",
      "0: 320x320 22 Acnes, 20.7ms\n",
      "Speed: 0.7ms preprocess, 20.7ms inference, 0.3ms postprocess per image at shape (1, 3, 320, 320)\n",
      "\n",
      "0: 320x320 5 Acnes, 18.3ms\n",
      "Speed: 0.6ms preprocess, 18.3ms inference, 0.3ms postprocess per image at shape (1, 3, 320, 320)\n",
      "\n",
      "0: 320x320 3 Acnes, 18.2ms\n",
      "Speed: 0.5ms preprocess, 18.2ms inference, 0.3ms postprocess per image at shape (1, 3, 320, 320)\n",
      "\n",
      "0: 320x320 8 Acnes, 23.0ms\n",
      "Speed: 0.6ms preprocess, 23.0ms inference, 0.3ms postprocess per image at shape (1, 3, 320, 320)\n",
      "\n",
      "0: 320x320 2 Acnes, 20.0ms\n",
      "Speed: 0.8ms preprocess, 20.0ms inference, 0.3ms postprocess per image at shape (1, 3, 320, 320)\n",
      "\n",
      "0: 320x320 19 Acnes, 20.7ms\n",
      "Speed: 0.6ms preprocess, 20.7ms inference, 0.3ms postprocess per image at shape (1, 3, 320, 320)\n",
      "\n",
      "0: 320x320 4 Acnes, 23.1ms\n",
      "Speed: 0.7ms preprocess, 23.1ms inference, 0.3ms postprocess per image at shape (1, 3, 320, 320)\n",
      "\n",
      "0: 320x320 10 Acnes, 35.5ms\n",
      "Speed: 0.7ms preprocess, 35.5ms inference, 0.3ms postprocess per image at shape (1, 3, 320, 320)\n",
      "\n",
      "0: 320x320 4 Acnes, 25.7ms\n",
      "Speed: 1.0ms preprocess, 25.7ms inference, 0.4ms postprocess per image at shape (1, 3, 320, 320)\n",
      "\n",
      "0: 320x320 5 Acnes, 23.5ms\n",
      "Speed: 0.7ms preprocess, 23.5ms inference, 0.3ms postprocess per image at shape (1, 3, 320, 320)\n",
      "\n",
      "0: 320x320 10 Acnes, 17.2ms\n",
      "Speed: 0.6ms preprocess, 17.2ms inference, 0.3ms postprocess per image at shape (1, 3, 320, 320)\n",
      "\n",
      "0: 320x320 8 Acnes, 19.3ms\n",
      "Speed: 0.8ms preprocess, 19.3ms inference, 0.3ms postprocess per image at shape (1, 3, 320, 320)\n",
      "\n",
      "0: 320x320 15 Acnes, 19.2ms\n",
      "Speed: 0.8ms preprocess, 19.2ms inference, 0.3ms postprocess per image at shape (1, 3, 320, 320)\n",
      "\n",
      "0: 320x320 16 Acnes, 23.0ms\n",
      "Speed: 1.1ms preprocess, 23.0ms inference, 0.4ms postprocess per image at shape (1, 3, 320, 320)\n",
      "\n",
      "0: 320x320 1 Acne, 16.6ms\n",
      "Speed: 1.0ms preprocess, 16.6ms inference, 0.5ms postprocess per image at shape (1, 3, 320, 320)\n",
      "\n",
      "0: 320x320 5 Acnes, 24.4ms\n",
      "Speed: 0.6ms preprocess, 24.4ms inference, 0.3ms postprocess per image at shape (1, 3, 320, 320)\n",
      "\n",
      "0: 320x320 6 Acnes, 20.7ms\n",
      "Speed: 0.8ms preprocess, 20.7ms inference, 0.3ms postprocess per image at shape (1, 3, 320, 320)\n",
      "\n",
      "0: 320x320 14 Acnes, 20.6ms\n",
      "Speed: 0.6ms preprocess, 20.6ms inference, 0.3ms postprocess per image at shape (1, 3, 320, 320)\n",
      "\n",
      "0: 320x320 21 Acnes, 19.8ms\n",
      "Speed: 0.9ms preprocess, 19.8ms inference, 0.4ms postprocess per image at shape (1, 3, 320, 320)\n",
      "\n",
      "0: 320x320 11 Acnes, 18.7ms\n",
      "Speed: 0.7ms preprocess, 18.7ms inference, 0.3ms postprocess per image at shape (1, 3, 320, 320)\n",
      "\n",
      "0: 320x320 14 Acnes, 30.6ms\n",
      "Speed: 0.7ms preprocess, 30.6ms inference, 0.3ms postprocess per image at shape (1, 3, 320, 320)\n",
      "\n",
      "0: 320x320 13 Acnes, 20.4ms\n",
      "Speed: 0.5ms preprocess, 20.4ms inference, 0.3ms postprocess per image at shape (1, 3, 320, 320)\n",
      "\n",
      "0: 320x320 20 Acnes, 22.7ms\n",
      "Speed: 0.8ms preprocess, 22.7ms inference, 0.3ms postprocess per image at shape (1, 3, 320, 320)\n",
      "\n",
      "0: 320x320 4 Acnes, 17.7ms\n",
      "Speed: 0.7ms preprocess, 17.7ms inference, 0.3ms postprocess per image at shape (1, 3, 320, 320)\n",
      "\n",
      "0: 320x320 1 Acne, 18.0ms\n",
      "Speed: 0.7ms preprocess, 18.0ms inference, 0.3ms postprocess per image at shape (1, 3, 320, 320)\n",
      "\n",
      "0: 320x320 4 Acnes, 78.7ms\n",
      "Speed: 1.9ms preprocess, 78.7ms inference, 0.6ms postprocess per image at shape (1, 3, 320, 320)\n",
      "\n",
      "0: 320x320 9 Acnes, 23.6ms\n",
      "Speed: 1.8ms preprocess, 23.6ms inference, 0.3ms postprocess per image at shape (1, 3, 320, 320)\n",
      "\n",
      "0: 320x320 3 Acnes, 18.7ms\n",
      "Speed: 0.6ms preprocess, 18.7ms inference, 0.3ms postprocess per image at shape (1, 3, 320, 320)\n",
      "\n",
      "0: 320x320 7 Acnes, 23.6ms\n",
      "Speed: 0.7ms preprocess, 23.6ms inference, 0.3ms postprocess per image at shape (1, 3, 320, 320)\n",
      "\n",
      "0: 320x320 4 Acnes, 17.8ms\n",
      "Speed: 0.7ms preprocess, 17.8ms inference, 0.3ms postprocess per image at shape (1, 3, 320, 320)\n",
      "\n",
      "0: 320x320 3 Acnes, 23.9ms\n",
      "Speed: 0.7ms preprocess, 23.9ms inference, 0.6ms postprocess per image at shape (1, 3, 320, 320)\n",
      "\n",
      "0: 320x320 1 Acne, 19.6ms\n",
      "Speed: 0.6ms preprocess, 19.6ms inference, 0.3ms postprocess per image at shape (1, 3, 320, 320)\n",
      "\n",
      "0: 320x320 1 Acne, 22.5ms\n",
      "Speed: 0.6ms preprocess, 22.5ms inference, 0.3ms postprocess per image at shape (1, 3, 320, 320)\n",
      "\n",
      "0: 320x320 12 Acnes, 20.5ms\n",
      "Speed: 1.0ms preprocess, 20.5ms inference, 0.3ms postprocess per image at shape (1, 3, 320, 320)\n",
      "\n",
      "0: 320x320 5 Acnes, 26.4ms\n",
      "Speed: 0.6ms preprocess, 26.4ms inference, 0.3ms postprocess per image at shape (1, 3, 320, 320)\n",
      "\n",
      "0: 320x320 6 Acnes, 26.0ms\n",
      "Speed: 0.8ms preprocess, 26.0ms inference, 0.3ms postprocess per image at shape (1, 3, 320, 320)\n",
      "\n",
      "0: 320x320 12 Acnes, 32.3ms\n",
      "Speed: 1.2ms preprocess, 32.3ms inference, 0.8ms postprocess per image at shape (1, 3, 320, 320)\n",
      "\n",
      "0: 320x320 2 Acnes, 23.9ms\n",
      "Speed: 0.6ms preprocess, 23.9ms inference, 0.3ms postprocess per image at shape (1, 3, 320, 320)\n",
      "\n",
      "0: 320x320 3 Acnes, 19.0ms\n",
      "Speed: 0.6ms preprocess, 19.0ms inference, 0.4ms postprocess per image at shape (1, 3, 320, 320)\n",
      "\n",
      "0: 320x320 8 Acnes, 20.3ms\n",
      "Speed: 0.6ms preprocess, 20.3ms inference, 0.3ms postprocess per image at shape (1, 3, 320, 320)\n",
      "\n",
      "0: 320x320 28 Acnes, 18.6ms\n",
      "Speed: 0.6ms preprocess, 18.6ms inference, 0.4ms postprocess per image at shape (1, 3, 320, 320)\n",
      "\n",
      "0: 320x320 5 Acnes, 22.6ms\n",
      "Speed: 0.6ms preprocess, 22.6ms inference, 0.3ms postprocess per image at shape (1, 3, 320, 320)\n",
      "\n",
      "0: 320x320 18 Acnes, 19.5ms\n",
      "Speed: 0.8ms preprocess, 19.5ms inference, 0.3ms postprocess per image at shape (1, 3, 320, 320)\n",
      "\n",
      "0: 320x320 4 Acnes, 21.3ms\n",
      "Speed: 0.6ms preprocess, 21.3ms inference, 0.3ms postprocess per image at shape (1, 3, 320, 320)\n",
      "\n",
      "0: 320x320 5 Acnes, 22.4ms\n",
      "Speed: 0.7ms preprocess, 22.4ms inference, 0.3ms postprocess per image at shape (1, 3, 320, 320)\n",
      "\n",
      "0: 320x320 1 Acne, 40.5ms\n",
      "Speed: 0.8ms preprocess, 40.5ms inference, 0.3ms postprocess per image at shape (1, 3, 320, 320)\n",
      "\n",
      "0: 320x320 6 Acnes, 33.9ms\n",
      "Speed: 0.7ms preprocess, 33.9ms inference, 0.4ms postprocess per image at shape (1, 3, 320, 320)\n",
      "\n",
      "0: 320x320 2 Acnes, 32.3ms\n",
      "Speed: 0.9ms preprocess, 32.3ms inference, 0.5ms postprocess per image at shape (1, 3, 320, 320)\n",
      "\n",
      "0: 320x320 7 Acnes, 23.8ms\n",
      "Speed: 0.9ms preprocess, 23.8ms inference, 0.6ms postprocess per image at shape (1, 3, 320, 320)\n",
      "\n",
      "0: 320x320 6 Acnes, 22.2ms\n",
      "Speed: 0.9ms preprocess, 22.2ms inference, 0.4ms postprocess per image at shape (1, 3, 320, 320)\n",
      "\n",
      "0: 320x320 7 Acnes, 19.5ms\n",
      "Speed: 0.8ms preprocess, 19.5ms inference, 0.3ms postprocess per image at shape (1, 3, 320, 320)\n",
      "\n",
      "0: 320x320 3 Acnes, 18.1ms\n",
      "Speed: 0.8ms preprocess, 18.1ms inference, 0.3ms postprocess per image at shape (1, 3, 320, 320)\n",
      "\n",
      "0: 320x320 7 Acnes, 20.9ms\n",
      "Speed: 0.7ms preprocess, 20.9ms inference, 0.3ms postprocess per image at shape (1, 3, 320, 320)\n",
      "\n",
      "0: 320x320 5 Acnes, 18.7ms\n",
      "Speed: 0.8ms preprocess, 18.7ms inference, 0.3ms postprocess per image at shape (1, 3, 320, 320)\n",
      "\n",
      "0: 320x320 4 Acnes, 19.1ms\n",
      "Speed: 0.7ms preprocess, 19.1ms inference, 0.3ms postprocess per image at shape (1, 3, 320, 320)\n",
      "\n",
      "0: 320x320 6 Acnes, 24.1ms\n",
      "Speed: 0.7ms preprocess, 24.1ms inference, 0.3ms postprocess per image at shape (1, 3, 320, 320)\n",
      "\n",
      "0: 320x320 5 Acnes, 22.3ms\n",
      "Speed: 0.8ms preprocess, 22.3ms inference, 0.3ms postprocess per image at shape (1, 3, 320, 320)\n",
      "\n",
      "0: 320x320 3 Acnes, 20.4ms\n",
      "Speed: 0.5ms preprocess, 20.4ms inference, 0.6ms postprocess per image at shape (1, 3, 320, 320)\n",
      "\n",
      "0: 320x320 7 Acnes, 20.0ms\n",
      "Speed: 0.6ms preprocess, 20.0ms inference, 0.3ms postprocess per image at shape (1, 3, 320, 320)\n",
      "\n",
      "0: 320x320 1 Acne, 21.0ms\n",
      "Speed: 0.7ms preprocess, 21.0ms inference, 0.3ms postprocess per image at shape (1, 3, 320, 320)\n",
      "\n",
      "0: 320x320 5 Acnes, 18.3ms\n",
      "Speed: 0.6ms preprocess, 18.3ms inference, 0.3ms postprocess per image at shape (1, 3, 320, 320)\n",
      "\n",
      "0: 320x320 7 Acnes, 20.6ms\n",
      "Speed: 0.8ms preprocess, 20.6ms inference, 0.3ms postprocess per image at shape (1, 3, 320, 320)\n",
      "\n",
      "0: 320x320 5 Acnes, 19.7ms\n",
      "Speed: 0.6ms preprocess, 19.7ms inference, 0.3ms postprocess per image at shape (1, 3, 320, 320)\n",
      "\n",
      "0: 320x320 7 Acnes, 19.1ms\n",
      "Speed: 0.8ms preprocess, 19.1ms inference, 0.3ms postprocess per image at shape (1, 3, 320, 320)\n",
      "\n",
      "0: 320x320 1 Acne, 22.2ms\n",
      "Speed: 1.1ms preprocess, 22.2ms inference, 0.4ms postprocess per image at shape (1, 3, 320, 320)\n",
      "\n",
      "0: 320x320 7 Acnes, 20.4ms\n",
      "Speed: 0.6ms preprocess, 20.4ms inference, 0.3ms postprocess per image at shape (1, 3, 320, 320)\n",
      "\n",
      "0: 320x320 (no detections), 21.8ms\n",
      "Speed: 0.6ms preprocess, 21.8ms inference, 0.2ms postprocess per image at shape (1, 3, 320, 320)\n",
      "\n",
      "0: 320x320 17 Acnes, 38.0ms\n",
      "Speed: 0.8ms preprocess, 38.0ms inference, 0.4ms postprocess per image at shape (1, 3, 320, 320)\n",
      "\n",
      "0: 320x320 4 Acnes, 30.6ms\n",
      "Speed: 1.0ms preprocess, 30.6ms inference, 0.3ms postprocess per image at shape (1, 3, 320, 320)\n",
      "\n",
      "0: 320x320 4 Acnes, 19.3ms\n",
      "Speed: 0.8ms preprocess, 19.3ms inference, 0.3ms postprocess per image at shape (1, 3, 320, 320)\n",
      "\n",
      "0: 320x320 5 Acnes, 21.2ms\n",
      "Speed: 0.7ms preprocess, 21.2ms inference, 0.3ms postprocess per image at shape (1, 3, 320, 320)\n",
      "\n",
      "0: 320x320 27 Acnes, 18.3ms\n",
      "Speed: 0.5ms preprocess, 18.3ms inference, 0.3ms postprocess per image at shape (1, 3, 320, 320)\n",
      "\n",
      "0: 320x320 7 Acnes, 17.5ms\n",
      "Speed: 0.5ms preprocess, 17.5ms inference, 0.3ms postprocess per image at shape (1, 3, 320, 320)\n",
      "\n",
      "0: 320x320 6 Acnes, 26.8ms\n",
      "Speed: 0.6ms preprocess, 26.8ms inference, 0.6ms postprocess per image at shape (1, 3, 320, 320)\n",
      "\n",
      "0: 320x320 10 Acnes, 41.8ms\n",
      "Speed: 0.9ms preprocess, 41.8ms inference, 0.4ms postprocess per image at shape (1, 3, 320, 320)\n",
      "\n",
      "0: 320x320 2 Acnes, 19.7ms\n",
      "Speed: 0.6ms preprocess, 19.7ms inference, 0.4ms postprocess per image at shape (1, 3, 320, 320)\n",
      "\n",
      "0: 320x320 3 Acnes, 25.6ms\n",
      "Speed: 0.9ms preprocess, 25.6ms inference, 0.3ms postprocess per image at shape (1, 3, 320, 320)\n",
      "\n",
      "0: 320x320 11 Acnes, 18.2ms\n",
      "Speed: 0.6ms preprocess, 18.2ms inference, 0.3ms postprocess per image at shape (1, 3, 320, 320)\n",
      "\n",
      "0: 320x320 (no detections), 20.0ms\n",
      "Speed: 0.8ms preprocess, 20.0ms inference, 0.2ms postprocess per image at shape (1, 3, 320, 320)\n",
      "\n",
      "0: 320x320 3 Acnes, 18.0ms\n",
      "Speed: 0.7ms preprocess, 18.0ms inference, 0.4ms postprocess per image at shape (1, 3, 320, 320)\n",
      "\n",
      "0: 320x320 6 Acnes, 21.9ms\n",
      "Speed: 0.6ms preprocess, 21.9ms inference, 0.3ms postprocess per image at shape (1, 3, 320, 320)\n",
      "\n",
      "0: 320x320 2 Acnes, 19.9ms\n",
      "Speed: 0.6ms preprocess, 19.9ms inference, 0.3ms postprocess per image at shape (1, 3, 320, 320)\n",
      "\n",
      "0: 320x320 23 Acnes, 21.7ms\n",
      "Speed: 0.8ms preprocess, 21.7ms inference, 0.3ms postprocess per image at shape (1, 3, 320, 320)\n",
      "\n",
      "0: 320x320 2 Acnes, 19.8ms\n",
      "Speed: 0.6ms preprocess, 19.8ms inference, 0.3ms postprocess per image at shape (1, 3, 320, 320)\n",
      "\n",
      "0: 320x320 6 Acnes, 20.9ms\n",
      "Speed: 0.7ms preprocess, 20.9ms inference, 0.4ms postprocess per image at shape (1, 3, 320, 320)\n",
      "\n",
      "0: 320x320 10 Acnes, 63.3ms\n",
      "Speed: 0.9ms preprocess, 63.3ms inference, 0.5ms postprocess per image at shape (1, 3, 320, 320)\n",
      "\n",
      "0: 320x320 19 Acnes, 19.1ms\n",
      "Speed: 0.6ms preprocess, 19.1ms inference, 0.3ms postprocess per image at shape (1, 3, 320, 320)\n",
      "\n",
      "0: 320x320 4 Acnes, 19.8ms\n",
      "Speed: 0.6ms preprocess, 19.8ms inference, 0.3ms postprocess per image at shape (1, 3, 320, 320)\n",
      "\n",
      "0: 320x320 10 Acnes, 21.8ms\n",
      "Speed: 0.6ms preprocess, 21.8ms inference, 0.5ms postprocess per image at shape (1, 3, 320, 320)\n",
      "\n",
      "0: 320x320 3 Acnes, 23.2ms\n",
      "Speed: 0.8ms preprocess, 23.2ms inference, 0.3ms postprocess per image at shape (1, 3, 320, 320)\n",
      "\n",
      "0: 320x320 5 Acnes, 36.2ms\n",
      "Speed: 0.8ms preprocess, 36.2ms inference, 0.7ms postprocess per image at shape (1, 3, 320, 320)\n",
      "\n",
      "0: 320x320 5 Acnes, 23.4ms\n",
      "Speed: 0.7ms preprocess, 23.4ms inference, 0.4ms postprocess per image at shape (1, 3, 320, 320)\n",
      "\n",
      "0: 320x320 12 Acnes, 24.3ms\n",
      "Speed: 0.8ms preprocess, 24.3ms inference, 0.3ms postprocess per image at shape (1, 3, 320, 320)\n",
      "\n",
      "0: 320x320 5 Acnes, 24.2ms\n",
      "Speed: 0.8ms preprocess, 24.2ms inference, 0.4ms postprocess per image at shape (1, 3, 320, 320)\n",
      "\n",
      "0: 320x320 4 Acnes, 23.7ms\n",
      "Speed: 0.6ms preprocess, 23.7ms inference, 0.3ms postprocess per image at shape (1, 3, 320, 320)\n",
      "\n",
      "0: 320x320 7 Acnes, 22.9ms\n",
      "Speed: 0.7ms preprocess, 22.9ms inference, 0.4ms postprocess per image at shape (1, 3, 320, 320)\n",
      "\n",
      "0: 320x320 2 Acnes, 24.8ms\n",
      "Speed: 0.6ms preprocess, 24.8ms inference, 0.3ms postprocess per image at shape (1, 3, 320, 320)\n",
      "\n",
      "0: 320x320 10 Acnes, 22.0ms\n",
      "Speed: 0.8ms preprocess, 22.0ms inference, 0.4ms postprocess per image at shape (1, 3, 320, 320)\n",
      "\n",
      "0: 320x320 5 Acnes, 23.6ms\n",
      "Speed: 0.7ms preprocess, 23.6ms inference, 0.4ms postprocess per image at shape (1, 3, 320, 320)\n",
      "\n",
      "0: 320x320 22 Acnes, 20.7ms\n",
      "Speed: 0.8ms preprocess, 20.7ms inference, 0.3ms postprocess per image at shape (1, 3, 320, 320)\n",
      "\n",
      "0: 320x320 4 Acnes, 30.7ms\n",
      "Speed: 1.2ms preprocess, 30.7ms inference, 0.8ms postprocess per image at shape (1, 3, 320, 320)\n",
      "\n",
      "0: 320x320 6 Acnes, 23.8ms\n",
      "Speed: 0.7ms preprocess, 23.8ms inference, 0.3ms postprocess per image at shape (1, 3, 320, 320)\n",
      "\n",
      "0: 320x320 4 Acnes, 21.5ms\n",
      "Speed: 0.7ms preprocess, 21.5ms inference, 0.3ms postprocess per image at shape (1, 3, 320, 320)\n",
      "\n",
      "0: 320x320 5 Acnes, 21.4ms\n",
      "Speed: 1.3ms preprocess, 21.4ms inference, 0.3ms postprocess per image at shape (1, 3, 320, 320)\n",
      "\n",
      "0: 320x320 2 Acnes, 23.3ms\n",
      "Speed: 0.7ms preprocess, 23.3ms inference, 0.7ms postprocess per image at shape (1, 3, 320, 320)\n",
      "\n",
      "0: 320x320 9 Acnes, 25.4ms\n",
      "Speed: 0.6ms preprocess, 25.4ms inference, 0.4ms postprocess per image at shape (1, 3, 320, 320)\n",
      "\n",
      "0: 320x320 7 Acnes, 22.8ms\n",
      "Speed: 0.6ms preprocess, 22.8ms inference, 0.4ms postprocess per image at shape (1, 3, 320, 320)\n",
      "\n",
      "0: 320x320 19 Acnes, 23.3ms\n",
      "Speed: 0.7ms preprocess, 23.3ms inference, 0.4ms postprocess per image at shape (1, 3, 320, 320)\n",
      "\n",
      "0: 320x320 2 Acnes, 22.1ms\n",
      "Speed: 1.1ms preprocess, 22.1ms inference, 0.3ms postprocess per image at shape (1, 3, 320, 320)\n",
      "\n",
      "0: 320x320 5 Acnes, 23.8ms\n",
      "Speed: 0.7ms preprocess, 23.8ms inference, 0.3ms postprocess per image at shape (1, 3, 320, 320)\n",
      "\n",
      "0: 320x320 9 Acnes, 21.7ms\n",
      "Speed: 1.1ms preprocess, 21.7ms inference, 0.7ms postprocess per image at shape (1, 3, 320, 320)\n",
      "\n",
      "0: 320x320 5 Acnes, 21.9ms\n",
      "Speed: 0.6ms preprocess, 21.9ms inference, 0.3ms postprocess per image at shape (1, 3, 320, 320)\n",
      "\n",
      "0: 320x320 2 Acnes, 36.2ms\n",
      "Speed: 0.8ms preprocess, 36.2ms inference, 0.4ms postprocess per image at shape (1, 3, 320, 320)\n",
      "\n",
      "0: 320x320 2 Acnes, 22.1ms\n",
      "Speed: 0.7ms preprocess, 22.1ms inference, 0.3ms postprocess per image at shape (1, 3, 320, 320)\n",
      "\n",
      "0: 320x320 15 Acnes, 22.9ms\n",
      "Speed: 0.9ms preprocess, 22.9ms inference, 0.5ms postprocess per image at shape (1, 3, 320, 320)\n",
      "\n",
      "0: 320x320 9 Acnes, 22.3ms\n",
      "Speed: 1.3ms preprocess, 22.3ms inference, 0.4ms postprocess per image at shape (1, 3, 320, 320)\n",
      "\n",
      "0: 320x320 13 Acnes, 19.9ms\n",
      "Speed: 1.0ms preprocess, 19.9ms inference, 0.3ms postprocess per image at shape (1, 3, 320, 320)\n",
      "\n",
      "0: 320x320 6 Acnes, 21.9ms\n",
      "Speed: 0.7ms preprocess, 21.9ms inference, 0.3ms postprocess per image at shape (1, 3, 320, 320)\n",
      "\n",
      "0: 320x320 7 Acnes, 25.4ms\n",
      "Speed: 0.8ms preprocess, 25.4ms inference, 0.5ms postprocess per image at shape (1, 3, 320, 320)\n",
      "\n",
      "0: 320x320 3 Acnes, 23.9ms\n",
      "Speed: 0.9ms preprocess, 23.9ms inference, 0.4ms postprocess per image at shape (1, 3, 320, 320)\n",
      "\n",
      "0: 320x320 11 Acnes, 24.7ms\n",
      "Speed: 1.9ms preprocess, 24.7ms inference, 0.3ms postprocess per image at shape (1, 3, 320, 320)\n",
      "\n",
      "0: 320x320 5 Acnes, 35.4ms\n",
      "Speed: 0.8ms preprocess, 35.4ms inference, 0.4ms postprocess per image at shape (1, 3, 320, 320)\n",
      "\n",
      "0: 320x320 (no detections), 29.2ms\n",
      "Speed: 1.2ms preprocess, 29.2ms inference, 0.2ms postprocess per image at shape (1, 3, 320, 320)\n",
      "\n",
      "0: 320x320 4 Acnes, 29.9ms\n",
      "Speed: 0.9ms preprocess, 29.9ms inference, 0.4ms postprocess per image at shape (1, 3, 320, 320)\n",
      "\n",
      "0: 320x320 3 Acnes, 28.6ms\n",
      "Speed: 2.0ms preprocess, 28.6ms inference, 0.4ms postprocess per image at shape (1, 3, 320, 320)\n",
      "\n",
      "0: 320x320 6 Acnes, 20.4ms\n",
      "Speed: 0.9ms preprocess, 20.4ms inference, 0.4ms postprocess per image at shape (1, 3, 320, 320)\n",
      "\n",
      "0: 320x320 5 Acnes, 26.0ms\n",
      "Speed: 0.7ms preprocess, 26.0ms inference, 0.3ms postprocess per image at shape (1, 3, 320, 320)\n",
      "\n",
      "0: 320x320 8 Acnes, 25.5ms\n",
      "Speed: 0.9ms preprocess, 25.5ms inference, 0.4ms postprocess per image at shape (1, 3, 320, 320)\n",
      "\n",
      "0: 320x320 21 Acnes, 21.5ms\n",
      "Speed: 0.7ms preprocess, 21.5ms inference, 0.3ms postprocess per image at shape (1, 3, 320, 320)\n",
      "\n",
      "0: 320x320 (no detections), 25.0ms\n",
      "Speed: 0.6ms preprocess, 25.0ms inference, 0.4ms postprocess per image at shape (1, 3, 320, 320)\n",
      "\n",
      "0: 320x320 11 Acnes, 24.0ms\n",
      "Speed: 1.2ms preprocess, 24.0ms inference, 0.3ms postprocess per image at shape (1, 3, 320, 320)\n",
      "\n",
      "0: 320x320 6 Acnes, 35.7ms\n",
      "Speed: 1.0ms preprocess, 35.7ms inference, 0.5ms postprocess per image at shape (1, 3, 320, 320)\n",
      "\n",
      "0: 320x320 1 Acne, 21.3ms\n",
      "Speed: 0.7ms preprocess, 21.3ms inference, 0.4ms postprocess per image at shape (1, 3, 320, 320)\n",
      "\n",
      "0: 320x320 4 Acnes, 22.0ms\n",
      "Speed: 1.2ms preprocess, 22.0ms inference, 0.3ms postprocess per image at shape (1, 3, 320, 320)\n",
      "\n",
      "0: 320x320 8 Acnes, 22.5ms\n",
      "Speed: 0.6ms preprocess, 22.5ms inference, 0.3ms postprocess per image at shape (1, 3, 320, 320)\n",
      "\n",
      "0: 320x320 6 Acnes, 34.0ms\n",
      "Speed: 28.4ms preprocess, 34.0ms inference, 0.3ms postprocess per image at shape (1, 3, 320, 320)\n",
      "\n",
      "0: 320x320 5 Acnes, 27.6ms\n",
      "Speed: 0.8ms preprocess, 27.6ms inference, 0.3ms postprocess per image at shape (1, 3, 320, 320)\n",
      "\n",
      "0: 320x320 5 Acnes, 23.5ms\n",
      "Speed: 0.7ms preprocess, 23.5ms inference, 0.4ms postprocess per image at shape (1, 3, 320, 320)\n",
      "\n",
      "0: 320x320 4 Acnes, 23.3ms\n",
      "Speed: 0.6ms preprocess, 23.3ms inference, 0.3ms postprocess per image at shape (1, 3, 320, 320)\n",
      "\n",
      "0: 320x320 4 Acnes, 21.4ms\n",
      "Speed: 0.8ms preprocess, 21.4ms inference, 0.3ms postprocess per image at shape (1, 3, 320, 320)\n",
      "\n",
      "0: 320x320 3 Acnes, 23.3ms\n",
      "Speed: 0.5ms preprocess, 23.3ms inference, 0.4ms postprocess per image at shape (1, 3, 320, 320)\n",
      "\n",
      "0: 320x320 13 Acnes, 22.7ms\n",
      "Speed: 0.8ms preprocess, 22.7ms inference, 0.3ms postprocess per image at shape (1, 3, 320, 320)\n",
      "\n",
      "0: 320x320 5 Acnes, 21.4ms\n",
      "Speed: 0.7ms preprocess, 21.4ms inference, 0.3ms postprocess per image at shape (1, 3, 320, 320)\n",
      "\n",
      "0: 320x320 3 Acnes, 29.6ms\n",
      "Speed: 0.8ms preprocess, 29.6ms inference, 0.4ms postprocess per image at shape (1, 3, 320, 320)\n",
      "\n",
      "0: 320x320 2 Acnes, 28.6ms\n",
      "Speed: 0.7ms preprocess, 28.6ms inference, 0.3ms postprocess per image at shape (1, 3, 320, 320)\n",
      "\n",
      "0: 320x320 4 Acnes, 21.9ms\n",
      "Speed: 0.7ms preprocess, 21.9ms inference, 0.6ms postprocess per image at shape (1, 3, 320, 320)\n",
      "\n",
      "0: 320x320 7 Acnes, 26.0ms\n",
      "Speed: 0.9ms preprocess, 26.0ms inference, 0.3ms postprocess per image at shape (1, 3, 320, 320)\n",
      "\n",
      "0: 320x320 16 Acnes, 21.3ms\n",
      "Speed: 0.8ms preprocess, 21.3ms inference, 0.3ms postprocess per image at shape (1, 3, 320, 320)\n",
      "\n",
      "0: 320x320 1 Acne, 26.2ms\n",
      "Speed: 1.1ms preprocess, 26.2ms inference, 0.3ms postprocess per image at shape (1, 3, 320, 320)\n",
      "\n",
      "0: 320x320 5 Acnes, 25.9ms\n",
      "Speed: 0.8ms preprocess, 25.9ms inference, 0.3ms postprocess per image at shape (1, 3, 320, 320)\n",
      "\n",
      "0: 320x320 9 Acnes, 37.7ms\n",
      "Speed: 0.7ms preprocess, 37.7ms inference, 0.4ms postprocess per image at shape (1, 3, 320, 320)\n",
      "\n",
      "0: 320x320 9 Acnes, 24.2ms\n",
      "Speed: 0.7ms preprocess, 24.2ms inference, 0.3ms postprocess per image at shape (1, 3, 320, 320)\n",
      "\n",
      "0: 320x320 3 Acnes, 22.0ms\n",
      "Speed: 0.7ms preprocess, 22.0ms inference, 0.5ms postprocess per image at shape (1, 3, 320, 320)\n",
      "\n",
      "0: 320x320 1 Acne, 23.3ms\n",
      "Speed: 1.2ms preprocess, 23.3ms inference, 0.3ms postprocess per image at shape (1, 3, 320, 320)\n",
      "\n",
      "0: 320x320 21 Acnes, 21.5ms\n",
      "Speed: 0.8ms preprocess, 21.5ms inference, 0.3ms postprocess per image at shape (1, 3, 320, 320)\n",
      "\n",
      "0: 320x320 7 Acnes, 23.0ms\n",
      "Speed: 0.7ms preprocess, 23.0ms inference, 0.3ms postprocess per image at shape (1, 3, 320, 320)\n",
      "\n",
      "0: 320x320 4 Acnes, 21.5ms\n",
      "Speed: 0.8ms preprocess, 21.5ms inference, 0.3ms postprocess per image at shape (1, 3, 320, 320)\n",
      "\n",
      "0: 320x320 1 Acne, 26.8ms\n",
      "Speed: 0.8ms preprocess, 26.8ms inference, 0.3ms postprocess per image at shape (1, 3, 320, 320)\n",
      "\n",
      "0: 320x320 8 Acnes, 22.5ms\n",
      "Speed: 0.9ms preprocess, 22.5ms inference, 0.4ms postprocess per image at shape (1, 3, 320, 320)\n",
      "\n",
      "0: 320x320 8 Acnes, 26.9ms\n",
      "Speed: 0.8ms preprocess, 26.9ms inference, 0.3ms postprocess per image at shape (1, 3, 320, 320)\n",
      "\n",
      "0: 320x320 2 Acnes, 21.9ms\n",
      "Speed: 0.6ms preprocess, 21.9ms inference, 0.7ms postprocess per image at shape (1, 3, 320, 320)\n",
      "\n",
      "0: 320x320 6 Acnes, 21.9ms\n",
      "Speed: 0.6ms preprocess, 21.9ms inference, 0.3ms postprocess per image at shape (1, 3, 320, 320)\n",
      "\n",
      "0: 320x320 3 Acnes, 22.0ms\n",
      "Speed: 0.8ms preprocess, 22.0ms inference, 0.4ms postprocess per image at shape (1, 3, 320, 320)\n",
      "\n",
      "0: 320x320 35 Acnes, 20.9ms\n",
      "Speed: 0.6ms preprocess, 20.9ms inference, 0.8ms postprocess per image at shape (1, 3, 320, 320)\n",
      "\n",
      "0: 320x320 3 Acnes, 24.8ms\n",
      "Speed: 0.8ms preprocess, 24.8ms inference, 0.4ms postprocess per image at shape (1, 3, 320, 320)\n",
      "\n",
      "0: 320x320 23 Acnes, 24.4ms\n",
      "Speed: 0.8ms preprocess, 24.4ms inference, 0.3ms postprocess per image at shape (1, 3, 320, 320)\n",
      "\n",
      "0: 320x320 13 Acnes, 23.2ms\n",
      "Speed: 0.9ms preprocess, 23.2ms inference, 0.4ms postprocess per image at shape (1, 3, 320, 320)\n",
      "\n",
      "0: 320x320 4 Acnes, 24.4ms\n",
      "Speed: 0.7ms preprocess, 24.4ms inference, 0.3ms postprocess per image at shape (1, 3, 320, 320)\n",
      "\n",
      "0: 320x320 15 Acnes, 25.3ms\n",
      "Speed: 0.6ms preprocess, 25.3ms inference, 0.4ms postprocess per image at shape (1, 3, 320, 320)\n",
      "\n",
      "0: 320x320 2 Acnes, 40.6ms\n",
      "Speed: 0.6ms preprocess, 40.6ms inference, 1.5ms postprocess per image at shape (1, 3, 320, 320)\n",
      "\n",
      "0: 320x320 6 Acnes, 34.6ms\n",
      "Speed: 1.5ms preprocess, 34.6ms inference, 0.3ms postprocess per image at shape (1, 3, 320, 320)\n",
      "\n",
      "0: 320x320 1 Acne, 22.7ms\n",
      "Speed: 0.8ms preprocess, 22.7ms inference, 0.4ms postprocess per image at shape (1, 3, 320, 320)\n",
      "\n",
      "0: 320x320 9 Acnes, 20.7ms\n",
      "Speed: 0.7ms preprocess, 20.7ms inference, 0.3ms postprocess per image at shape (1, 3, 320, 320)\n",
      "\n",
      "0: 320x320 9 Acnes, 20.3ms\n",
      "Speed: 0.8ms preprocess, 20.3ms inference, 0.3ms postprocess per image at shape (1, 3, 320, 320)\n",
      "\n",
      "0: 320x320 6 Acnes, 24.8ms\n",
      "Speed: 0.7ms preprocess, 24.8ms inference, 0.6ms postprocess per image at shape (1, 3, 320, 320)\n",
      "\n",
      "0: 320x320 5 Acnes, 22.3ms\n",
      "Speed: 0.7ms preprocess, 22.3ms inference, 0.7ms postprocess per image at shape (1, 3, 320, 320)\n",
      "\n",
      "0: 320x320 6 Acnes, 22.2ms\n",
      "Speed: 0.7ms preprocess, 22.2ms inference, 0.3ms postprocess per image at shape (1, 3, 320, 320)\n",
      "\n",
      "0: 320x320 2 Acnes, 24.4ms\n",
      "Speed: 0.8ms preprocess, 24.4ms inference, 0.3ms postprocess per image at shape (1, 3, 320, 320)\n",
      "\n",
      "0: 320x320 7 Acnes, 18.6ms\n",
      "Speed: 0.8ms preprocess, 18.6ms inference, 0.3ms postprocess per image at shape (1, 3, 320, 320)\n",
      "\n",
      "0: 320x320 8 Acnes, 20.9ms\n",
      "Speed: 0.8ms preprocess, 20.9ms inference, 0.3ms postprocess per image at shape (1, 3, 320, 320)\n",
      "\n",
      "0: 320x320 7 Acnes, 21.4ms\n",
      "Speed: 0.9ms preprocess, 21.4ms inference, 0.3ms postprocess per image at shape (1, 3, 320, 320)\n",
      "\n",
      "0: 320x320 3 Acnes, 18.8ms\n",
      "Speed: 0.6ms preprocess, 18.8ms inference, 0.3ms postprocess per image at shape (1, 3, 320, 320)\n",
      "\n",
      "0: 320x320 6 Acnes, 21.2ms\n",
      "Speed: 0.9ms preprocess, 21.2ms inference, 0.3ms postprocess per image at shape (1, 3, 320, 320)\n",
      "\n"
     ]
    },
    {
     "ename": "KeyboardInterrupt",
     "evalue": "",
     "output_type": "error",
     "traceback": [
      "\u001b[0;31m---------------------------------------------------------------------------\u001b[0m",
      "\u001b[0;31mKeyboardInterrupt\u001b[0m                         Traceback (most recent call last)",
      "Cell \u001b[0;32mIn[10], line 8\u001b[0m\n\u001b[1;32m      5\u001b[0m \u001b[38;5;66;03m#cvt color\u001b[39;00m\n\u001b[1;32m      6\u001b[0m image \u001b[38;5;241m=\u001b[39m cv2\u001b[38;5;241m.\u001b[39mcvtColor(image, cv2\u001b[38;5;241m.\u001b[39mCOLOR_BGR2RGB)\n\u001b[0;32m----> 8\u001b[0m detected_acne \u001b[38;5;241m=\u001b[39m \u001b[43myolo_model\u001b[49m\u001b[38;5;241;43m.\u001b[39;49m\u001b[43mpredict\u001b[49m\u001b[43m(\u001b[49m\u001b[43mimage\u001b[49m\u001b[43m)\u001b[49m\n\u001b[1;32m      9\u001b[0m \u001b[38;5;28;01mfor\u001b[39;00m acne \u001b[38;5;129;01min\u001b[39;00m detected_acne:\n\u001b[1;32m     10\u001b[0m   \u001b[38;5;28;01mfor\u001b[39;00m box \u001b[38;5;129;01min\u001b[39;00m acne\u001b[38;5;241m.\u001b[39mboxes:\n",
      "File \u001b[0;32m/opt/anaconda3/envs/ctp_env/lib/python3.12/site-packages/ultralytics/engine/model.py:554\u001b[0m, in \u001b[0;36mModel.predict\u001b[0;34m(self, source, stream, predictor, **kwargs)\u001b[0m\n\u001b[1;32m    552\u001b[0m \u001b[38;5;28;01mif\u001b[39;00m prompts \u001b[38;5;129;01mand\u001b[39;00m \u001b[38;5;28mhasattr\u001b[39m(\u001b[38;5;28mself\u001b[39m\u001b[38;5;241m.\u001b[39mpredictor, \u001b[38;5;124m\"\u001b[39m\u001b[38;5;124mset_prompts\u001b[39m\u001b[38;5;124m\"\u001b[39m):  \u001b[38;5;66;03m# for SAM-type models\u001b[39;00m\n\u001b[1;32m    553\u001b[0m     \u001b[38;5;28mself\u001b[39m\u001b[38;5;241m.\u001b[39mpredictor\u001b[38;5;241m.\u001b[39mset_prompts(prompts)\n\u001b[0;32m--> 554\u001b[0m \u001b[38;5;28;01mreturn\u001b[39;00m \u001b[38;5;28mself\u001b[39m\u001b[38;5;241m.\u001b[39mpredictor\u001b[38;5;241m.\u001b[39mpredict_cli(source\u001b[38;5;241m=\u001b[39msource) \u001b[38;5;28;01mif\u001b[39;00m is_cli \u001b[38;5;28;01melse\u001b[39;00m \u001b[38;5;28;43mself\u001b[39;49m\u001b[38;5;241;43m.\u001b[39;49m\u001b[43mpredictor\u001b[49m\u001b[43m(\u001b[49m\u001b[43msource\u001b[49m\u001b[38;5;241;43m=\u001b[39;49m\u001b[43msource\u001b[49m\u001b[43m,\u001b[49m\u001b[43m \u001b[49m\u001b[43mstream\u001b[49m\u001b[38;5;241;43m=\u001b[39;49m\u001b[43mstream\u001b[49m\u001b[43m)\u001b[49m\n",
      "File \u001b[0;32m/opt/anaconda3/envs/ctp_env/lib/python3.12/site-packages/ultralytics/engine/predictor.py:168\u001b[0m, in \u001b[0;36mBasePredictor.__call__\u001b[0;34m(self, source, model, stream, *args, **kwargs)\u001b[0m\n\u001b[1;32m    166\u001b[0m     \u001b[38;5;28;01mreturn\u001b[39;00m \u001b[38;5;28mself\u001b[39m\u001b[38;5;241m.\u001b[39mstream_inference(source, model, \u001b[38;5;241m*\u001b[39margs, \u001b[38;5;241m*\u001b[39m\u001b[38;5;241m*\u001b[39mkwargs)\n\u001b[1;32m    167\u001b[0m \u001b[38;5;28;01melse\u001b[39;00m:\n\u001b[0;32m--> 168\u001b[0m     \u001b[38;5;28;01mreturn\u001b[39;00m \u001b[38;5;28;43mlist\u001b[39;49m\u001b[43m(\u001b[49m\u001b[38;5;28;43mself\u001b[39;49m\u001b[38;5;241;43m.\u001b[39;49m\u001b[43mstream_inference\u001b[49m\u001b[43m(\u001b[49m\u001b[43msource\u001b[49m\u001b[43m,\u001b[49m\u001b[43m \u001b[49m\u001b[43mmodel\u001b[49m\u001b[43m,\u001b[49m\u001b[43m \u001b[49m\u001b[38;5;241;43m*\u001b[39;49m\u001b[43margs\u001b[49m\u001b[43m,\u001b[49m\u001b[43m \u001b[49m\u001b[38;5;241;43m*\u001b[39;49m\u001b[38;5;241;43m*\u001b[39;49m\u001b[43mkwargs\u001b[49m\u001b[43m)\u001b[49m\u001b[43m)\u001b[49m\n",
      "File \u001b[0;32m/opt/anaconda3/envs/ctp_env/lib/python3.12/site-packages/torch/utils/_contextlib.py:36\u001b[0m, in \u001b[0;36m_wrap_generator.<locals>.generator_context\u001b[0;34m(*args, **kwargs)\u001b[0m\n\u001b[1;32m     33\u001b[0m \u001b[38;5;28;01mtry\u001b[39;00m:\n\u001b[1;32m     34\u001b[0m     \u001b[38;5;66;03m# Issuing `None` to a generator fires it up\u001b[39;00m\n\u001b[1;32m     35\u001b[0m     \u001b[38;5;28;01mwith\u001b[39;00m ctx_factory():\n\u001b[0;32m---> 36\u001b[0m         response \u001b[38;5;241m=\u001b[39m \u001b[43mgen\u001b[49m\u001b[38;5;241;43m.\u001b[39;49m\u001b[43msend\u001b[49m\u001b[43m(\u001b[49m\u001b[38;5;28;43;01mNone\u001b[39;49;00m\u001b[43m)\u001b[49m\n\u001b[1;32m     38\u001b[0m     \u001b[38;5;28;01mwhile\u001b[39;00m \u001b[38;5;28;01mTrue\u001b[39;00m:\n\u001b[1;32m     39\u001b[0m         \u001b[38;5;28;01mtry\u001b[39;00m:\n\u001b[1;32m     40\u001b[0m             \u001b[38;5;66;03m# Forward the response to our caller and get its next request\u001b[39;00m\n",
      "File \u001b[0;32m/opt/anaconda3/envs/ctp_env/lib/python3.12/site-packages/ultralytics/engine/predictor.py:250\u001b[0m, in \u001b[0;36mBasePredictor.stream_inference\u001b[0;34m(self, source, model, *args, **kwargs)\u001b[0m\n\u001b[1;32m    248\u001b[0m \u001b[38;5;66;03m# Preprocess\u001b[39;00m\n\u001b[1;32m    249\u001b[0m \u001b[38;5;28;01mwith\u001b[39;00m profilers[\u001b[38;5;241m0\u001b[39m]:\n\u001b[0;32m--> 250\u001b[0m     im \u001b[38;5;241m=\u001b[39m \u001b[38;5;28;43mself\u001b[39;49m\u001b[38;5;241;43m.\u001b[39;49m\u001b[43mpreprocess\u001b[49m\u001b[43m(\u001b[49m\u001b[43mim0s\u001b[49m\u001b[43m)\u001b[49m\n\u001b[1;32m    252\u001b[0m \u001b[38;5;66;03m# Inference\u001b[39;00m\n\u001b[1;32m    253\u001b[0m \u001b[38;5;28;01mwith\u001b[39;00m profilers[\u001b[38;5;241m1\u001b[39m]:\n",
      "File \u001b[0;32m/opt/anaconda3/envs/ctp_env/lib/python3.12/site-packages/ultralytics/engine/predictor.py:126\u001b[0m, in \u001b[0;36mBasePredictor.preprocess\u001b[0;34m(self, im)\u001b[0m\n\u001b[1;32m    124\u001b[0m     im \u001b[38;5;241m=\u001b[39m np\u001b[38;5;241m.\u001b[39mstack(\u001b[38;5;28mself\u001b[39m\u001b[38;5;241m.\u001b[39mpre_transform(im))\n\u001b[1;32m    125\u001b[0m     im \u001b[38;5;241m=\u001b[39m im[\u001b[38;5;241m.\u001b[39m\u001b[38;5;241m.\u001b[39m\u001b[38;5;241m.\u001b[39m, ::\u001b[38;5;241m-\u001b[39m\u001b[38;5;241m1\u001b[39m]\u001b[38;5;241m.\u001b[39mtranspose((\u001b[38;5;241m0\u001b[39m, \u001b[38;5;241m3\u001b[39m, \u001b[38;5;241m1\u001b[39m, \u001b[38;5;241m2\u001b[39m))  \u001b[38;5;66;03m# BGR to RGB, BHWC to BCHW, (n, 3, h, w)\u001b[39;00m\n\u001b[0;32m--> 126\u001b[0m     im \u001b[38;5;241m=\u001b[39m \u001b[43mnp\u001b[49m\u001b[38;5;241;43m.\u001b[39;49m\u001b[43mascontiguousarray\u001b[49m\u001b[43m(\u001b[49m\u001b[43mim\u001b[49m\u001b[43m)\u001b[49m  \u001b[38;5;66;03m# contiguous\u001b[39;00m\n\u001b[1;32m    127\u001b[0m     im \u001b[38;5;241m=\u001b[39m torch\u001b[38;5;241m.\u001b[39mfrom_numpy(im)\n\u001b[1;32m    129\u001b[0m im \u001b[38;5;241m=\u001b[39m im\u001b[38;5;241m.\u001b[39mto(\u001b[38;5;28mself\u001b[39m\u001b[38;5;241m.\u001b[39mdevice)\n",
      "\u001b[0;31mKeyboardInterrupt\u001b[0m: "
     ]
    }
   ],
   "source": [
    "for image_file in os.listdir(input_dir):\n",
    "  image_path = os.path.join(input_dir, image_file)\n",
    "  image = cv2.imread(image_path)\n",
    "\n",
    "  #cvt color\n",
    "  image = cv2.cvtColor(image, cv2.COLOR_BGR2RGB)\n",
    "\n",
    "  detected_acne = yolo_model.predict(image)\n",
    "  \n",
    "  for acne in detected_acne:\n",
    "    for box in acne.boxes:\n",
    "      x1, y1, x2, y2 = map(int, box.xyxy[0])\n",
    "\n",
    "      cv2.rectangle(image, (x1, y1), (x2, y2), (255, 0 ,0), 2)\n",
    "\n",
    "  output_path = os.path.join(output_dir, image_file)\n",
    "  cv2.imwrite(output_path, image)\n"
   ]
  },
  {
   "cell_type": "code",
   "execution_count": null,
   "metadata": {},
   "outputs": [],
   "source": []
  }
 ],
 "metadata": {
  "kernelspec": {
   "display_name": "ctp_env",
   "language": "python",
   "name": "python3"
  },
  "language_info": {
   "codemirror_mode": {
    "name": "ipython",
    "version": 3
   },
   "file_extension": ".py",
   "mimetype": "text/x-python",
   "name": "python",
   "nbconvert_exporter": "python",
   "pygments_lexer": "ipython3",
   "version": "3.12.7"
  }
 },
 "nbformat": 4,
 "nbformat_minor": 2
}
